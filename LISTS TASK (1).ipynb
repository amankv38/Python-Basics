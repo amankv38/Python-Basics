{
 "cells": [
  {
   "cell_type": "code",
   "execution_count": 2,
   "id": "d9ef6aad",
   "metadata": {},
   "outputs": [
    {
     "name": "stdout",
     "output_type": "stream",
     "text": [
      "210\n"
     ]
    }
   ],
   "source": [
    "a=[10,20,30,40,50,60]\n",
    "print(sum(a))\n"
   ]
  },
  {
   "cell_type": "code",
   "execution_count": 3,
   "id": "4145c440",
   "metadata": {},
   "outputs": [
    {
     "name": "stdout",
     "output_type": "stream",
     "text": [
      "99\n"
     ]
    }
   ],
   "source": [
    "b=[88,77,66,99,55]\n",
    "print(max(b))"
   ]
  },
  {
   "cell_type": "code",
   "execution_count": 4,
   "id": "a06cb941",
   "metadata": {},
   "outputs": [
    {
     "name": "stdout",
     "output_type": "stream",
     "text": [
      "33\n"
     ]
    }
   ],
   "source": [
    "c=[88,77,44,33,99,77]\n",
    "print(min(c))"
   ]
  },
  {
   "cell_type": "code",
   "execution_count": 26,
   "id": "83092d33",
   "metadata": {},
   "outputs": [
    {
     "name": "stdout",
     "output_type": "stream",
     "text": [
      "List is Empty\n"
     ]
    }
   ],
   "source": [
    "d=[]\n",
    "k=len(d)\n",
    "if k>0:\n",
    "    print(\"List is not Empty\")\n",
    "else :\n",
    "    print(\"List is Empty\")\n"
   ]
  },
  {
   "cell_type": "code",
   "execution_count": 12,
   "id": "15beb182",
   "metadata": {},
   "outputs": [
    {
     "name": "stdout",
     "output_type": "stream",
     "text": [
      "['kannur', 664, 773]\n",
      "['kannur', 664, 773]\n"
     ]
    }
   ],
   "source": [
    "e=[\"kannur\",664,773]\n",
    "f=e\n",
    "print(e)\n",
    "print(f)"
   ]
  },
  {
   "cell_type": "code",
   "execution_count": 18,
   "id": "0b1c117a",
   "metadata": {},
   "outputs": [
    {
     "name": "stdout",
     "output_type": "stream",
     "text": [
      "[25, 'ak', 553, 2555]\n"
     ]
    }
   ],
   "source": [
    "g=[25,\"ak\",553]\n",
    "g.append(2555)\n",
    "print(g)"
   ]
  },
  {
   "cell_type": "code",
   "execution_count": 19,
   "id": "c685f68d",
   "metadata": {},
   "outputs": [
    {
     "name": "stdout",
     "output_type": "stream",
     "text": [
      "['ka', 663, 7773, 88, 288, 'amka', 777]\n"
     ]
    }
   ],
   "source": [
    "h=[\"ka\",663,7773,88]\n",
    "h.extend([288,\"amka\",777])\n",
    "print(h)"
   ]
  },
  {
   "cell_type": "code",
   "execution_count": 27,
   "id": "8b516194",
   "metadata": {},
   "outputs": [
    {
     "name": "stdout",
     "output_type": "stream",
     "text": [
      "['welcome', 'to', 'this', 'world']\n"
     ]
    }
   ],
   "source": [
    "i=\"welcome to this world\"\n",
    "h=i.split()\n",
    "print(h)"
   ]
  },
  {
   "cell_type": "code",
   "execution_count": 29,
   "id": "a1b54168",
   "metadata": {},
   "outputs": [
    {
     "name": "stdout",
     "output_type": "stream",
     "text": [
      "1\n",
      "3\n",
      "5\n",
      "7\n",
      "9\n",
      "11\n",
      "13\n",
      "15\n",
      "17\n",
      "19\n"
     ]
    }
   ],
   "source": [
    "a=[1,2,3,4,5,6,7,8,9,10,11,12,13,14,15,16,17,18,19,20]\n",
    "for i in a:\n",
    "    if i%2==1:\n",
    "        print(i)"
   ]
  },
  {
   "cell_type": "code",
   "execution_count": 32,
   "id": "5d3458e0",
   "metadata": {},
   "outputs": [
    {
     "name": "stdout",
     "output_type": "stream",
     "text": [
      "0 aman\n",
      "1 663\n",
      "2 47773\n",
      "3 777\n",
      "4 ahhaha\n",
      "5 777\n"
     ]
    }
   ],
   "source": [
    "mylist=[\"aman\",663,47773,777,\"ahhaha\",777]\n",
    "for i in range(len(mylist)):\n",
    "    value=mylist[i]\n",
    "    print(i,value)"
   ]
  },
  {
   "cell_type": "code",
   "execution_count": 39,
   "id": "b7ece6fb",
   "metadata": {},
   "outputs": [
    {
     "name": "stdout",
     "output_type": "stream",
     "text": [
      " program for concatenation\n"
     ]
    }
   ],
   "source": [
    "k=[\"program\",\"for\",\"concatenation\"]\n",
    "a=\"\"\n",
    "for i in k:\n",
    "    a=a+\" \" +i\n",
    "print(a)"
   ]
  },
  {
   "cell_type": "code",
   "execution_count": null,
   "id": "10240052",
   "metadata": {},
   "outputs": [],
   "source": []
  },
  {
   "cell_type": "code",
   "execution_count": null,
   "id": "e97ff31d",
   "metadata": {},
   "outputs": [],
   "source": []
  }
 ],
 "metadata": {
  "kernelspec": {
   "display_name": "Python 3 (ipykernel)",
   "language": "python",
   "name": "python3"
  },
  "language_info": {
   "codemirror_mode": {
    "name": "ipython",
    "version": 3
   },
   "file_extension": ".py",
   "mimetype": "text/x-python",
   "name": "python",
   "nbconvert_exporter": "python",
   "pygments_lexer": "ipython3",
   "version": "3.9.12"
  }
 },
 "nbformat": 4,
 "nbformat_minor": 5
}
