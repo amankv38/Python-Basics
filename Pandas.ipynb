{
 "cells": [
  {
   "cell_type": "code",
   "execution_count": 4,
   "id": "a773ce1e",
   "metadata": {},
   "outputs": [],
   "source": [
    "import pandas as pd\n",
    "import numpy as np"
   ]
  },
  {
   "cell_type": "code",
   "execution_count": 5,
   "id": "3b9769cf",
   "metadata": {},
   "outputs": [
    {
     "data": {
      "text/plain": [
       "0     1.0\n",
       "1     2.0\n",
       "2     3.0\n",
       "3     4.0\n",
       "4     5.0\n",
       "5     6.0\n",
       "6     NaN\n",
       "7     8.0\n",
       "8     9.0\n",
       "9    10.0\n",
       "dtype: float64"
      ]
     },
     "execution_count": 5,
     "metadata": {},
     "output_type": "execute_result"
    }
   ],
   "source": [
    "h=pd.Series([1,2,3,4,5,6,np.nan,8,9,10])\n",
    "h"
   ]
  },
  {
   "cell_type": "code",
   "execution_count": 9,
   "id": "13f2b89c",
   "metadata": {},
   "outputs": [
    {
     "data": {
      "text/plain": [
       "DatetimeIndex(['2022-07-10', '2022-07-11', '2022-07-12', '2022-07-13',\n",
       "               '2022-07-14', '2022-07-15', '2022-07-16', '2022-07-17',\n",
       "               '2022-07-18', '2022-07-19'],\n",
       "              dtype='datetime64[ns]', freq='D')"
      ]
     },
     "execution_count": 9,
     "metadata": {},
     "output_type": "execute_result"
    }
   ],
   "source": [
    "d=pd.date_range(\"20220710\",periods=10)\n",
    "d"
   ]
  },
  {
   "cell_type": "code",
   "execution_count": 14,
   "id": "f329bb5d",
   "metadata": {},
   "outputs": [
    {
     "data": {
      "text/html": [
       "<div>\n",
       "<style scoped>\n",
       "    .dataframe tbody tr th:only-of-type {\n",
       "        vertical-align: middle;\n",
       "    }\n",
       "\n",
       "    .dataframe tbody tr th {\n",
       "        vertical-align: top;\n",
       "    }\n",
       "\n",
       "    .dataframe thead th {\n",
       "        text-align: right;\n",
       "    }\n",
       "</style>\n",
       "<table border=\"1\" class=\"dataframe\">\n",
       "  <thead>\n",
       "    <tr style=\"text-align: right;\">\n",
       "      <th></th>\n",
       "      <th>A</th>\n",
       "      <th>B</th>\n",
       "      <th>C</th>\n",
       "      <th>D</th>\n",
       "    </tr>\n",
       "  </thead>\n",
       "  <tbody>\n",
       "    <tr>\n",
       "      <th>2022-07-10</th>\n",
       "      <td>-0.086240</td>\n",
       "      <td>1.540315</td>\n",
       "      <td>-1.543568</td>\n",
       "      <td>-1.651567</td>\n",
       "    </tr>\n",
       "    <tr>\n",
       "      <th>2022-07-11</th>\n",
       "      <td>1.570158</td>\n",
       "      <td>-0.100809</td>\n",
       "      <td>1.699249</td>\n",
       "      <td>-0.381755</td>\n",
       "    </tr>\n",
       "    <tr>\n",
       "      <th>2022-07-12</th>\n",
       "      <td>-1.749002</td>\n",
       "      <td>-0.383699</td>\n",
       "      <td>3.481185</td>\n",
       "      <td>-0.522400</td>\n",
       "    </tr>\n",
       "    <tr>\n",
       "      <th>2022-07-13</th>\n",
       "      <td>0.447234</td>\n",
       "      <td>-1.021315</td>\n",
       "      <td>0.954102</td>\n",
       "      <td>0.937115</td>\n",
       "    </tr>\n",
       "    <tr>\n",
       "      <th>2022-07-14</th>\n",
       "      <td>0.287312</td>\n",
       "      <td>-0.675432</td>\n",
       "      <td>1.186768</td>\n",
       "      <td>1.643871</td>\n",
       "    </tr>\n",
       "    <tr>\n",
       "      <th>2022-07-15</th>\n",
       "      <td>-1.504698</td>\n",
       "      <td>0.313148</td>\n",
       "      <td>1.766739</td>\n",
       "      <td>-0.559764</td>\n",
       "    </tr>\n",
       "    <tr>\n",
       "      <th>2022-07-16</th>\n",
       "      <td>1.531523</td>\n",
       "      <td>2.382437</td>\n",
       "      <td>0.901414</td>\n",
       "      <td>-0.871639</td>\n",
       "    </tr>\n",
       "    <tr>\n",
       "      <th>2022-07-17</th>\n",
       "      <td>-1.144551</td>\n",
       "      <td>0.916391</td>\n",
       "      <td>0.769646</td>\n",
       "      <td>-1.122408</td>\n",
       "    </tr>\n",
       "    <tr>\n",
       "      <th>2022-07-18</th>\n",
       "      <td>0.691156</td>\n",
       "      <td>-1.073313</td>\n",
       "      <td>0.234940</td>\n",
       "      <td>0.270976</td>\n",
       "    </tr>\n",
       "    <tr>\n",
       "      <th>2022-07-19</th>\n",
       "      <td>1.508223</td>\n",
       "      <td>0.732146</td>\n",
       "      <td>0.442070</td>\n",
       "      <td>-1.168332</td>\n",
       "    </tr>\n",
       "  </tbody>\n",
       "</table>\n",
       "</div>"
      ],
      "text/plain": [
       "                   A         B         C         D\n",
       "2022-07-10 -0.086240  1.540315 -1.543568 -1.651567\n",
       "2022-07-11  1.570158 -0.100809  1.699249 -0.381755\n",
       "2022-07-12 -1.749002 -0.383699  3.481185 -0.522400\n",
       "2022-07-13  0.447234 -1.021315  0.954102  0.937115\n",
       "2022-07-14  0.287312 -0.675432  1.186768  1.643871\n",
       "2022-07-15 -1.504698  0.313148  1.766739 -0.559764\n",
       "2022-07-16  1.531523  2.382437  0.901414 -0.871639\n",
       "2022-07-17 -1.144551  0.916391  0.769646 -1.122408\n",
       "2022-07-18  0.691156 -1.073313  0.234940  0.270976\n",
       "2022-07-19  1.508223  0.732146  0.442070 -1.168332"
      ]
     },
     "execution_count": 14,
     "metadata": {},
     "output_type": "execute_result"
    }
   ],
   "source": [
    "df=pd.DataFrame(np.random.randn(10,4),index=d,columns=[\"A\",\"B\",\"C\",\"D\"])\n",
    "df"
   ]
  },
  {
   "cell_type": "code",
   "execution_count": 18,
   "id": "24bfdd2a",
   "metadata": {},
   "outputs": [
    {
     "data": {
      "text/html": [
       "<div>\n",
       "<style scoped>\n",
       "    .dataframe tbody tr th:only-of-type {\n",
       "        vertical-align: middle;\n",
       "    }\n",
       "\n",
       "    .dataframe tbody tr th {\n",
       "        vertical-align: top;\n",
       "    }\n",
       "\n",
       "    .dataframe thead th {\n",
       "        text-align: right;\n",
       "    }\n",
       "</style>\n",
       "<table border=\"1\" class=\"dataframe\">\n",
       "  <thead>\n",
       "    <tr style=\"text-align: right;\">\n",
       "      <th></th>\n",
       "      <th>A</th>\n",
       "      <th>B</th>\n",
       "      <th>C</th>\n",
       "      <th>D</th>\n",
       "      <th>E</th>\n",
       "      <th>F</th>\n",
       "    </tr>\n",
       "  </thead>\n",
       "  <tbody>\n",
       "    <tr>\n",
       "      <th>0</th>\n",
       "      <td>1</td>\n",
       "      <td>2001-03-18</td>\n",
       "      <td>1.0</td>\n",
       "      <td>5</td>\n",
       "      <td>true</td>\n",
       "      <td>Pandas</td>\n",
       "    </tr>\n",
       "    <tr>\n",
       "      <th>1</th>\n",
       "      <td>2</td>\n",
       "      <td>2001-03-18</td>\n",
       "      <td>1.0</td>\n",
       "      <td>5</td>\n",
       "      <td>false</td>\n",
       "      <td>Pandas</td>\n",
       "    </tr>\n",
       "    <tr>\n",
       "      <th>2</th>\n",
       "      <td>3</td>\n",
       "      <td>2001-03-18</td>\n",
       "      <td>1.0</td>\n",
       "      <td>5</td>\n",
       "      <td>True</td>\n",
       "      <td>Pandas</td>\n",
       "    </tr>\n",
       "    <tr>\n",
       "      <th>3</th>\n",
       "      <td>4</td>\n",
       "      <td>2001-03-18</td>\n",
       "      <td>1.0</td>\n",
       "      <td>5</td>\n",
       "      <td>False</td>\n",
       "      <td>Pandas</td>\n",
       "    </tr>\n",
       "  </tbody>\n",
       "</table>\n",
       "</div>"
      ],
      "text/plain": [
       "   A          B    C  D      E       F\n",
       "0  1 2001-03-18  1.0  5   true  Pandas\n",
       "1  2 2001-03-18  1.0  5  false  Pandas\n",
       "2  3 2001-03-18  1.0  5   True  Pandas\n",
       "3  4 2001-03-18  1.0  5  False  Pandas"
      ]
     },
     "execution_count": 18,
     "metadata": {},
     "output_type": "execute_result"
    }
   ],
   "source": [
    "d1=pd.DataFrame({\n",
    "    \"A\":[1,2,3,4],\n",
    "    \"B\":pd.Timestamp(\"20010318\"),\n",
    "    \"C\":pd.Series(1,index=list(range(4)),dtype=\"float32\"),\n",
    "    \"D\":np.array([5]*4,dtype=\"int32\"),\n",
    "    \"E\":pd.Categorical([\"true\",\"false\",\"True\",\"False\"]),\n",
    "    \"F\":\"Pandas\"\n",
    "})\n",
    "d1"
   ]
  },
  {
   "cell_type": "code",
   "execution_count": 22,
   "id": "418d5045",
   "metadata": {},
   "outputs": [
    {
     "data": {
      "text/plain": [
       "A             int64\n",
       "B    datetime64[ns]\n",
       "C           float32\n",
       "D             int32\n",
       "E          category\n",
       "F            object\n",
       "dtype: object"
      ]
     },
     "execution_count": 22,
     "metadata": {},
     "output_type": "execute_result"
    }
   ],
   "source": [
    "d1.dtypes\n"
   ]
  },
  {
   "cell_type": "code",
   "execution_count": 25,
   "id": "cc13217b",
   "metadata": {},
   "outputs": [
    {
     "data": {
      "text/plain": [
       "A    float64\n",
       "B    float64\n",
       "C    float64\n",
       "D    float64\n",
       "dtype: object"
      ]
     },
     "execution_count": 25,
     "metadata": {},
     "output_type": "execute_result"
    }
   ],
   "source": [
    "df.dtypes"
   ]
  },
  {
   "cell_type": "code",
   "execution_count": 26,
   "id": "0a93bfac",
   "metadata": {},
   "outputs": [
    {
     "data": {
      "text/html": [
       "<div>\n",
       "<style scoped>\n",
       "    .dataframe tbody tr th:only-of-type {\n",
       "        vertical-align: middle;\n",
       "    }\n",
       "\n",
       "    .dataframe tbody tr th {\n",
       "        vertical-align: top;\n",
       "    }\n",
       "\n",
       "    .dataframe thead th {\n",
       "        text-align: right;\n",
       "    }\n",
       "</style>\n",
       "<table border=\"1\" class=\"dataframe\">\n",
       "  <thead>\n",
       "    <tr style=\"text-align: right;\">\n",
       "      <th></th>\n",
       "      <th>A</th>\n",
       "      <th>B</th>\n",
       "      <th>C</th>\n",
       "      <th>D</th>\n",
       "    </tr>\n",
       "  </thead>\n",
       "  <tbody>\n",
       "    <tr>\n",
       "      <th>2022-07-10</th>\n",
       "      <td>-0.086240</td>\n",
       "      <td>1.540315</td>\n",
       "      <td>-1.543568</td>\n",
       "      <td>-1.651567</td>\n",
       "    </tr>\n",
       "    <tr>\n",
       "      <th>2022-07-11</th>\n",
       "      <td>1.570158</td>\n",
       "      <td>-0.100809</td>\n",
       "      <td>1.699249</td>\n",
       "      <td>-0.381755</td>\n",
       "    </tr>\n",
       "    <tr>\n",
       "      <th>2022-07-12</th>\n",
       "      <td>-1.749002</td>\n",
       "      <td>-0.383699</td>\n",
       "      <td>3.481185</td>\n",
       "      <td>-0.522400</td>\n",
       "    </tr>\n",
       "    <tr>\n",
       "      <th>2022-07-13</th>\n",
       "      <td>0.447234</td>\n",
       "      <td>-1.021315</td>\n",
       "      <td>0.954102</td>\n",
       "      <td>0.937115</td>\n",
       "    </tr>\n",
       "    <tr>\n",
       "      <th>2022-07-14</th>\n",
       "      <td>0.287312</td>\n",
       "      <td>-0.675432</td>\n",
       "      <td>1.186768</td>\n",
       "      <td>1.643871</td>\n",
       "    </tr>\n",
       "  </tbody>\n",
       "</table>\n",
       "</div>"
      ],
      "text/plain": [
       "                   A         B         C         D\n",
       "2022-07-10 -0.086240  1.540315 -1.543568 -1.651567\n",
       "2022-07-11  1.570158 -0.100809  1.699249 -0.381755\n",
       "2022-07-12 -1.749002 -0.383699  3.481185 -0.522400\n",
       "2022-07-13  0.447234 -1.021315  0.954102  0.937115\n",
       "2022-07-14  0.287312 -0.675432  1.186768  1.643871"
      ]
     },
     "execution_count": 26,
     "metadata": {},
     "output_type": "execute_result"
    }
   ],
   "source": [
    "df.head()"
   ]
  },
  {
   "cell_type": "code",
   "execution_count": 27,
   "id": "f331d665",
   "metadata": {},
   "outputs": [
    {
     "data": {
      "text/html": [
       "<div>\n",
       "<style scoped>\n",
       "    .dataframe tbody tr th:only-of-type {\n",
       "        vertical-align: middle;\n",
       "    }\n",
       "\n",
       "    .dataframe tbody tr th {\n",
       "        vertical-align: top;\n",
       "    }\n",
       "\n",
       "    .dataframe thead th {\n",
       "        text-align: right;\n",
       "    }\n",
       "</style>\n",
       "<table border=\"1\" class=\"dataframe\">\n",
       "  <thead>\n",
       "    <tr style=\"text-align: right;\">\n",
       "      <th></th>\n",
       "      <th>A</th>\n",
       "      <th>B</th>\n",
       "      <th>C</th>\n",
       "      <th>D</th>\n",
       "    </tr>\n",
       "  </thead>\n",
       "  <tbody>\n",
       "    <tr>\n",
       "      <th>2022-07-15</th>\n",
       "      <td>-1.504698</td>\n",
       "      <td>0.313148</td>\n",
       "      <td>1.766739</td>\n",
       "      <td>-0.559764</td>\n",
       "    </tr>\n",
       "    <tr>\n",
       "      <th>2022-07-16</th>\n",
       "      <td>1.531523</td>\n",
       "      <td>2.382437</td>\n",
       "      <td>0.901414</td>\n",
       "      <td>-0.871639</td>\n",
       "    </tr>\n",
       "    <tr>\n",
       "      <th>2022-07-17</th>\n",
       "      <td>-1.144551</td>\n",
       "      <td>0.916391</td>\n",
       "      <td>0.769646</td>\n",
       "      <td>-1.122408</td>\n",
       "    </tr>\n",
       "    <tr>\n",
       "      <th>2022-07-18</th>\n",
       "      <td>0.691156</td>\n",
       "      <td>-1.073313</td>\n",
       "      <td>0.234940</td>\n",
       "      <td>0.270976</td>\n",
       "    </tr>\n",
       "    <tr>\n",
       "      <th>2022-07-19</th>\n",
       "      <td>1.508223</td>\n",
       "      <td>0.732146</td>\n",
       "      <td>0.442070</td>\n",
       "      <td>-1.168332</td>\n",
       "    </tr>\n",
       "  </tbody>\n",
       "</table>\n",
       "</div>"
      ],
      "text/plain": [
       "                   A         B         C         D\n",
       "2022-07-15 -1.504698  0.313148  1.766739 -0.559764\n",
       "2022-07-16  1.531523  2.382437  0.901414 -0.871639\n",
       "2022-07-17 -1.144551  0.916391  0.769646 -1.122408\n",
       "2022-07-18  0.691156 -1.073313  0.234940  0.270976\n",
       "2022-07-19  1.508223  0.732146  0.442070 -1.168332"
      ]
     },
     "execution_count": 27,
     "metadata": {},
     "output_type": "execute_result"
    }
   ],
   "source": [
    "df.tail()"
   ]
  },
  {
   "cell_type": "code",
   "execution_count": 29,
   "id": "a60a5b86",
   "metadata": {},
   "outputs": [
    {
     "data": {
      "text/plain": [
       "DatetimeIndex(['2022-07-10', '2022-07-11', '2022-07-12', '2022-07-13',\n",
       "               '2022-07-14', '2022-07-15', '2022-07-16', '2022-07-17',\n",
       "               '2022-07-18', '2022-07-19'],\n",
       "              dtype='datetime64[ns]', freq='D')"
      ]
     },
     "execution_count": 29,
     "metadata": {},
     "output_type": "execute_result"
    }
   ],
   "source": [
    "df.index"
   ]
  },
  {
   "cell_type": "code",
   "execution_count": 30,
   "id": "97ef8d05",
   "metadata": {},
   "outputs": [
    {
     "data": {
      "text/plain": [
       "Index(['A', 'B', 'C', 'D'], dtype='object')"
      ]
     },
     "execution_count": 30,
     "metadata": {},
     "output_type": "execute_result"
    }
   ],
   "source": [
    "df.columns"
   ]
  },
  {
   "cell_type": "code",
   "execution_count": 32,
   "id": "69e6b302",
   "metadata": {},
   "outputs": [
    {
     "data": {
      "text/plain": [
       "array([[-0.08623993,  1.54031548, -1.54356801, -1.6515674 ],\n",
       "       [ 1.5701583 , -0.10080885,  1.69924896, -0.38175498],\n",
       "       [-1.74900188, -0.38369905,  3.48118466, -0.52239996],\n",
       "       [ 0.44723429, -1.02131537,  0.95410236,  0.93711463],\n",
       "       [ 0.2873116 , -0.67543223,  1.18676809,  1.64387051],\n",
       "       [-1.50469799,  0.31314833,  1.76673859, -0.55976375],\n",
       "       [ 1.53152272,  2.38243732,  0.90141441, -0.8716394 ],\n",
       "       [-1.14455058,  0.91639056,  0.76964572, -1.12240838],\n",
       "       [ 0.69115622, -1.07331303,  0.23494049,  0.27097633],\n",
       "       [ 1.50822252,  0.73214572,  0.44207044, -1.16833175]])"
      ]
     },
     "execution_count": 32,
     "metadata": {},
     "output_type": "execute_result"
    }
   ],
   "source": [
    "df.to_numpy()"
   ]
  },
  {
   "cell_type": "code",
   "execution_count": 33,
   "id": "efb0590d",
   "metadata": {},
   "outputs": [
    {
     "data": {
      "text/html": [
       "<div>\n",
       "<style scoped>\n",
       "    .dataframe tbody tr th:only-of-type {\n",
       "        vertical-align: middle;\n",
       "    }\n",
       "\n",
       "    .dataframe tbody tr th {\n",
       "        vertical-align: top;\n",
       "    }\n",
       "\n",
       "    .dataframe thead th {\n",
       "        text-align: right;\n",
       "    }\n",
       "</style>\n",
       "<table border=\"1\" class=\"dataframe\">\n",
       "  <thead>\n",
       "    <tr style=\"text-align: right;\">\n",
       "      <th></th>\n",
       "      <th>A</th>\n",
       "      <th>B</th>\n",
       "      <th>C</th>\n",
       "      <th>D</th>\n",
       "    </tr>\n",
       "  </thead>\n",
       "  <tbody>\n",
       "    <tr>\n",
       "      <th>count</th>\n",
       "      <td>10.000000</td>\n",
       "      <td>10.000000</td>\n",
       "      <td>10.000000</td>\n",
       "      <td>10.000000</td>\n",
       "    </tr>\n",
       "    <tr>\n",
       "      <th>mean</th>\n",
       "      <td>0.155112</td>\n",
       "      <td>0.262987</td>\n",
       "      <td>0.989255</td>\n",
       "      <td>-0.342590</td>\n",
       "    </tr>\n",
       "    <tr>\n",
       "      <th>std</th>\n",
       "      <td>1.258126</td>\n",
       "      <td>1.137224</td>\n",
       "      <td>1.277935</td>\n",
       "      <td>1.017865</td>\n",
       "    </tr>\n",
       "    <tr>\n",
       "      <th>min</th>\n",
       "      <td>-1.749002</td>\n",
       "      <td>-1.073313</td>\n",
       "      <td>-1.543568</td>\n",
       "      <td>-1.651567</td>\n",
       "    </tr>\n",
       "    <tr>\n",
       "      <th>25%</th>\n",
       "      <td>-0.879973</td>\n",
       "      <td>-0.602499</td>\n",
       "      <td>0.523964</td>\n",
       "      <td>-1.059716</td>\n",
       "    </tr>\n",
       "    <tr>\n",
       "      <th>50%</th>\n",
       "      <td>0.367273</td>\n",
       "      <td>0.106170</td>\n",
       "      <td>0.927758</td>\n",
       "      <td>-0.541082</td>\n",
       "    </tr>\n",
       "    <tr>\n",
       "      <th>75%</th>\n",
       "      <td>1.303956</td>\n",
       "      <td>0.870329</td>\n",
       "      <td>1.571129</td>\n",
       "      <td>0.107794</td>\n",
       "    </tr>\n",
       "    <tr>\n",
       "      <th>max</th>\n",
       "      <td>1.570158</td>\n",
       "      <td>2.382437</td>\n",
       "      <td>3.481185</td>\n",
       "      <td>1.643871</td>\n",
       "    </tr>\n",
       "  </tbody>\n",
       "</table>\n",
       "</div>"
      ],
      "text/plain": [
       "               A          B          C          D\n",
       "count  10.000000  10.000000  10.000000  10.000000\n",
       "mean    0.155112   0.262987   0.989255  -0.342590\n",
       "std     1.258126   1.137224   1.277935   1.017865\n",
       "min    -1.749002  -1.073313  -1.543568  -1.651567\n",
       "25%    -0.879973  -0.602499   0.523964  -1.059716\n",
       "50%     0.367273   0.106170   0.927758  -0.541082\n",
       "75%     1.303956   0.870329   1.571129   0.107794\n",
       "max     1.570158   2.382437   3.481185   1.643871"
      ]
     },
     "execution_count": 33,
     "metadata": {},
     "output_type": "execute_result"
    }
   ],
   "source": [
    "df.describe()"
   ]
  },
  {
   "cell_type": "code",
   "execution_count": 34,
   "id": "e514873f",
   "metadata": {},
   "outputs": [
    {
     "name": "stdout",
     "output_type": "stream",
     "text": [
      "<class 'pandas.core.frame.DataFrame'>\n",
      "DatetimeIndex: 10 entries, 2022-07-10 to 2022-07-19\n",
      "Freq: D\n",
      "Data columns (total 4 columns):\n",
      " #   Column  Non-Null Count  Dtype  \n",
      "---  ------  --------------  -----  \n",
      " 0   A       10 non-null     float64\n",
      " 1   B       10 non-null     float64\n",
      " 2   C       10 non-null     float64\n",
      " 3   D       10 non-null     float64\n",
      "dtypes: float64(4)\n",
      "memory usage: 400.0 bytes\n"
     ]
    }
   ],
   "source": [
    "df.info()"
   ]
  },
  {
   "cell_type": "code",
   "execution_count": 35,
   "id": "cc5903c2",
   "metadata": {},
   "outputs": [
    {
     "data": {
      "text/plain": [
       "2022-07-10   -1.543568\n",
       "2022-07-11    1.699249\n",
       "2022-07-12    3.481185\n",
       "2022-07-13    0.954102\n",
       "2022-07-14    1.186768\n",
       "2022-07-15    1.766739\n",
       "2022-07-16    0.901414\n",
       "2022-07-17    0.769646\n",
       "2022-07-18    0.234940\n",
       "2022-07-19    0.442070\n",
       "Freq: D, Name: C, dtype: float64"
      ]
     },
     "execution_count": 35,
     "metadata": {},
     "output_type": "execute_result"
    }
   ],
   "source": [
    "df[\"C\"]"
   ]
  },
  {
   "cell_type": "code",
   "execution_count": 36,
   "id": "ee902b90",
   "metadata": {},
   "outputs": [
    {
     "data": {
      "text/html": [
       "<div>\n",
       "<style scoped>\n",
       "    .dataframe tbody tr th:only-of-type {\n",
       "        vertical-align: middle;\n",
       "    }\n",
       "\n",
       "    .dataframe tbody tr th {\n",
       "        vertical-align: top;\n",
       "    }\n",
       "\n",
       "    .dataframe thead th {\n",
       "        text-align: right;\n",
       "    }\n",
       "</style>\n",
       "<table border=\"1\" class=\"dataframe\">\n",
       "  <thead>\n",
       "    <tr style=\"text-align: right;\">\n",
       "      <th></th>\n",
       "      <th>A</th>\n",
       "      <th>B</th>\n",
       "      <th>C</th>\n",
       "      <th>D</th>\n",
       "    </tr>\n",
       "  </thead>\n",
       "  <tbody>\n",
       "    <tr>\n",
       "      <th>2022-07-10</th>\n",
       "      <td>-0.086240</td>\n",
       "      <td>1.540315</td>\n",
       "      <td>-1.543568</td>\n",
       "      <td>-1.651567</td>\n",
       "    </tr>\n",
       "    <tr>\n",
       "      <th>2022-07-11</th>\n",
       "      <td>1.570158</td>\n",
       "      <td>-0.100809</td>\n",
       "      <td>1.699249</td>\n",
       "      <td>-0.381755</td>\n",
       "    </tr>\n",
       "    <tr>\n",
       "      <th>2022-07-12</th>\n",
       "      <td>-1.749002</td>\n",
       "      <td>-0.383699</td>\n",
       "      <td>3.481185</td>\n",
       "      <td>-0.522400</td>\n",
       "    </tr>\n",
       "  </tbody>\n",
       "</table>\n",
       "</div>"
      ],
      "text/plain": [
       "                   A         B         C         D\n",
       "2022-07-10 -0.086240  1.540315 -1.543568 -1.651567\n",
       "2022-07-11  1.570158 -0.100809  1.699249 -0.381755\n",
       "2022-07-12 -1.749002 -0.383699  3.481185 -0.522400"
      ]
     },
     "execution_count": 36,
     "metadata": {},
     "output_type": "execute_result"
    }
   ],
   "source": [
    "df[0:3]"
   ]
  },
  {
   "cell_type": "code",
   "execution_count": 37,
   "id": "66239481",
   "metadata": {},
   "outputs": [
    {
     "data": {
      "text/plain": [
       "A   -0.086240\n",
       "B    1.540315\n",
       "C   -1.543568\n",
       "D   -1.651567\n",
       "Name: 2022-07-10 00:00:00, dtype: float64"
      ]
     },
     "execution_count": 37,
     "metadata": {},
     "output_type": "execute_result"
    }
   ],
   "source": [
    "\n",
    "df.loc[d[0]]"
   ]
  },
  {
   "cell_type": "code",
   "execution_count": 38,
   "id": "f6d64b2f",
   "metadata": {},
   "outputs": [
    {
     "data": {
      "text/html": [
       "<div>\n",
       "<style scoped>\n",
       "    .dataframe tbody tr th:only-of-type {\n",
       "        vertical-align: middle;\n",
       "    }\n",
       "\n",
       "    .dataframe tbody tr th {\n",
       "        vertical-align: top;\n",
       "    }\n",
       "\n",
       "    .dataframe thead th {\n",
       "        text-align: right;\n",
       "    }\n",
       "</style>\n",
       "<table border=\"1\" class=\"dataframe\">\n",
       "  <thead>\n",
       "    <tr style=\"text-align: right;\">\n",
       "      <th></th>\n",
       "      <th>A</th>\n",
       "      <th>C</th>\n",
       "    </tr>\n",
       "  </thead>\n",
       "  <tbody>\n",
       "    <tr>\n",
       "      <th>2022-07-10</th>\n",
       "      <td>-0.086240</td>\n",
       "      <td>-1.543568</td>\n",
       "    </tr>\n",
       "    <tr>\n",
       "      <th>2022-07-11</th>\n",
       "      <td>1.570158</td>\n",
       "      <td>1.699249</td>\n",
       "    </tr>\n",
       "    <tr>\n",
       "      <th>2022-07-12</th>\n",
       "      <td>-1.749002</td>\n",
       "      <td>3.481185</td>\n",
       "    </tr>\n",
       "    <tr>\n",
       "      <th>2022-07-13</th>\n",
       "      <td>0.447234</td>\n",
       "      <td>0.954102</td>\n",
       "    </tr>\n",
       "    <tr>\n",
       "      <th>2022-07-14</th>\n",
       "      <td>0.287312</td>\n",
       "      <td>1.186768</td>\n",
       "    </tr>\n",
       "    <tr>\n",
       "      <th>2022-07-15</th>\n",
       "      <td>-1.504698</td>\n",
       "      <td>1.766739</td>\n",
       "    </tr>\n",
       "    <tr>\n",
       "      <th>2022-07-16</th>\n",
       "      <td>1.531523</td>\n",
       "      <td>0.901414</td>\n",
       "    </tr>\n",
       "    <tr>\n",
       "      <th>2022-07-17</th>\n",
       "      <td>-1.144551</td>\n",
       "      <td>0.769646</td>\n",
       "    </tr>\n",
       "    <tr>\n",
       "      <th>2022-07-18</th>\n",
       "      <td>0.691156</td>\n",
       "      <td>0.234940</td>\n",
       "    </tr>\n",
       "    <tr>\n",
       "      <th>2022-07-19</th>\n",
       "      <td>1.508223</td>\n",
       "      <td>0.442070</td>\n",
       "    </tr>\n",
       "  </tbody>\n",
       "</table>\n",
       "</div>"
      ],
      "text/plain": [
       "                   A         C\n",
       "2022-07-10 -0.086240 -1.543568\n",
       "2022-07-11  1.570158  1.699249\n",
       "2022-07-12 -1.749002  3.481185\n",
       "2022-07-13  0.447234  0.954102\n",
       "2022-07-14  0.287312  1.186768\n",
       "2022-07-15 -1.504698  1.766739\n",
       "2022-07-16  1.531523  0.901414\n",
       "2022-07-17 -1.144551  0.769646\n",
       "2022-07-18  0.691156  0.234940\n",
       "2022-07-19  1.508223  0.442070"
      ]
     },
     "execution_count": 38,
     "metadata": {},
     "output_type": "execute_result"
    }
   ],
   "source": [
    "df.loc[:,[\"A\",\"C\"]]"
   ]
  },
  {
   "cell_type": "code",
   "execution_count": 39,
   "id": "a1335322",
   "metadata": {},
   "outputs": [
    {
     "data": {
      "text/html": [
       "<div>\n",
       "<style scoped>\n",
       "    .dataframe tbody tr th:only-of-type {\n",
       "        vertical-align: middle;\n",
       "    }\n",
       "\n",
       "    .dataframe tbody tr th {\n",
       "        vertical-align: top;\n",
       "    }\n",
       "\n",
       "    .dataframe thead th {\n",
       "        text-align: right;\n",
       "    }\n",
       "</style>\n",
       "<table border=\"1\" class=\"dataframe\">\n",
       "  <thead>\n",
       "    <tr style=\"text-align: right;\">\n",
       "      <th></th>\n",
       "      <th>D</th>\n",
       "      <th>C</th>\n",
       "    </tr>\n",
       "  </thead>\n",
       "  <tbody>\n",
       "    <tr>\n",
       "      <th>2022-07-10</th>\n",
       "      <td>-1.651567</td>\n",
       "      <td>-1.543568</td>\n",
       "    </tr>\n",
       "    <tr>\n",
       "      <th>2022-07-11</th>\n",
       "      <td>-0.381755</td>\n",
       "      <td>1.699249</td>\n",
       "    </tr>\n",
       "    <tr>\n",
       "      <th>2022-07-12</th>\n",
       "      <td>-0.522400</td>\n",
       "      <td>3.481185</td>\n",
       "    </tr>\n",
       "    <tr>\n",
       "      <th>2022-07-13</th>\n",
       "      <td>0.937115</td>\n",
       "      <td>0.954102</td>\n",
       "    </tr>\n",
       "    <tr>\n",
       "      <th>2022-07-14</th>\n",
       "      <td>1.643871</td>\n",
       "      <td>1.186768</td>\n",
       "    </tr>\n",
       "    <tr>\n",
       "      <th>2022-07-15</th>\n",
       "      <td>-0.559764</td>\n",
       "      <td>1.766739</td>\n",
       "    </tr>\n",
       "  </tbody>\n",
       "</table>\n",
       "</div>"
      ],
      "text/plain": [
       "                   D         C\n",
       "2022-07-10 -1.651567 -1.543568\n",
       "2022-07-11 -0.381755  1.699249\n",
       "2022-07-12 -0.522400  3.481185\n",
       "2022-07-13  0.937115  0.954102\n",
       "2022-07-14  1.643871  1.186768\n",
       "2022-07-15 -0.559764  1.766739"
      ]
     },
     "execution_count": 39,
     "metadata": {},
     "output_type": "execute_result"
    }
   ],
   "source": [
    "df.loc[\"20220710\":\"20220715\",[\"D\",\"C\"]]"
   ]
  },
  {
   "cell_type": "code",
   "execution_count": 41,
   "id": "f1e75cd6",
   "metadata": {},
   "outputs": [
    {
     "data": {
      "text/plain": [
       "D   -1.651567\n",
       "C   -1.543568\n",
       "Name: 2022-07-10 00:00:00, dtype: float64"
      ]
     },
     "execution_count": 41,
     "metadata": {},
     "output_type": "execute_result"
    }
   ],
   "source": [
    "df.loc[\"20220710\",[\"D\",\"C\"]]"
   ]
  },
  {
   "cell_type": "code",
   "execution_count": 44,
   "id": "6341b2b9",
   "metadata": {},
   "outputs": [
    {
     "data": {
      "text/plain": [
       "D   -1.651567\n",
       "C   -1.543568\n",
       "Name: 2022-07-10 00:00:00, dtype: float64"
      ]
     },
     "execution_count": 44,
     "metadata": {},
     "output_type": "execute_result"
    }
   ],
   "source": [
    "df.loc[d[0],[\"D\",\"C\"]]"
   ]
  },
  {
   "cell_type": "code",
   "execution_count": 46,
   "id": "511bc68e",
   "metadata": {},
   "outputs": [
    {
     "data": {
      "text/plain": [
       "-1.5435680122894369"
      ]
     },
     "execution_count": 46,
     "metadata": {},
     "output_type": "execute_result"
    }
   ],
   "source": [
    "df.at[d[0],\"C\"]"
   ]
  },
  {
   "cell_type": "code",
   "execution_count": 47,
   "id": "7c2c505f",
   "metadata": {},
   "outputs": [
    {
     "data": {
      "text/plain": [
       "A    0.447234\n",
       "B   -1.021315\n",
       "C    0.954102\n",
       "D    0.937115\n",
       "Name: 2022-07-13 00:00:00, dtype: float64"
      ]
     },
     "execution_count": 47,
     "metadata": {},
     "output_type": "execute_result"
    }
   ],
   "source": [
    "df.iloc[3]"
   ]
  },
  {
   "cell_type": "code",
   "execution_count": 48,
   "id": "1ffd0f5d",
   "metadata": {},
   "outputs": [
    {
     "data": {
      "text/html": [
       "<div>\n",
       "<style scoped>\n",
       "    .dataframe tbody tr th:only-of-type {\n",
       "        vertical-align: middle;\n",
       "    }\n",
       "\n",
       "    .dataframe tbody tr th {\n",
       "        vertical-align: top;\n",
       "    }\n",
       "\n",
       "    .dataframe thead th {\n",
       "        text-align: right;\n",
       "    }\n",
       "</style>\n",
       "<table border=\"1\" class=\"dataframe\">\n",
       "  <thead>\n",
       "    <tr style=\"text-align: right;\">\n",
       "      <th></th>\n",
       "      <th>A</th>\n",
       "      <th>B</th>\n",
       "      <th>C</th>\n",
       "      <th>D</th>\n",
       "    </tr>\n",
       "  </thead>\n",
       "  <tbody>\n",
       "    <tr>\n",
       "      <th>2022-07-13</th>\n",
       "      <td>0.447234</td>\n",
       "      <td>-1.021315</td>\n",
       "      <td>0.954102</td>\n",
       "      <td>0.937115</td>\n",
       "    </tr>\n",
       "    <tr>\n",
       "      <th>2022-07-14</th>\n",
       "      <td>0.287312</td>\n",
       "      <td>-0.675432</td>\n",
       "      <td>1.186768</td>\n",
       "      <td>1.643871</td>\n",
       "    </tr>\n",
       "  </tbody>\n",
       "</table>\n",
       "</div>"
      ],
      "text/plain": [
       "                   A         B         C         D\n",
       "2022-07-13  0.447234 -1.021315  0.954102  0.937115\n",
       "2022-07-14  0.287312 -0.675432  1.186768  1.643871"
      ]
     },
     "execution_count": 48,
     "metadata": {},
     "output_type": "execute_result"
    }
   ],
   "source": [
    "df.iloc[3:5]"
   ]
  },
  {
   "cell_type": "code",
   "execution_count": 53,
   "id": "4ccbab68",
   "metadata": {},
   "outputs": [
    {
     "data": {
      "text/html": [
       "<div>\n",
       "<style scoped>\n",
       "    .dataframe tbody tr th:only-of-type {\n",
       "        vertical-align: middle;\n",
       "    }\n",
       "\n",
       "    .dataframe tbody tr th {\n",
       "        vertical-align: top;\n",
       "    }\n",
       "\n",
       "    .dataframe thead th {\n",
       "        text-align: right;\n",
       "    }\n",
       "</style>\n",
       "<table border=\"1\" class=\"dataframe\">\n",
       "  <thead>\n",
       "    <tr style=\"text-align: right;\">\n",
       "      <th></th>\n",
       "      <th>A</th>\n",
       "      <th>B</th>\n",
       "      <th>C</th>\n",
       "      <th>D</th>\n",
       "      <th>E</th>\n",
       "    </tr>\n",
       "  </thead>\n",
       "  <tbody>\n",
       "    <tr>\n",
       "      <th>2022-07-10</th>\n",
       "      <td>-0.086240</td>\n",
       "      <td>1.540315</td>\n",
       "      <td>-1.543568</td>\n",
       "      <td>-1.651567</td>\n",
       "      <td>2.0</td>\n",
       "    </tr>\n",
       "    <tr>\n",
       "      <th>2022-07-11</th>\n",
       "      <td>1.570158</td>\n",
       "      <td>-0.100809</td>\n",
       "      <td>1.699249</td>\n",
       "      <td>-0.381755</td>\n",
       "      <td>2.0</td>\n",
       "    </tr>\n",
       "    <tr>\n",
       "      <th>2022-07-12</th>\n",
       "      <td>-1.749002</td>\n",
       "      <td>-0.383699</td>\n",
       "      <td>3.481185</td>\n",
       "      <td>-0.522400</td>\n",
       "      <td>NaN</td>\n",
       "    </tr>\n",
       "    <tr>\n",
       "      <th>2022-07-13</th>\n",
       "      <td>0.447234</td>\n",
       "      <td>-1.021315</td>\n",
       "      <td>0.954102</td>\n",
       "      <td>0.937115</td>\n",
       "      <td>NaN</td>\n",
       "    </tr>\n",
       "  </tbody>\n",
       "</table>\n",
       "</div>"
      ],
      "text/plain": [
       "                   A         B         C         D    E\n",
       "2022-07-10 -0.086240  1.540315 -1.543568 -1.651567  2.0\n",
       "2022-07-11  1.570158 -0.100809  1.699249 -0.381755  2.0\n",
       "2022-07-12 -1.749002 -0.383699  3.481185 -0.522400  NaN\n",
       "2022-07-13  0.447234 -1.021315  0.954102  0.937115  NaN"
      ]
     },
     "execution_count": 53,
     "metadata": {},
     "output_type": "execute_result"
    }
   ],
   "source": [
    "df2=df.reindex(index=d[0:4],columns=list(df.columns)+[\"E\"])\n",
    "df2.loc[d[0]:d[1],\"E\"]=2\n",
    "df2"
   ]
  },
  {
   "cell_type": "code",
   "execution_count": 54,
   "id": "c6114824",
   "metadata": {},
   "outputs": [
    {
     "data": {
      "text/html": [
       "<div>\n",
       "<style scoped>\n",
       "    .dataframe tbody tr th:only-of-type {\n",
       "        vertical-align: middle;\n",
       "    }\n",
       "\n",
       "    .dataframe tbody tr th {\n",
       "        vertical-align: top;\n",
       "    }\n",
       "\n",
       "    .dataframe thead th {\n",
       "        text-align: right;\n",
       "    }\n",
       "</style>\n",
       "<table border=\"1\" class=\"dataframe\">\n",
       "  <thead>\n",
       "    <tr style=\"text-align: right;\">\n",
       "      <th></th>\n",
       "      <th>A</th>\n",
       "      <th>B</th>\n",
       "      <th>C</th>\n",
       "      <th>D</th>\n",
       "      <th>E</th>\n",
       "    </tr>\n",
       "  </thead>\n",
       "  <tbody>\n",
       "    <tr>\n",
       "      <th>2022-07-10</th>\n",
       "      <td>False</td>\n",
       "      <td>False</td>\n",
       "      <td>False</td>\n",
       "      <td>False</td>\n",
       "      <td>False</td>\n",
       "    </tr>\n",
       "    <tr>\n",
       "      <th>2022-07-11</th>\n",
       "      <td>False</td>\n",
       "      <td>False</td>\n",
       "      <td>False</td>\n",
       "      <td>False</td>\n",
       "      <td>False</td>\n",
       "    </tr>\n",
       "    <tr>\n",
       "      <th>2022-07-12</th>\n",
       "      <td>False</td>\n",
       "      <td>False</td>\n",
       "      <td>False</td>\n",
       "      <td>False</td>\n",
       "      <td>True</td>\n",
       "    </tr>\n",
       "    <tr>\n",
       "      <th>2022-07-13</th>\n",
       "      <td>False</td>\n",
       "      <td>False</td>\n",
       "      <td>False</td>\n",
       "      <td>False</td>\n",
       "      <td>True</td>\n",
       "    </tr>\n",
       "  </tbody>\n",
       "</table>\n",
       "</div>"
      ],
      "text/plain": [
       "                A      B      C      D      E\n",
       "2022-07-10  False  False  False  False  False\n",
       "2022-07-11  False  False  False  False  False\n",
       "2022-07-12  False  False  False  False   True\n",
       "2022-07-13  False  False  False  False   True"
      ]
     },
     "execution_count": 54,
     "metadata": {},
     "output_type": "execute_result"
    }
   ],
   "source": [
    "df2.isnull()"
   ]
  },
  {
   "cell_type": "code",
   "execution_count": 57,
   "id": "ae9f0a34",
   "metadata": {},
   "outputs": [
    {
     "data": {
      "text/html": [
       "<div>\n",
       "<style scoped>\n",
       "    .dataframe tbody tr th:only-of-type {\n",
       "        vertical-align: middle;\n",
       "    }\n",
       "\n",
       "    .dataframe tbody tr th {\n",
       "        vertical-align: top;\n",
       "    }\n",
       "\n",
       "    .dataframe thead th {\n",
       "        text-align: right;\n",
       "    }\n",
       "</style>\n",
       "<table border=\"1\" class=\"dataframe\">\n",
       "  <thead>\n",
       "    <tr style=\"text-align: right;\">\n",
       "      <th></th>\n",
       "      <th>A</th>\n",
       "      <th>B</th>\n",
       "      <th>C</th>\n",
       "      <th>D</th>\n",
       "      <th>E</th>\n",
       "    </tr>\n",
       "  </thead>\n",
       "  <tbody>\n",
       "    <tr>\n",
       "      <th>2022-07-10</th>\n",
       "      <td>-0.086240</td>\n",
       "      <td>1.540315</td>\n",
       "      <td>-1.543568</td>\n",
       "      <td>-1.651567</td>\n",
       "      <td>2.0</td>\n",
       "    </tr>\n",
       "    <tr>\n",
       "      <th>2022-07-11</th>\n",
       "      <td>1.570158</td>\n",
       "      <td>-0.100809</td>\n",
       "      <td>1.699249</td>\n",
       "      <td>-0.381755</td>\n",
       "      <td>2.0</td>\n",
       "    </tr>\n",
       "  </tbody>\n",
       "</table>\n",
       "</div>"
      ],
      "text/plain": [
       "                   A         B         C         D    E\n",
       "2022-07-10 -0.086240  1.540315 -1.543568 -1.651567  2.0\n",
       "2022-07-11  1.570158 -0.100809  1.699249 -0.381755  2.0"
      ]
     },
     "execution_count": 57,
     "metadata": {},
     "output_type": "execute_result"
    }
   ],
   "source": [
    "df2.dropna()"
   ]
  },
  {
   "cell_type": "code",
   "execution_count": 58,
   "id": "cafb0678",
   "metadata": {},
   "outputs": [
    {
     "data": {
      "text/html": [
       "<div>\n",
       "<style scoped>\n",
       "    .dataframe tbody tr th:only-of-type {\n",
       "        vertical-align: middle;\n",
       "    }\n",
       "\n",
       "    .dataframe tbody tr th {\n",
       "        vertical-align: top;\n",
       "    }\n",
       "\n",
       "    .dataframe thead th {\n",
       "        text-align: right;\n",
       "    }\n",
       "</style>\n",
       "<table border=\"1\" class=\"dataframe\">\n",
       "  <thead>\n",
       "    <tr style=\"text-align: right;\">\n",
       "      <th></th>\n",
       "      <th>A</th>\n",
       "      <th>B</th>\n",
       "      <th>C</th>\n",
       "      <th>D</th>\n",
       "      <th>E</th>\n",
       "    </tr>\n",
       "  </thead>\n",
       "  <tbody>\n",
       "    <tr>\n",
       "      <th>2022-07-10</th>\n",
       "      <td>-0.086240</td>\n",
       "      <td>1.540315</td>\n",
       "      <td>-1.543568</td>\n",
       "      <td>-1.651567</td>\n",
       "      <td>2.0</td>\n",
       "    </tr>\n",
       "    <tr>\n",
       "      <th>2022-07-11</th>\n",
       "      <td>1.570158</td>\n",
       "      <td>-0.100809</td>\n",
       "      <td>1.699249</td>\n",
       "      <td>-0.381755</td>\n",
       "      <td>2.0</td>\n",
       "    </tr>\n",
       "    <tr>\n",
       "      <th>2022-07-12</th>\n",
       "      <td>-1.749002</td>\n",
       "      <td>-0.383699</td>\n",
       "      <td>3.481185</td>\n",
       "      <td>-0.522400</td>\n",
       "      <td>2222.0</td>\n",
       "    </tr>\n",
       "    <tr>\n",
       "      <th>2022-07-13</th>\n",
       "      <td>0.447234</td>\n",
       "      <td>-1.021315</td>\n",
       "      <td>0.954102</td>\n",
       "      <td>0.937115</td>\n",
       "      <td>2222.0</td>\n",
       "    </tr>\n",
       "  </tbody>\n",
       "</table>\n",
       "</div>"
      ],
      "text/plain": [
       "                   A         B         C         D       E\n",
       "2022-07-10 -0.086240  1.540315 -1.543568 -1.651567     2.0\n",
       "2022-07-11  1.570158 -0.100809  1.699249 -0.381755     2.0\n",
       "2022-07-12 -1.749002 -0.383699  3.481185 -0.522400  2222.0\n",
       "2022-07-13  0.447234 -1.021315  0.954102  0.937115  2222.0"
      ]
     },
     "execution_count": 58,
     "metadata": {},
     "output_type": "execute_result"
    }
   ],
   "source": [
    "df2.fillna(value=2222)"
   ]
  },
  {
   "cell_type": "code",
   "execution_count": 59,
   "id": "ea89afba",
   "metadata": {},
   "outputs": [
    {
     "data": {
      "text/plain": [
       "A    0.045538\n",
       "B    0.008623\n",
       "C    1.147742\n",
       "D   -0.404652\n",
       "E    2.000000\n",
       "dtype: float64"
      ]
     },
     "execution_count": 59,
     "metadata": {},
     "output_type": "execute_result"
    }
   ],
   "source": [
    "df2.mean()"
   ]
  },
  {
   "cell_type": "code",
   "execution_count": 60,
   "id": "5365b159",
   "metadata": {},
   "outputs": [
    {
     "data": {
      "text/plain": [
       "0        AMAN\n",
       "1    ABHIJITH\n",
       "2          DJ\n",
       "3         NaN\n",
       "dtype: object"
      ]
     },
     "execution_count": 60,
     "metadata": {},
     "output_type": "execute_result"
    }
   ],
   "source": [
    "f=pd.Series([\"aman\",\"abhijith\",\"dj\",np.nan])\n",
    "f.str.upper()"
   ]
  },
  {
   "cell_type": "code",
   "execution_count": 62,
   "id": "a49f4a01",
   "metadata": {},
   "outputs": [
    {
     "data": {
      "text/html": [
       "<div>\n",
       "<style scoped>\n",
       "    .dataframe tbody tr th:only-of-type {\n",
       "        vertical-align: middle;\n",
       "    }\n",
       "\n",
       "    .dataframe tbody tr th {\n",
       "        vertical-align: top;\n",
       "    }\n",
       "\n",
       "    .dataframe thead th {\n",
       "        text-align: right;\n",
       "    }\n",
       "</style>\n",
       "<table border=\"1\" class=\"dataframe\">\n",
       "  <thead>\n",
       "    <tr style=\"text-align: right;\">\n",
       "      <th></th>\n",
       "      <th>0</th>\n",
       "      <th>1</th>\n",
       "      <th>2</th>\n",
       "      <th>3</th>\n",
       "    </tr>\n",
       "  </thead>\n",
       "  <tbody>\n",
       "    <tr>\n",
       "      <th>0</th>\n",
       "      <td>-1.957817</td>\n",
       "      <td>0.491290</td>\n",
       "      <td>-0.484380</td>\n",
       "      <td>0.578645</td>\n",
       "    </tr>\n",
       "    <tr>\n",
       "      <th>1</th>\n",
       "      <td>-1.632989</td>\n",
       "      <td>-1.826068</td>\n",
       "      <td>0.776619</td>\n",
       "      <td>-0.020725</td>\n",
       "    </tr>\n",
       "    <tr>\n",
       "      <th>2</th>\n",
       "      <td>-1.952333</td>\n",
       "      <td>-0.697097</td>\n",
       "      <td>0.741706</td>\n",
       "      <td>0.880802</td>\n",
       "    </tr>\n",
       "    <tr>\n",
       "      <th>3</th>\n",
       "      <td>-1.202934</td>\n",
       "      <td>0.749704</td>\n",
       "      <td>-0.763031</td>\n",
       "      <td>0.445601</td>\n",
       "    </tr>\n",
       "    <tr>\n",
       "      <th>4</th>\n",
       "      <td>0.867825</td>\n",
       "      <td>-0.454760</td>\n",
       "      <td>-0.409652</td>\n",
       "      <td>-0.039166</td>\n",
       "    </tr>\n",
       "    <tr>\n",
       "      <th>5</th>\n",
       "      <td>-1.221031</td>\n",
       "      <td>0.681947</td>\n",
       "      <td>-0.354586</td>\n",
       "      <td>-0.133663</td>\n",
       "    </tr>\n",
       "    <tr>\n",
       "      <th>6</th>\n",
       "      <td>-1.718692</td>\n",
       "      <td>0.167755</td>\n",
       "      <td>2.255629</td>\n",
       "      <td>0.339302</td>\n",
       "    </tr>\n",
       "    <tr>\n",
       "      <th>7</th>\n",
       "      <td>-0.870600</td>\n",
       "      <td>0.278605</td>\n",
       "      <td>-0.596431</td>\n",
       "      <td>0.224010</td>\n",
       "    </tr>\n",
       "    <tr>\n",
       "      <th>8</th>\n",
       "      <td>-0.738334</td>\n",
       "      <td>-0.406262</td>\n",
       "      <td>-0.168967</td>\n",
       "      <td>1.243716</td>\n",
       "    </tr>\n",
       "    <tr>\n",
       "      <th>9</th>\n",
       "      <td>-0.397196</td>\n",
       "      <td>-1.651838</td>\n",
       "      <td>-0.651918</td>\n",
       "      <td>0.987903</td>\n",
       "    </tr>\n",
       "  </tbody>\n",
       "</table>\n",
       "</div>"
      ],
      "text/plain": [
       "          0         1         2         3\n",
       "0 -1.957817  0.491290 -0.484380  0.578645\n",
       "1 -1.632989 -1.826068  0.776619 -0.020725\n",
       "2 -1.952333 -0.697097  0.741706  0.880802\n",
       "3 -1.202934  0.749704 -0.763031  0.445601\n",
       "4  0.867825 -0.454760 -0.409652 -0.039166\n",
       "5 -1.221031  0.681947 -0.354586 -0.133663\n",
       "6 -1.718692  0.167755  2.255629  0.339302\n",
       "7 -0.870600  0.278605 -0.596431  0.224010\n",
       "8 -0.738334 -0.406262 -0.168967  1.243716\n",
       "9 -0.397196 -1.651838 -0.651918  0.987903"
      ]
     },
     "execution_count": 62,
     "metadata": {},
     "output_type": "execute_result"
    }
   ],
   "source": [
    "g=pd.DataFrame(np.random.randn(10,4))\n",
    "g"
   ]
  },
  {
   "cell_type": "code",
   "execution_count": 63,
   "id": "e91e7f0a",
   "metadata": {},
   "outputs": [
    {
     "data": {
      "text/plain": [
       "[          0         1         2         3\n",
       " 0 -1.957817  0.491290 -0.484380  0.578645\n",
       " 1 -1.632989 -1.826068  0.776619 -0.020725\n",
       " 2 -1.952333 -0.697097  0.741706  0.880802,\n",
       "           0         1         2         3\n",
       " 3 -1.202934  0.749704 -0.763031  0.445601\n",
       " 4  0.867825 -0.454760 -0.409652 -0.039166\n",
       " 5 -1.221031  0.681947 -0.354586 -0.133663\n",
       " 6 -1.718692  0.167755  2.255629  0.339302,\n",
       "           0         1         2         3\n",
       " 7 -0.870600  0.278605 -0.596431  0.224010\n",
       " 8 -0.738334 -0.406262 -0.168967  1.243716\n",
       " 9 -0.397196 -1.651838 -0.651918  0.987903]"
      ]
     },
     "execution_count": 63,
     "metadata": {},
     "output_type": "execute_result"
    }
   ],
   "source": [
    "q=[g[:3],g[3:7],g[7:]]\n",
    "q"
   ]
  },
  {
   "cell_type": "code",
   "execution_count": 64,
   "id": "40bcd973",
   "metadata": {},
   "outputs": [
    {
     "data": {
      "text/html": [
       "<div>\n",
       "<style scoped>\n",
       "    .dataframe tbody tr th:only-of-type {\n",
       "        vertical-align: middle;\n",
       "    }\n",
       "\n",
       "    .dataframe tbody tr th {\n",
       "        vertical-align: top;\n",
       "    }\n",
       "\n",
       "    .dataframe thead th {\n",
       "        text-align: right;\n",
       "    }\n",
       "</style>\n",
       "<table border=\"1\" class=\"dataframe\">\n",
       "  <thead>\n",
       "    <tr style=\"text-align: right;\">\n",
       "      <th></th>\n",
       "      <th>0</th>\n",
       "      <th>1</th>\n",
       "      <th>2</th>\n",
       "      <th>3</th>\n",
       "    </tr>\n",
       "  </thead>\n",
       "  <tbody>\n",
       "    <tr>\n",
       "      <th>0</th>\n",
       "      <td>-1.957817</td>\n",
       "      <td>0.491290</td>\n",
       "      <td>-0.484380</td>\n",
       "      <td>0.578645</td>\n",
       "    </tr>\n",
       "    <tr>\n",
       "      <th>1</th>\n",
       "      <td>-1.632989</td>\n",
       "      <td>-1.826068</td>\n",
       "      <td>0.776619</td>\n",
       "      <td>-0.020725</td>\n",
       "    </tr>\n",
       "    <tr>\n",
       "      <th>2</th>\n",
       "      <td>-1.952333</td>\n",
       "      <td>-0.697097</td>\n",
       "      <td>0.741706</td>\n",
       "      <td>0.880802</td>\n",
       "    </tr>\n",
       "    <tr>\n",
       "      <th>3</th>\n",
       "      <td>-1.202934</td>\n",
       "      <td>0.749704</td>\n",
       "      <td>-0.763031</td>\n",
       "      <td>0.445601</td>\n",
       "    </tr>\n",
       "    <tr>\n",
       "      <th>4</th>\n",
       "      <td>0.867825</td>\n",
       "      <td>-0.454760</td>\n",
       "      <td>-0.409652</td>\n",
       "      <td>-0.039166</td>\n",
       "    </tr>\n",
       "    <tr>\n",
       "      <th>5</th>\n",
       "      <td>-1.221031</td>\n",
       "      <td>0.681947</td>\n",
       "      <td>-0.354586</td>\n",
       "      <td>-0.133663</td>\n",
       "    </tr>\n",
       "    <tr>\n",
       "      <th>6</th>\n",
       "      <td>-1.718692</td>\n",
       "      <td>0.167755</td>\n",
       "      <td>2.255629</td>\n",
       "      <td>0.339302</td>\n",
       "    </tr>\n",
       "    <tr>\n",
       "      <th>7</th>\n",
       "      <td>-0.870600</td>\n",
       "      <td>0.278605</td>\n",
       "      <td>-0.596431</td>\n",
       "      <td>0.224010</td>\n",
       "    </tr>\n",
       "    <tr>\n",
       "      <th>8</th>\n",
       "      <td>-0.738334</td>\n",
       "      <td>-0.406262</td>\n",
       "      <td>-0.168967</td>\n",
       "      <td>1.243716</td>\n",
       "    </tr>\n",
       "    <tr>\n",
       "      <th>9</th>\n",
       "      <td>-0.397196</td>\n",
       "      <td>-1.651838</td>\n",
       "      <td>-0.651918</td>\n",
       "      <td>0.987903</td>\n",
       "    </tr>\n",
       "  </tbody>\n",
       "</table>\n",
       "</div>"
      ],
      "text/plain": [
       "          0         1         2         3\n",
       "0 -1.957817  0.491290 -0.484380  0.578645\n",
       "1 -1.632989 -1.826068  0.776619 -0.020725\n",
       "2 -1.952333 -0.697097  0.741706  0.880802\n",
       "3 -1.202934  0.749704 -0.763031  0.445601\n",
       "4  0.867825 -0.454760 -0.409652 -0.039166\n",
       "5 -1.221031  0.681947 -0.354586 -0.133663\n",
       "6 -1.718692  0.167755  2.255629  0.339302\n",
       "7 -0.870600  0.278605 -0.596431  0.224010\n",
       "8 -0.738334 -0.406262 -0.168967  1.243716\n",
       "9 -0.397196 -1.651838 -0.651918  0.987903"
      ]
     },
     "execution_count": 64,
     "metadata": {},
     "output_type": "execute_result"
    }
   ],
   "source": [
    "pd.concat(q)"
   ]
  },
  {
   "cell_type": "code",
   "execution_count": null,
   "id": "b3c3463f",
   "metadata": {},
   "outputs": [],
   "source": []
  }
 ],
 "metadata": {
  "kernelspec": {
   "display_name": "Python 3 (ipykernel)",
   "language": "python",
   "name": "python3"
  },
  "language_info": {
   "codemirror_mode": {
    "name": "ipython",
    "version": 3
   },
   "file_extension": ".py",
   "mimetype": "text/x-python",
   "name": "python",
   "nbconvert_exporter": "python",
   "pygments_lexer": "ipython3",
   "version": "3.9.12"
  }
 },
 "nbformat": 4,
 "nbformat_minor": 5
}
