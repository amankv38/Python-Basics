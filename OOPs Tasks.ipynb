{
 "cells": [
  {
   "cell_type": "code",
   "execution_count": 1,
   "id": "3ec59f5c",
   "metadata": {},
   "outputs": [
    {
     "name": "stdout",
     "output_type": "stream",
     "text": [
      "Enter a word : aman\n",
      "aman\n",
      "hhhh\n"
     ]
    }
   ],
   "source": [
    "class show:\n",
    "    def variables(self,variable):\n",
    "        i=input(\"Enter a word : \")\n",
    "        print(i)  \n",
    "        print(variable)\n",
    "g=show()\n",
    "g.variables(\"hhhh\")"
   ]
  },
  {
   "cell_type": "code",
   "execution_count": 2,
   "id": "a4c29d61",
   "metadata": {},
   "outputs": [
    {
     "name": "stdout",
     "output_type": "stream",
     "text": [
      "Enter a string : aman\n",
      "aman\n"
     ]
    }
   ],
   "source": [
    "class one:\n",
    "    def __init__(self):\n",
    "        self.string=\"\"\n",
    "    def user(self):\n",
    "        self.string=input(\"Enter a string : \")\n",
    "        \n",
    "    def printing(self):\n",
    "        print(self.string)\n",
    "j=one()\n",
    "j.user()\n",
    "j.printing()"
   ]
  },
  {
   "cell_type": "code",
   "execution_count": 3,
   "id": "ed349a40",
   "metadata": {},
   "outputs": [
    {
     "name": "stdout",
     "output_type": "stream",
     "text": [
      "Enter the fisrt number : 20\n",
      "Enter the second number : 5\n",
      "0-exit\n",
      "1-addition\n",
      "2-substraction\n",
      "3-multiplication\n",
      "4-division\n",
      "Enter ur choice : 1\n",
      "Result :  25\n",
      "0-exit\n",
      "1-addition\n",
      "2-substraction\n",
      "3-multiplication\n",
      "4-division\n",
      "Enter ur choice : 1\n",
      "Result :  25\n",
      "0-exit\n",
      "1-addition\n",
      "2-substraction\n",
      "3-multiplication\n",
      "4-division\n",
      "Enter ur choice : 2\n",
      "Result :  15\n",
      "0-exit\n",
      "1-addition\n",
      "2-substraction\n",
      "3-multiplication\n",
      "4-division\n",
      "Enter ur choice : 3\n",
      "Result :  100\n",
      "0-exit\n",
      "1-addition\n",
      "2-substraction\n",
      "3-multiplication\n",
      "4-division\n",
      "Enter ur choice : 4\n",
      "Result :  4.0\n",
      "0-exit\n",
      "1-addition\n",
      "2-substraction\n",
      "3-multiplication\n",
      "4-division\n",
      "Enter ur choice : 0\n",
      "exiting\n",
      "\n"
     ]
    }
   ],
   "source": [
    "class calculator:\n",
    "    def __init__(self,a,b):\n",
    "        self.a=a\n",
    "        self.b=b\n",
    "    def addition(self):\n",
    "        return self.a+self.b\n",
    "    def substraction(self):\n",
    "        return self.a-self.b\n",
    "    def multiplication(self):\n",
    "        return self.a*self.b\n",
    "    def division(self):\n",
    "        return self.a/self.b\n",
    "a=int(input(\"Enter the fisrt number : \"))\n",
    "b=int(input(\"Enter the second number : \"))\n",
    "c=calculator(a,b)\n",
    "choice=1\n",
    "while choice!=0:\n",
    "    print(\"0-exit\")\n",
    "    print(\"1-addition\")\n",
    "    print(\"2-substraction\")\n",
    "    print(\"3-multiplication\")\n",
    "    print(\"4-division\")\n",
    "    choice=int(input(\"Enter ur choice : \"))\n",
    "    if choice==1:\n",
    "        print(\"Result : \",c.addition())\n",
    "    elif choice==2:\n",
    "        print(\"Result : \",c.substraction())\n",
    "    elif choice==3:\n",
    "        print(\"Result : \",c.multiplication())\n",
    "    elif choice==4:\n",
    "        print(\"Result : \",c.division())\n",
    "    elif choice==0:\n",
    "        print(\"exiting\")\n",
    "    else:\n",
    "        print(\"Invalid choice\")\n",
    "print()"
   ]
  },
  {
   "cell_type": "code",
   "execution_count": 4,
   "id": "370cf942",
   "metadata": {},
   "outputs": [
    {
     "name": "stdout",
     "output_type": "stream",
     "text": [
      "Enter the length of rectangle : 4\n",
      "Enter the breadth of rectangle : 5\n",
      "Area of rectangle :  20\n"
     ]
    },
    {
     "data": {
      "text/plain": [
       "<function print>"
      ]
     },
     "execution_count": 4,
     "metadata": {},
     "output_type": "execute_result"
    }
   ],
   "source": [
    "class rectangle:\n",
    "    def __init__(self,l,b):\n",
    "        self.l=l\n",
    "        self.b=b\n",
    "    def area(self):\n",
    "        return self.b*self.l\n",
    "l=int(input(\"Enter the length of rectangle : \"))\n",
    "b=int(input(\"Enter the breadth of rectangle : \"))\n",
    "r=rectangle(l,b)\n",
    "print(\"Area of rectangle : \",r.area())\n",
    "print()"
   ]
  },
  {
   "cell_type": "code",
   "execution_count": null,
   "id": "641aa832",
   "metadata": {},
   "outputs": [],
   "source": []
  }
 ],
 "metadata": {
  "kernelspec": {
   "display_name": "Python 3 (ipykernel)",
   "language": "python",
   "name": "python3"
  },
  "language_info": {
   "codemirror_mode": {
    "name": "ipython",
    "version": 3
   },
   "file_extension": ".py",
   "mimetype": "text/x-python",
   "name": "python",
   "nbconvert_exporter": "python",
   "pygments_lexer": "ipython3",
   "version": "3.9.12"
  }
 },
 "nbformat": 4,
 "nbformat_minor": 5
}
