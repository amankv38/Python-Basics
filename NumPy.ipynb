{
 "cells": [
  {
   "cell_type": "code",
   "execution_count": 1,
   "id": "4db4d7d1",
   "metadata": {},
   "outputs": [],
   "source": [
    "import numpy as np"
   ]
  },
  {
   "cell_type": "code",
   "execution_count": 2,
   "id": "51dbdf6d",
   "metadata": {},
   "outputs": [
    {
     "name": "stdout",
     "output_type": "stream",
     "text": [
      "[1 2 3]\n"
     ]
    }
   ],
   "source": [
    "p=np.array([1,2,3])\n",
    "print(p)"
   ]
  },
  {
   "cell_type": "code",
   "execution_count": 3,
   "id": "6baf96b3",
   "metadata": {},
   "outputs": [
    {
     "name": "stdout",
     "output_type": "stream",
     "text": [
      "[[1 2 3]\n",
      " [4 5 6]]\n"
     ]
    }
   ],
   "source": [
    "r=np.array([(1,2,3),(4,5,6)])\n",
    "print(r)"
   ]
  },
  {
   "cell_type": "code",
   "execution_count": 4,
   "id": "c5947197",
   "metadata": {},
   "outputs": [
    {
     "name": "stdout",
     "output_type": "stream",
     "text": [
      "2\n"
     ]
    }
   ],
   "source": [
    "print(r.ndim)"
   ]
  },
  {
   "cell_type": "code",
   "execution_count": 5,
   "id": "c1aa7d17",
   "metadata": {},
   "outputs": [
    {
     "name": "stdout",
     "output_type": "stream",
     "text": [
      "1\n"
     ]
    }
   ],
   "source": [
    "print(p.ndim)"
   ]
  },
  {
   "cell_type": "code",
   "execution_count": 6,
   "id": "75200352",
   "metadata": {},
   "outputs": [
    {
     "name": "stdout",
     "output_type": "stream",
     "text": [
      "int32\n"
     ]
    }
   ],
   "source": [
    "print(r.dtype)"
   ]
  },
  {
   "cell_type": "code",
   "execution_count": 7,
   "id": "271cd0fd",
   "metadata": {},
   "outputs": [
    {
     "name": "stdout",
     "output_type": "stream",
     "text": [
      "6\n"
     ]
    }
   ],
   "source": [
    "print(r.size)"
   ]
  },
  {
   "cell_type": "code",
   "execution_count": 8,
   "id": "507fd90e",
   "metadata": {},
   "outputs": [
    {
     "name": "stdout",
     "output_type": "stream",
     "text": [
      "(2, 8)\n"
     ]
    }
   ],
   "source": [
    "l=np.array([(1,2,3,4,5,6,7,8),(8,7,6,5,4,3,2,1)])\n",
    "print(l.shape)"
   ]
  },
  {
   "cell_type": "code",
   "execution_count": 9,
   "id": "1a62d0be",
   "metadata": {},
   "outputs": [
    {
     "name": "stdout",
     "output_type": "stream",
     "text": [
      "(2,)\n"
     ]
    },
    {
     "name": "stderr",
     "output_type": "stream",
     "text": [
      "C:\\Users\\amank\\AppData\\Local\\Temp\\ipykernel_12072\\1456496065.py:1: VisibleDeprecationWarning: Creating an ndarray from ragged nested sequences (which is a list-or-tuple of lists-or-tuples-or ndarrays with different lengths or shapes) is deprecated. If you meant to do this, you must specify 'dtype=object' when creating the ndarray.\n",
      "  t=np.array([(1,2,3,4,5,6,7),(8,7,6,5,4,3,2,1)])\n"
     ]
    }
   ],
   "source": [
    "t=np.array([(1,2,3,4,5,6,7),(8,7,6,5,4,3,2,1)])\n",
    "print(t.shape)"
   ]
  },
  {
   "cell_type": "code",
   "execution_count": 10,
   "id": "647dee5b",
   "metadata": {},
   "outputs": [
    {
     "name": "stdout",
     "output_type": "stream",
     "text": [
      "[[1 2 3 4 5 6 7 8 8 7 6 5 4 3 2 1]]\n"
     ]
    }
   ],
   "source": [
    "l=l.reshape(1,16)\n",
    "print(l)\n"
   ]
  },
  {
   "cell_type": "code",
   "execution_count": 11,
   "id": "5842d608",
   "metadata": {},
   "outputs": [
    {
     "name": "stdout",
     "output_type": "stream",
     "text": [
      "3\n"
     ]
    }
   ],
   "source": [
    "k=np.array([(1,2,3,4),(5,6,7,8)])\n",
    "print(k[0,2])"
   ]
  },
  {
   "cell_type": "code",
   "execution_count": 12,
   "id": "484f2db8",
   "metadata": {},
   "outputs": [
    {
     "name": "stdout",
     "output_type": "stream",
     "text": [
      "[1 2 3 4]\n"
     ]
    }
   ],
   "source": [
    "print(k[0, :])"
   ]
  },
  {
   "cell_type": "code",
   "execution_count": 13,
   "id": "3a698f02",
   "metadata": {},
   "outputs": [
    {
     "name": "stdout",
     "output_type": "stream",
     "text": [
      "[1 2 3 4]\n"
     ]
    }
   ],
   "source": [
    "print(k[0])"
   ]
  },
  {
   "cell_type": "code",
   "execution_count": 14,
   "id": "ddf5ad7d",
   "metadata": {},
   "outputs": [
    {
     "name": "stdout",
     "output_type": "stream",
     "text": [
      "[4 8]\n"
     ]
    }
   ],
   "source": [
    "print(k[0:,3])"
   ]
  },
  {
   "cell_type": "code",
   "execution_count": 15,
   "id": "82399414",
   "metadata": {},
   "outputs": [
    {
     "name": "stdout",
     "output_type": "stream",
     "text": [
      "[3 6 9]\n"
     ]
    }
   ],
   "source": [
    "a=np.array([(1,2,3),(4,5,6),(7,8,9)])\n",
    "print(a[0:,2])"
   ]
  },
  {
   "cell_type": "code",
   "execution_count": 16,
   "id": "c0f6230d",
   "metadata": {},
   "outputs": [
    {
     "name": "stdout",
     "output_type": "stream",
     "text": [
      "[3 6]\n"
     ]
    }
   ],
   "source": [
    "print(a[0:2,2])"
   ]
  },
  {
   "cell_type": "code",
   "execution_count": 17,
   "id": "8948cf88",
   "metadata": {},
   "outputs": [
    {
     "data": {
      "text/plain": [
       "array([1. , 1.5, 2. , 2.5, 3. ])"
      ]
     },
     "execution_count": 17,
     "metadata": {},
     "output_type": "execute_result"
    }
   ],
   "source": [
    "w=np.linspace(1,3,5)\n",
    "w"
   ]
  },
  {
   "cell_type": "code",
   "execution_count": 18,
   "id": "c67a72d2",
   "metadata": {},
   "outputs": [
    {
     "data": {
      "text/plain": [
       "array([1.        , 1.44444444, 1.88888889, 2.33333333, 2.77777778,\n",
       "       3.22222222, 3.66666667, 4.11111111, 4.55555556, 5.        ])"
      ]
     },
     "execution_count": 18,
     "metadata": {},
     "output_type": "execute_result"
    }
   ],
   "source": [
    "q=np.linspace(1,5,10)\n",
    "q"
   ]
  },
  {
   "cell_type": "code",
   "execution_count": 19,
   "id": "36e26286",
   "metadata": {},
   "outputs": [
    {
     "name": "stdout",
     "output_type": "stream",
     "text": [
      "3\n"
     ]
    }
   ],
   "source": [
    "s=np.array([1,2,3])\n",
    "print(s.max())\n"
   ]
  },
  {
   "cell_type": "code",
   "execution_count": 20,
   "id": "0cbfec5d",
   "metadata": {},
   "outputs": [
    {
     "name": "stdout",
     "output_type": "stream",
     "text": [
      "1\n"
     ]
    }
   ],
   "source": [
    "print(s.min())"
   ]
  },
  {
   "cell_type": "code",
   "execution_count": 21,
   "id": "793ad34b",
   "metadata": {},
   "outputs": [
    {
     "name": "stdout",
     "output_type": "stream",
     "text": [
      "6\n"
     ]
    }
   ],
   "source": [
    "print(s.sum())"
   ]
  },
  {
   "cell_type": "code",
   "execution_count": 22,
   "id": "d653205e",
   "metadata": {},
   "outputs": [
    {
     "name": "stdout",
     "output_type": "stream",
     "text": [
      "[[1.         1.41421356 1.73205081]\n",
      " [2.         2.23606798 2.44948974]]\n"
     ]
    }
   ],
   "source": [
    "x=np.array([(1,2,3),(4,5,6)])\n",
    "print(np.sqrt(x))"
   ]
  },
  {
   "cell_type": "code",
   "execution_count": 23,
   "id": "aae34a4e",
   "metadata": {},
   "outputs": [
    {
     "name": "stdout",
     "output_type": "stream",
     "text": [
      "[[ 3  5  7]\n",
      " [15 15 15]]\n"
     ]
    }
   ],
   "source": [
    "j=np.array([(2,3,4),(6,7,8)])\n",
    "u=np.array([(1,2,3),(9,8,7)])\n",
    "print(u+j)"
   ]
  },
  {
   "cell_type": "code",
   "execution_count": 24,
   "id": "1cf9cabc",
   "metadata": {},
   "outputs": [
    {
     "name": "stdout",
     "output_type": "stream",
     "text": [
      "[[-1 -1 -1]\n",
      " [ 3  1 -1]]\n"
     ]
    }
   ],
   "source": [
    "print(u-j)"
   ]
  },
  {
   "cell_type": "code",
   "execution_count": 25,
   "id": "9d903e7e",
   "metadata": {},
   "outputs": [
    {
     "name": "stdout",
     "output_type": "stream",
     "text": [
      "[[ 2  6 12]\n",
      " [54 56 56]]\n"
     ]
    }
   ],
   "source": [
    "print(u*j)"
   ]
  },
  {
   "cell_type": "code",
   "execution_count": 26,
   "id": "870835af",
   "metadata": {},
   "outputs": [
    {
     "name": "stdout",
     "output_type": "stream",
     "text": [
      "[[2.         1.5        1.33333333]\n",
      " [0.66666667 0.875      1.14285714]]\n"
     ]
    }
   ],
   "source": [
    "print(j/u)"
   ]
  },
  {
   "cell_type": "code",
   "execution_count": 29,
   "id": "e1c7cdea",
   "metadata": {},
   "outputs": [
    {
     "name": "stdout",
     "output_type": "stream",
     "text": [
      "[[2 3 4]\n",
      " [6 7 8]\n",
      " [1 2 3]\n",
      " [9 8 7]]\n"
     ]
    }
   ],
   "source": [
    "print(np.vstack((j,u)))"
   ]
  },
  {
   "cell_type": "code",
   "execution_count": 30,
   "id": "231457ca",
   "metadata": {},
   "outputs": [
    {
     "name": "stdout",
     "output_type": "stream",
     "text": [
      "[[2 3 4 1 2 3]\n",
      " [6 7 8 9 8 7]]\n"
     ]
    }
   ],
   "source": [
    "print(np.hstack((j,u)))"
   ]
  },
  {
   "cell_type": "code",
   "execution_count": 31,
   "id": "10a96751",
   "metadata": {},
   "outputs": [
    {
     "name": "stdout",
     "output_type": "stream",
     "text": [
      "[2 3 4 6 7 8]\n"
     ]
    }
   ],
   "source": [
    "print(j.ravel())"
   ]
  },
  {
   "cell_type": "code",
   "execution_count": 32,
   "id": "da2d03f9",
   "metadata": {},
   "outputs": [
    {
     "name": "stdout",
     "output_type": "stream",
     "text": [
      "[1 2 3 9 8 7]\n"
     ]
    }
   ],
   "source": [
    "print(u.ravel())"
   ]
  },
  {
   "cell_type": "code",
   "execution_count": 34,
   "id": "ceb6ffc7",
   "metadata": {},
   "outputs": [
    {
     "name": "stdout",
     "output_type": "stream",
     "text": [
      "[[11. 22. 33.]\n",
      " [55. 66. 77.]]\n"
     ]
    }
   ],
   "source": [
    "h=np.array([[11,22,33],[55,66,77]],dtype=\"float\")\n",
    "print(h)"
   ]
  },
  {
   "cell_type": "code",
   "execution_count": 35,
   "id": "4f484a8e",
   "metadata": {},
   "outputs": [
    {
     "data": {
      "text/plain": [
       "array([[0., 0., 0., 0.],\n",
       "       [0., 0., 0., 0.],\n",
       "       [0., 0., 0., 0.]])"
      ]
     },
     "execution_count": 35,
     "metadata": {},
     "output_type": "execute_result"
    }
   ],
   "source": [
    "r=np.zeros((3,4))\n",
    "r"
   ]
  },
  {
   "cell_type": "code",
   "execution_count": 39,
   "id": "20144b9a",
   "metadata": {},
   "outputs": [
    {
     "data": {
      "text/plain": [
       "array([[0.88821897, 0.72659218],\n",
       "       [0.28404268, 0.63159471]])"
      ]
     },
     "execution_count": 39,
     "metadata": {},
     "output_type": "execute_result"
    }
   ],
   "source": [
    "u=np.random.random((2,2))\n",
    "u"
   ]
  },
  {
   "cell_type": "code",
   "execution_count": 41,
   "id": "4a0d4a68",
   "metadata": {},
   "outputs": [
    {
     "data": {
      "text/plain": [
       "array([ 0,  5, 10, 15, 20, 25])"
      ]
     },
     "execution_count": 41,
     "metadata": {},
     "output_type": "execute_result"
    }
   ],
   "source": [
    "b=np.arange(0,30,5)\n",
    "b"
   ]
  },
  {
   "cell_type": "code",
   "execution_count": 43,
   "id": "01002e88",
   "metadata": {},
   "outputs": [
    {
     "data": {
      "text/plain": [
       "array([111, 222, 333, 666, 777, 888])"
      ]
     },
     "execution_count": 43,
     "metadata": {},
     "output_type": "execute_result"
    }
   ],
   "source": [
    "k=np.array([(111,222,333),(666,777,888)])\n",
    "y=k.flatten()\n",
    "y"
   ]
  },
  {
   "cell_type": "code",
   "execution_count": null,
   "id": "834caf56",
   "metadata": {},
   "outputs": [],
   "source": []
  }
 ],
 "metadata": {
  "kernelspec": {
   "display_name": "Python 3 (ipykernel)",
   "language": "python",
   "name": "python3"
  },
  "language_info": {
   "codemirror_mode": {
    "name": "ipython",
    "version": 3
   },
   "file_extension": ".py",
   "mimetype": "text/x-python",
   "name": "python",
   "nbconvert_exporter": "python",
   "pygments_lexer": "ipython3",
   "version": "3.9.12"
  }
 },
 "nbformat": 4,
 "nbformat_minor": 5
}
