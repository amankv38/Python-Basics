{
 "cells": [
  {
   "cell_type": "code",
   "execution_count": 5,
   "id": "41ac0118",
   "metadata": {},
   "outputs": [
    {
     "name": "stdout",
     "output_type": "stream",
     "text": [
      "aman 22\n"
     ]
    }
   ],
   "source": [
    "class student: \n",
    "    def __init__(self,name,age):\n",
    "        self.name=name\n",
    "        self.age=age\n",
    "a=student(\"aman\",22)\n",
    "print(a.name,a.age)\n",
    "    "
   ]
  },
  {
   "cell_type": "code",
   "execution_count": 13,
   "id": "436ccff8",
   "metadata": {},
   "outputs": [
    {
     "name": "stdout",
     "output_type": "stream",
     "text": [
      "puthiyatheru\n"
     ]
    }
   ],
   "source": [
    "class state:\n",
    "    def kannur(self):\n",
    "        print(\"puthiyatheru\")\n",
    "t=state()\n",
    "t.kannur()"
   ]
  },
  {
   "cell_type": "code",
   "execution_count": 17,
   "id": "818f88e4",
   "metadata": {},
   "outputs": [
    {
     "name": "stdout",
     "output_type": "stream",
     "text": [
      "name is Zebra and the color is white and black\n",
      "color is white and black\n"
     ]
    }
   ],
   "source": [
    "class animal:\n",
    "    def __init__(self,name,color):\n",
    "        self.name=name\n",
    "        self.color=color\n",
    "    def display(self):\n",
    "        print(\"name is {} and the color is {}\".format(self.name,self.color))\n",
    "    def colour(self):\n",
    "        print(\"color is {}\".format(self.color))\n",
    "d=animal(\"Zebra\",\"white and black\")\n",
    "d.display()\n",
    "d.colour()\n",
    "\n",
    "        "
   ]
  },
  {
   "cell_type": "code",
   "execution_count": 23,
   "id": "c8ee7ce5",
   "metadata": {},
   "outputs": [
    {
     "name": "stdout",
     "output_type": "stream",
     "text": [
      "Enter a place : payyambalammm\n",
      "puthiyatheru\n",
      "payyambalammm\n"
     ]
    }
   ],
   "source": [
    "class state:\n",
    "    def kannur(self,place):\n",
    "        print(place)\n",
    "t=state()\n",
    "u=input(\"Enter a place : \")\n",
    "t.kannur(u)\n"
   ]
  },
  {
   "cell_type": "code",
   "execution_count": 1,
   "id": "a8163deb",
   "metadata": {},
   "outputs": [
    {
     "name": "stdout",
     "output_type": "stream",
     "text": [
      "aman\n",
      "21\n"
     ]
    }
   ],
   "source": [
    "class name:\n",
    "    n=\"aman\"\n",
    "    age=21\n",
    "print(name.n)\n",
    "print(name.age)"
   ]
  },
  {
   "cell_type": "code",
   "execution_count": 6,
   "id": "14bdaa39",
   "metadata": {},
   "outputs": [
    {
     "name": "stdout",
     "output_type": "stream",
     "text": [
      "Name is :  aman\n",
      "Age is :  21\n"
     ]
    }
   ],
   "source": [
    "class mydetails:\n",
    "    def __init__(self,name,age):\n",
    "        self.name=name\n",
    "        self.age=age\n",
    "    def display(self):\n",
    "        print(\"Name is : \",self.name)\n",
    "        print(\"Age is : \",self.age)\n",
    "m=mydetails(\"aman\",21)\n",
    "m.display()"
   ]
  },
  {
   "cell_type": "code",
   "execution_count": 18,
   "id": "6c7aa10e",
   "metadata": {},
   "outputs": [
    {
     "name": "stdout",
     "output_type": "stream",
     "text": [
      "Name is :  aman\n",
      "Age is :  21\n"
     ]
    }
   ],
   "source": [
    "class mydetails:\n",
    "    def display(self,name,age):\n",
    "        self.name=name\n",
    "        self.age=age\n",
    "        print(\"Name is : \",self.name)\n",
    "        print(\"Age is : \",self.age)\n",
    "m=mydetails()\n",
    "m.display(\"aman\",21)"
   ]
  },
  {
   "cell_type": "code",
   "execution_count": 22,
   "id": "00fccf00",
   "metadata": {},
   "outputs": [
    {
     "name": "stdout",
     "output_type": "stream",
     "text": [
      "Enter the name : aman\n",
      "Enter your age : 21\n",
      "Enter your epartment : bsc\n",
      "Enter your place : kannur\n",
      "My name is :  aman\n",
      "Age is :  21\n",
      "Department is :  bsc\n",
      "Place is :  kannur\n"
     ]
    }
   ],
   "source": [
    "class students:\n",
    "    def display(self,name,age,department,place):\n",
    "        \n",
    "        self.name=name\n",
    "        self.age=age\n",
    "        self.department=department\n",
    "        self.place=place\n",
    "        print(\"My name is : \",self.name)\n",
    "        print(\"Age is : \",self.age)\n",
    "        print(\"Department is : \",self.department)\n",
    "        print(\"Place is : \",self.place)\n",
    "s=students()\n",
    "a=input(\"Enter the name : \")\n",
    "b=int(input(\"Enter your age : \"))\n",
    "c=input(\"Enter your department : \")\n",
    "d=input(\"Enter your place : \")\n",
    "s.display(a,b,c,d)\n"
   ]
  },
  {
   "cell_type": "code",
   "execution_count": null,
   "id": "125da30a",
   "metadata": {},
   "outputs": [],
   "source": []
  },
  {
   "cell_type": "code",
   "execution_count": null,
   "id": "82fe5203",
   "metadata": {},
   "outputs": [],
   "source": []
  },
  {
   "cell_type": "code",
   "execution_count": null,
   "id": "02ac7ce4",
   "metadata": {},
   "outputs": [],
   "source": []
  }
 ],
 "metadata": {
  "kernelspec": {
   "display_name": "Python 3 (ipykernel)",
   "language": "python",
   "name": "python3"
  },
  "language_info": {
   "codemirror_mode": {
    "name": "ipython",
    "version": 3
   },
   "file_extension": ".py",
   "mimetype": "text/x-python",
   "name": "python",
   "nbconvert_exporter": "python",
   "pygments_lexer": "ipython3",
   "version": "3.9.12"
  }
 },
 "nbformat": 4,
 "nbformat_minor": 5
}
