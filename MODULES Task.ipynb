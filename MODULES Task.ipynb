{
 "cells": [
  {
   "cell_type": "code",
   "execution_count": 5,
   "id": "199339c6",
   "metadata": {},
   "outputs": [
    {
     "name": "stdout",
     "output_type": "stream",
     "text": [
      "enter a number : 25\n",
      "Square root of the number is :  5.0\n"
     ]
    }
   ],
   "source": [
    "import math\n",
    "a=int(input(\"enter a number : \"))\n",
    "b=math.sqrt(a)\n",
    "print(\"Square root of the number is : \",b)"
   ]
  },
  {
   "cell_type": "code",
   "execution_count": 6,
   "id": "1e32fd0a",
   "metadata": {},
   "outputs": [
    {
     "name": "stdout",
     "output_type": "stream",
     "text": [
      "Enter the number  : 10\n",
      "factorial of the number is :  3628800\n"
     ]
    }
   ],
   "source": [
    "import math\n",
    "c=int(input(\"Enter the number  : \"))\n",
    "d=math.factorial(c)\n",
    "print(\"factorial of the number is : \",d)"
   ]
  },
  {
   "cell_type": "code",
   "execution_count": 36,
   "id": "ef797018",
   "metadata": {},
   "outputs": [
    {
     "name": "stdout",
     "output_type": "stream",
     "text": [
      "Date is :  2022-09-20\n"
     ]
    }
   ],
   "source": [
    "from datetime import date\n",
    "e=date.today()\n",
    "print(\"Date is : \",e)"
   ]
  },
  {
   "cell_type": "code",
   "execution_count": 27,
   "id": "d54aa840",
   "metadata": {},
   "outputs": [
    {
     "name": "stdout",
     "output_type": "stream",
     "text": [
      "Enter a number : -19\n",
      "absolute value of the number is :  19\n"
     ]
    }
   ],
   "source": [
    "f=int(input(\"Enter a number : \"))\n",
    "g=abs(f)\n",
    "print(\"absolute value of the number is : \",g)"
   ]
  },
  {
   "cell_type": "code",
   "execution_count": 30,
   "id": "2659b499",
   "metadata": {},
   "outputs": [
    {
     "data": {
      "text/plain": [
       "1"
      ]
     },
     "execution_count": 30,
     "metadata": {},
     "output_type": "execute_result"
    }
   ],
   "source": [
    "a=min([1,2,3,4,5,6,7,8,9])\n",
    "a"
   ]
  },
  {
   "cell_type": "code",
   "execution_count": 31,
   "id": "565e3fc9",
   "metadata": {},
   "outputs": [
    {
     "data": {
      "text/plain": [
       "9"
      ]
     },
     "execution_count": 31,
     "metadata": {},
     "output_type": "execute_result"
    }
   ],
   "source": [
    "a=max([1,2,3,4,5,6,7,8,9])\n",
    "a"
   ]
  },
  {
   "cell_type": "code",
   "execution_count": 32,
   "id": "145e2ea3",
   "metadata": {},
   "outputs": [
    {
     "data": {
      "text/plain": [
       "64.0"
      ]
     },
     "execution_count": 32,
     "metadata": {},
     "output_type": "execute_result"
    }
   ],
   "source": [
    "import math\n",
    "d=math.pow(4,3)\n",
    "d"
   ]
  },
  {
   "cell_type": "code",
   "execution_count": 38,
   "id": "bd0830ab",
   "metadata": {},
   "outputs": [
    {
     "name": "stdout",
     "output_type": "stream",
     "text": [
      "Enter your limit : 6\n",
      "Enter your values : 1\n",
      "Enter your values : 2\n",
      "Enter your values : 3\n",
      "Enter your values : 4\n",
      "Enter your values : 5\n",
      "Enter your values : 6\n",
      " maximum element in the lis is :  6 \n",
      "minimum element in the list is :  1\n"
     ]
    }
   ],
   "source": [
    "c=[]\n",
    "d=int(input(\"Enter your limit : \"))\n",
    "for i in range(d):\n",
    "    e=int(input(\"Enter your values : \"))\n",
    "    c.append(e)\n",
    "print(\" maximum element in the lis is : \",max(c), \"\\nminimum element in the list is : \",min(c))"
   ]
  },
  {
   "cell_type": "code",
   "execution_count": null,
   "id": "4ee561a3",
   "metadata": {},
   "outputs": [],
   "source": []
  }
 ],
 "metadata": {
  "kernelspec": {
   "display_name": "Python 3 (ipykernel)",
   "language": "python",
   "name": "python3"
  },
  "language_info": {
   "codemirror_mode": {
    "name": "ipython",
    "version": 3
   },
   "file_extension": ".py",
   "mimetype": "text/x-python",
   "name": "python",
   "nbconvert_exporter": "python",
   "pygments_lexer": "ipython3",
   "version": "3.9.12"
  }
 },
 "nbformat": 4,
 "nbformat_minor": 5
}
