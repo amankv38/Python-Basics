{
 "cells": [
  {
   "cell_type": "code",
   "execution_count": 1,
   "id": "fec5884d",
   "metadata": {},
   "outputs": [
    {
     "data": {
      "text/plain": [
       "{166, 277, 288, 1999}"
      ]
     },
     "execution_count": 1,
     "metadata": {},
     "output_type": "execute_result"
    }
   ],
   "source": [
    "h={166,277,288,1999}\n",
    "h\n"
   ]
  },
  {
   "cell_type": "code",
   "execution_count": 2,
   "id": "8b9d5b52",
   "metadata": {},
   "outputs": [
    {
     "name": "stdout",
     "output_type": "stream",
     "text": [
      "<class 'dict'>\n"
     ]
    }
   ],
   "source": [
    "j={}\n",
    "print(type(j))"
   ]
  },
  {
   "cell_type": "code",
   "execution_count": 4,
   "id": "56febe4d",
   "metadata": {},
   "outputs": [
    {
     "name": "stdout",
     "output_type": "stream",
     "text": [
      "<class 'set'>\n"
     ]
    }
   ],
   "source": [
    "p=set()\n",
    "print(type(p))"
   ]
  },
  {
   "cell_type": "code",
   "execution_count": 5,
   "id": "cb990287",
   "metadata": {},
   "outputs": [
    {
     "data": {
      "text/plain": [
       "{'a', 'j', 'k', 'm', 'n'}"
      ]
     },
     "execution_count": 5,
     "metadata": {},
     "output_type": "execute_result"
    }
   ],
   "source": [
    "a=set(\"amnjk\")\n",
    "a"
   ]
  },
  {
   "cell_type": "code",
   "execution_count": 6,
   "id": "6b807098",
   "metadata": {},
   "outputs": [
    {
     "data": {
      "text/plain": [
       "{166, 277, 288, 888, 1999}"
      ]
     },
     "execution_count": 6,
     "metadata": {},
     "output_type": "execute_result"
    }
   ],
   "source": [
    "h.add(888)\n",
    "h"
   ]
  },
  {
   "cell_type": "code",
   "execution_count": 7,
   "id": "9e402b1d",
   "metadata": {},
   "outputs": [
    {
     "data": {
      "text/plain": [
       "{166, 277, 288, 434, 888, 1999, 87778, 5445454, 7676776}"
      ]
     },
     "execution_count": 7,
     "metadata": {},
     "output_type": "execute_result"
    }
   ],
   "source": [
    "h.update([7676776,87778,5445454,434])\n",
    "h"
   ]
  },
  {
   "cell_type": "code",
   "execution_count": 9,
   "id": "b3bd2c3d",
   "metadata": {},
   "outputs": [
    {
     "data": {
      "text/plain": [
       "{166, 277, 288, 434, 888, 1999, 87778, 5445454, 7676776}"
      ]
     },
     "execution_count": 9,
     "metadata": {},
     "output_type": "execute_result"
    }
   ],
   "source": [
    "d=h.copy()\n",
    "d"
   ]
  },
  {
   "cell_type": "code",
   "execution_count": 10,
   "id": "73f3bedb",
   "metadata": {},
   "outputs": [
    {
     "data": {
      "text/plain": [
       "True"
      ]
     },
     "execution_count": 10,
     "metadata": {},
     "output_type": "execute_result"
    }
   ],
   "source": [
    "288 in d"
   ]
  },
  {
   "cell_type": "code",
   "execution_count": 11,
   "id": "96dc1faf",
   "metadata": {},
   "outputs": [
    {
     "data": {
      "text/plain": [
       "False"
      ]
     },
     "execution_count": 11,
     "metadata": {},
     "output_type": "execute_result"
    }
   ],
   "source": [
    "666 in d"
   ]
  },
  {
   "cell_type": "code",
   "execution_count": 12,
   "id": "a8626581",
   "metadata": {},
   "outputs": [
    {
     "data": {
      "text/plain": [
       "True"
      ]
     },
     "execution_count": 12,
     "metadata": {},
     "output_type": "execute_result"
    }
   ],
   "source": [
    "555 not in d"
   ]
  },
  {
   "cell_type": "code",
   "execution_count": 13,
   "id": "16c6b7b4",
   "metadata": {},
   "outputs": [
    {
     "data": {
      "text/plain": [
       "False"
      ]
     },
     "execution_count": 13,
     "metadata": {},
     "output_type": "execute_result"
    }
   ],
   "source": [
    "434 not in d"
   ]
  },
  {
   "cell_type": "code",
   "execution_count": 14,
   "id": "22f13b6b",
   "metadata": {},
   "outputs": [],
   "source": [
    "a={1,2,3,4,5,6,7,8,9,10}\n",
    "b={2,5,7}"
   ]
  },
  {
   "cell_type": "code",
   "execution_count": 15,
   "id": "1fb15998",
   "metadata": {},
   "outputs": [
    {
     "data": {
      "text/plain": [
       "False"
      ]
     },
     "execution_count": 15,
     "metadata": {},
     "output_type": "execute_result"
    }
   ],
   "source": [
    "b.issuperset(a)"
   ]
  },
  {
   "cell_type": "code",
   "execution_count": 16,
   "id": "68625b05",
   "metadata": {},
   "outputs": [
    {
     "data": {
      "text/plain": [
       "True"
      ]
     },
     "execution_count": 16,
     "metadata": {},
     "output_type": "execute_result"
    }
   ],
   "source": [
    "b.issubset(a)"
   ]
  },
  {
   "cell_type": "code",
   "execution_count": 17,
   "id": "91d98dc5",
   "metadata": {},
   "outputs": [
    {
     "data": {
      "text/plain": [
       "1"
      ]
     },
     "execution_count": 17,
     "metadata": {},
     "output_type": "execute_result"
    }
   ],
   "source": [
    "a.pop()"
   ]
  },
  {
   "cell_type": "code",
   "execution_count": 18,
   "id": "52c14431",
   "metadata": {},
   "outputs": [
    {
     "data": {
      "text/plain": [
       "{2, 3, 4, 5, 6, 7, 8, 9, 10}"
      ]
     },
     "execution_count": 18,
     "metadata": {},
     "output_type": "execute_result"
    }
   ],
   "source": [
    "a"
   ]
  },
  {
   "cell_type": "code",
   "execution_count": 19,
   "id": "3b02b42f",
   "metadata": {},
   "outputs": [],
   "source": [
    "a.remove(6)"
   ]
  },
  {
   "cell_type": "code",
   "execution_count": 20,
   "id": "846f2514",
   "metadata": {},
   "outputs": [
    {
     "data": {
      "text/plain": [
       "{2, 3, 4, 5, 7, 8, 9, 10}"
      ]
     },
     "execution_count": 20,
     "metadata": {},
     "output_type": "execute_result"
    }
   ],
   "source": [
    "a"
   ]
  },
  {
   "cell_type": "code",
   "execution_count": 21,
   "id": "3790aa31",
   "metadata": {},
   "outputs": [],
   "source": [
    "a.clear()"
   ]
  },
  {
   "cell_type": "code",
   "execution_count": 22,
   "id": "ae6bd690",
   "metadata": {},
   "outputs": [
    {
     "data": {
      "text/plain": [
       "set()"
      ]
     },
     "execution_count": 22,
     "metadata": {},
     "output_type": "execute_result"
    }
   ],
   "source": [
    "a"
   ]
  },
  {
   "cell_type": "code",
   "execution_count": 23,
   "id": "3397c354",
   "metadata": {},
   "outputs": [
    {
     "name": "stdout",
     "output_type": "stream",
     "text": [
      "a\n",
      "v\n",
      "m\n",
      "k\n",
      "n\n"
     ]
    }
   ],
   "source": [
    "w=set(\"amankv\")\n",
    "for i in w:\n",
    "    print(i)"
   ]
  },
  {
   "cell_type": "code",
   "execution_count": 31,
   "id": "5ab44a1c",
   "metadata": {},
   "outputs": [
    {
     "data": {
      "text/plain": [
       "{15, 30, 45, 60, 777, 'aman', 'kavya'}"
      ]
     },
     "execution_count": 31,
     "metadata": {},
     "output_type": "execute_result"
    }
   ],
   "source": [
    "o={15,30,45,777,60,\"aman\",\"kavya\"}\n",
    "o"
   ]
  },
  {
   "cell_type": "code",
   "execution_count": 32,
   "id": "cd2b0fe1",
   "metadata": {},
   "outputs": [
    {
     "data": {
      "text/plain": [
       "{774, 777, 8686, 885, 9969, 'abhijith', 'anjaly'}"
      ]
     },
     "execution_count": 32,
     "metadata": {},
     "output_type": "execute_result"
    }
   ],
   "source": [
    "u={774,885,9969,777,8686,\"abhijith\",\"anjaly\"}\n",
    "u"
   ]
  },
  {
   "cell_type": "code",
   "execution_count": 33,
   "id": "3dfd4ba3",
   "metadata": {},
   "outputs": [
    {
     "data": {
      "text/plain": [
       "{15,\n",
       " 30,\n",
       " 45,\n",
       " 60,\n",
       " 774,\n",
       " 777,\n",
       " 8686,\n",
       " 885,\n",
       " 9969,\n",
       " 'abhijith',\n",
       " 'aman',\n",
       " 'anjaly',\n",
       " 'kavya'}"
      ]
     },
     "execution_count": 33,
     "metadata": {},
     "output_type": "execute_result"
    }
   ],
   "source": [
    "o.union(u)"
   ]
  },
  {
   "cell_type": "code",
   "execution_count": 34,
   "id": "af16e72d",
   "metadata": {},
   "outputs": [
    {
     "data": {
      "text/plain": [
       "{15,\n",
       " 30,\n",
       " 45,\n",
       " 60,\n",
       " 774,\n",
       " 777,\n",
       " 8686,\n",
       " 885,\n",
       " 9969,\n",
       " 'abhijith',\n",
       " 'aman',\n",
       " 'anjaly',\n",
       " 'kavya'}"
      ]
     },
     "execution_count": 34,
     "metadata": {},
     "output_type": "execute_result"
    }
   ],
   "source": [
    "o|u"
   ]
  },
  {
   "cell_type": "code",
   "execution_count": 35,
   "id": "5706a263",
   "metadata": {},
   "outputs": [
    {
     "data": {
      "text/plain": [
       "{777}"
      ]
     },
     "execution_count": 35,
     "metadata": {},
     "output_type": "execute_result"
    }
   ],
   "source": [
    "o.intersection(u)"
   ]
  },
  {
   "cell_type": "code",
   "execution_count": 36,
   "id": "ad8879e1",
   "metadata": {},
   "outputs": [
    {
     "data": {
      "text/plain": [
       "{777}"
      ]
     },
     "execution_count": 36,
     "metadata": {},
     "output_type": "execute_result"
    }
   ],
   "source": [
    "o&u"
   ]
  },
  {
   "cell_type": "code",
   "execution_count": 37,
   "id": "34ca3d5d",
   "metadata": {},
   "outputs": [
    {
     "data": {
      "text/plain": [
       "{15, 30, 45, 60, 'aman', 'kavya'}"
      ]
     },
     "execution_count": 37,
     "metadata": {},
     "output_type": "execute_result"
    }
   ],
   "source": [
    "o.difference(u)"
   ]
  },
  {
   "cell_type": "code",
   "execution_count": 38,
   "id": "f8431230",
   "metadata": {},
   "outputs": [
    {
     "data": {
      "text/plain": [
       "{774, 8686, 885, 9969, 'abhijith', 'anjaly'}"
      ]
     },
     "execution_count": 38,
     "metadata": {},
     "output_type": "execute_result"
    }
   ],
   "source": [
    "u.difference(o)"
   ]
  },
  {
   "cell_type": "code",
   "execution_count": 39,
   "id": "f6655946",
   "metadata": {},
   "outputs": [
    {
     "data": {
      "text/plain": [
       "{15, 30, 45, 60, 'aman', 'kavya'}"
      ]
     },
     "execution_count": 39,
     "metadata": {},
     "output_type": "execute_result"
    }
   ],
   "source": [
    "o-u"
   ]
  },
  {
   "cell_type": "code",
   "execution_count": 40,
   "id": "da813c5d",
   "metadata": {},
   "outputs": [
    {
     "data": {
      "text/plain": [
       "{774, 8686, 885, 9969, 'abhijith', 'anjaly'}"
      ]
     },
     "execution_count": 40,
     "metadata": {},
     "output_type": "execute_result"
    }
   ],
   "source": [
    "u-o"
   ]
  },
  {
   "cell_type": "code",
   "execution_count": null,
   "id": "82971597",
   "metadata": {},
   "outputs": [],
   "source": []
  }
 ],
 "metadata": {
  "kernelspec": {
   "display_name": "Python 3 (ipykernel)",
   "language": "python",
   "name": "python3"
  },
  "language_info": {
   "codemirror_mode": {
    "name": "ipython",
    "version": 3
   },
   "file_extension": ".py",
   "mimetype": "text/x-python",
   "name": "python",
   "nbconvert_exporter": "python",
   "pygments_lexer": "ipython3",
   "version": "3.9.12"
  }
 },
 "nbformat": 4,
 "nbformat_minor": 5
}
