{
 "cells": [
  {
   "cell_type": "code",
   "execution_count": 1,
   "id": "9f1a9b90",
   "metadata": {},
   "outputs": [
    {
     "name": "stdout",
     "output_type": "stream",
     "text": [
      "30\n"
     ]
    }
   ],
   "source": [
    "def sum(a,b):\n",
    "    print(a+b)\n",
    "sum(10,20)"
   ]
  },
  {
   "cell_type": "code",
   "execution_count": 2,
   "id": "4b27c6c9",
   "metadata": {},
   "outputs": [
    {
     "name": "stdout",
     "output_type": "stream",
     "text": [
      "my name is :  aman\n",
      "my roll no is :  38\n",
      "my place is : kannur\n",
      "my age is :  21\n",
      "my department is : DS\n"
     ]
    }
   ],
   "source": [
    "def student(name,roll_no,place,age,dept):\n",
    "    print(\"my name is : \",name)\n",
    "    print(\"my roll no is : \",roll_no)\n",
    "    print(\"my place is :\",place)\n",
    "    print(\"my age is : \",age)\n",
    "    print(\"my department is :\",dept)\n",
    "#     print(name,roll_no,place,age,dept)\n",
    "student(\"aman\",38,\"kannur\",21,\"DS\")"
   ]
  },
  {
   "cell_type": "code",
   "execution_count": 3,
   "id": "029d86bd",
   "metadata": {},
   "outputs": [
    {
     "name": "stdout",
     "output_type": "stream",
     "text": [
      "Enter your name   aman\n",
      "Enter you id number  88\n",
      "Enter your designation  bsc\n",
      "Enter your place  knr\n",
      "my name is :  aman\n",
      "my id num is :  88\n",
      "my designation is : bsc\n",
      "my place is :  knr\n"
     ]
    }
   ],
   "source": [
    "def customer(name,id_num,designation,place):\n",
    "    print(\"my name is : \",name)\n",
    "    print(\"my id num is : \",id_num)\n",
    "    print(\"my designation is :\",designation)\n",
    "    print(\"my place is : \",place)\n",
    "a=input(\"Enter your name   \")\n",
    "b=int(input(\"Enter you id number  \"))\n",
    "c=input(\"Enter your designation  \")\n",
    "d=input(\"Enter your place  \")\n",
    "customer(a,b,c,d)"
   ]
  },
  {
   "cell_type": "code",
   "execution_count": 4,
   "id": "eae63f30",
   "metadata": {},
   "outputs": [
    {
     "name": "stdout",
     "output_type": "stream",
     "text": [
      "90\n",
      "80\n"
     ]
    }
   ],
   "source": [
    "def kannur():\n",
    "    a=90\n",
    "    print(a)\n",
    "a=80\n",
    "kannur()\n",
    "print(a)\n"
   ]
  },
  {
   "cell_type": "code",
   "execution_count": 5,
   "id": "c41dc0c1",
   "metadata": {},
   "outputs": [
    {
     "name": "stdout",
     "output_type": "stream",
     "text": [
      "Enter your placeknr\n",
      "Enter your nameaman\n",
      "Enter your id num99999\n",
      "my place is :  knr\n",
      "my name is : aman\n",
      "my id number : 99999\n",
      "90 80 70\n",
      "40 50 30\n"
     ]
    }
   ],
   "source": [
    "def jupyter(place,name,id_num):\n",
    "    print(\"my place is : \",place)\n",
    "    print(\"my name is :\",name)\n",
    "    print(\"my id number :\",id_num)\n",
    "    b=90\n",
    "    c=80\n",
    "    d=70\n",
    "    print(b,c,d)\n",
    "b=40\n",
    "c=50\n",
    "d=30\n",
    "u=input(\"Enter your place\")\n",
    "y=input(\"Enter your name\")\n",
    "x=int(input(\"Enter your id num\"))\n",
    "jupyter(u,y,x)\n",
    "print(b,c,d)"
   ]
  },
  {
   "cell_type": "code",
   "execution_count": 6,
   "id": "d3aa7346",
   "metadata": {},
   "outputs": [
    {
     "name": "stdout",
     "output_type": "stream",
     "text": [
      "9900\n",
      "777\n"
     ]
    }
   ],
   "source": [
    "def world():\n",
    "    '''to print a variable'''\n",
    "    e=9900\n",
    "    print(e)\n",
    "e=777\n",
    "world()\n",
    "print(e)"
   ]
  },
  {
   "cell_type": "code",
   "execution_count": 7,
   "id": "b823b46e",
   "metadata": {},
   "outputs": [
    {
     "name": "stdout",
     "output_type": "stream",
     "text": [
      "hello aman,good morning\n",
      "hello abhijith,good n8\n"
     ]
    }
   ],
   "source": [
    "def wish(name,greet=\"good morning\"):\n",
    "    print(\"hello\" ,name + ',' + greet)\n",
    "wish(\"aman\")\n",
    "wish(\"abhijith\",\"good n8\")"
   ]
  },
  {
   "cell_type": "code",
   "execution_count": 8,
   "id": "284d4cd9",
   "metadata": {},
   "outputs": [
    {
     "name": "stdout",
     "output_type": "stream",
     "text": [
      "i am  aman\n",
      "my state is  Goa\n",
      "my age is 21\n",
      "i am comming from  kannur\n",
      "i am  abhijith\n",
      "my state is  tamil nadu\n",
      "my age is 25\n",
      "i am comming from  kannur\n",
      "i am  anjali\n",
      "my state is  kerala\n",
      "my age is 55\n",
      "i am comming from  kollam\n",
      "i am  kavya\n",
      "my state is  punjab\n",
      "my age is kozhikode\n",
      "i am comming from  kannur\n"
     ]
    }
   ],
   "source": [
    "def write(name,state,age=21,place=\"kannur\"):\n",
    "    print(\"i am \",name)\n",
    "    print(\"my state is \",state)\n",
    "    print(\"my age is\",age)\n",
    "    print(\"i am comming from \",place)\n",
    "\n",
    "write(\"aman\",\"Goa\")\n",
    "write(\"abhijith\",\"tamil nadu\",25)\n",
    "write(\"anjali\",\"kerala\",55,\"kollam\")\n",
    "write(\"kavya\",\"punjab\",\"kozhikode\")"
   ]
  },
  {
   "cell_type": "code",
   "execution_count": 9,
   "id": "d5277bac",
   "metadata": {},
   "outputs": [
    {
     "name": "stdout",
     "output_type": "stream",
     "text": [
      "9\n",
      "20\n"
     ]
    }
   ],
   "source": [
    "def calculation(a,b):\n",
    "    print(a+b)\n",
    "    print(a*b)\n",
    "calculation(4,5)"
   ]
  },
  {
   "cell_type": "code",
   "execution_count": 10,
   "id": "5d347af8",
   "metadata": {},
   "outputs": [
    {
     "name": "stdout",
     "output_type": "stream",
     "text": [
      "Name is :  aman\n",
      "Salary is :  79999\n",
      "Name is :  abhijith\n",
      "Salary is :  9000\n"
     ]
    }
   ],
   "source": [
    "def employee(name,salary=9000):\n",
    "    print(\"Name is : \",name)\n",
    "    print(\"Salary is : \",salary)\n",
    "employee(\"aman\",79999)\n",
    "employee(\"abhijith\")\n",
    "    "
   ]
  },
  {
   "cell_type": "code",
   "execution_count": 11,
   "id": "2fa1abf1",
   "metadata": {},
   "outputs": [
    {
     "name": "stdout",
     "output_type": "stream",
     "text": [
      "My name is :  abhijith\n",
      "My department is :  BBA\n",
      "My place is :  kannur\n",
      "My name is :  anjaly\n",
      "My department is :  bba aviation\n",
      "My place is :  kannur\n",
      "My name is :  aman\n",
      "My department is :  BSC\n",
      "My place is :  kannur\n",
      "My name is :  pranav\n",
      "My department is :  BCOM\n",
      "My place is :  kannur\n",
      "My name is :  rithul\n",
      "My department is :  Electronics\n",
      "My place is :  kannur\n",
      "My name is :  appu\n",
      "My department is :  BA\n",
      "My place is :  kannur\n"
     ]
    }
   ],
   "source": [
    "def student(name,department=\"BBA\",place=\"kannur\"):\n",
    "    print(\"My name is : \",name)\n",
    "    print(\"My department is : \",department)\n",
    "    print(\"My place is : \",place)\n",
    "student(\"abhijith\")\n",
    "student(\"anjaly\",\"bba aviation\")\n",
    "student(name=\"aman\",department=\"BSC\")\n",
    "student(department=\"BCOM\",name=\"pranav\")\n",
    "student(\"rithul\",department=\"Electronics\")\n",
    "student(\"appu\",department=\"BA\")"
   ]
  },
  {
   "cell_type": "code",
   "execution_count": 12,
   "id": "303e101c",
   "metadata": {},
   "outputs": [
    {
     "name": "stdout",
     "output_type": "stream",
     "text": [
      "40\n"
     ]
    }
   ],
   "source": [
    "q=lambda k:k*2\n",
    "print(q(20))"
   ]
  },
  {
   "cell_type": "code",
   "execution_count": 13,
   "id": "fc753a30",
   "metadata": {},
   "outputs": [
    {
     "data": {
      "text/plain": [
       "[2, 4, 6, 8, 10]"
      ]
     },
     "execution_count": 13,
     "metadata": {},
     "output_type": "execute_result"
    }
   ],
   "source": [
    "f=[1,2,3,4,5,6,7,8,9,10]\n",
    "t=list(filter(lambda o:(o%2==0),f))\n",
    "t"
   ]
  },
  {
   "cell_type": "code",
   "execution_count": 14,
   "id": "b00c51f1",
   "metadata": {},
   "outputs": [
    {
     "name": "stdout",
     "output_type": "stream",
     "text": [
      "[2, 4, 6, 8, 10, 12, 14, 16, 18]\n"
     ]
    }
   ],
   "source": [
    "e=[1,2,3,4,5,6,7,8,9]\n",
    "f=list(map(lambda g:g*2,e))\n",
    "print(f)"
   ]
  },
  {
   "cell_type": "code",
   "execution_count": 19,
   "id": "07d8635b",
   "metadata": {},
   "outputs": [
    {
     "name": "stdout",
     "output_type": "stream",
     "text": [
      "90\n",
      "My name is  aman\n",
      "my department is   bsc\n",
      "my id number is  86\n",
      "6666\n"
     ]
    }
   ],
   "source": [
    "x=6666\n",
    "def student(name,department,idno=86):\n",
    "    x=90\n",
    "    print(x)\n",
    "    print(\"My name is \",name)\n",
    "    print(\"my department is  \",department)\n",
    "    print(\"my id number is \",idno)\n",
    "student(\"aman\",\"bsc\")\n",
    "print(x)"
   ]
  },
  {
   "cell_type": "code",
   "execution_count": 20,
   "id": "43690468",
   "metadata": {},
   "outputs": [
    {
     "name": "stdout",
     "output_type": "stream",
     "text": [
      "3.141592653589793\n"
     ]
    }
   ],
   "source": [
    "import math\n",
    "print(math.pi)"
   ]
  },
  {
   "cell_type": "code",
   "execution_count": 22,
   "id": "e9a66fbf",
   "metadata": {},
   "outputs": [
    {
     "name": "stdout",
     "output_type": "stream",
     "text": [
      "3.141592653589793\n"
     ]
    }
   ],
   "source": [
    "import math as m\n",
    "print(m.pi)"
   ]
  },
  {
   "cell_type": "code",
   "execution_count": 25,
   "id": "8ade4ccb",
   "metadata": {},
   "outputs": [
    {
     "data": {
      "text/plain": [
       "3.141592653589793"
      ]
     },
     "execution_count": 25,
     "metadata": {},
     "output_type": "execute_result"
    }
   ],
   "source": [
    "from math import pi\n",
    "pi"
   ]
  },
  {
   "cell_type": "code",
   "execution_count": 26,
   "id": "99b1eacd",
   "metadata": {},
   "outputs": [
    {
     "data": {
      "text/plain": [
       "3.141592653589793"
      ]
     },
     "execution_count": 26,
     "metadata": {},
     "output_type": "execute_result"
    }
   ],
   "source": [
    "from math import *\n",
    "pi"
   ]
  },
  {
   "cell_type": "code",
   "execution_count": 2,
   "id": "da09f0fa",
   "metadata": {},
   "outputs": [
    {
     "name": "stdout",
     "output_type": "stream",
     "text": [
      "aman\n"
     ]
    }
   ],
   "source": [
    "def details(name=\"aman\"):\n",
    "    print(name)\n",
    "details()"
   ]
  },
  {
   "cell_type": "code",
   "execution_count": 3,
   "id": "79a6d22d",
   "metadata": {},
   "outputs": [
    {
     "name": "stdout",
     "output_type": "stream",
     "text": [
      "enter a number : 99\n",
      "enter a number :  1\n",
      "100\n"
     ]
    }
   ],
   "source": [
    "def add():\n",
    "    a=int(input(\"enter a number : \"))\n",
    "    b=int(input(\"enter a number :  \"))\n",
    "    print(a+b)\n",
    "add()"
   ]
  },
  {
   "cell_type": "code",
   "execution_count": 4,
   "id": "b61086f6",
   "metadata": {},
   "outputs": [
    {
     "name": "stdout",
     "output_type": "stream",
     "text": [
      "enter a number : 66\n",
      "enter a number : 4\n",
      "70\n"
     ]
    }
   ],
   "source": [
    "def add(a,b):\n",
    "    print(a+b)\n",
    "a=int(input(\"enter a number : \"))\n",
    "b=int(input(\"enter a number : \"))\n",
    "add(a,b)"
   ]
  },
  {
   "cell_type": "code",
   "execution_count": 10,
   "id": "f2dbc5c9",
   "metadata": {},
   "outputs": [
    {
     "name": "stdout",
     "output_type": "stream",
     "text": [
      "Enter the radius of the circle : 2\n",
      "12.56\n"
     ]
    }
   ],
   "source": [
    "def circle(pi=3.14):\n",
    "    print(pi*r*r)\n",
    "r=int(input(\"Enter the radius of the circle : \"))\n",
    "circle()    \n",
    "    \n",
    "    "
   ]
  },
  {
   "cell_type": "code",
   "execution_count": 14,
   "id": "347f9456",
   "metadata": {},
   "outputs": [
    {
     "name": "stdout",
     "output_type": "stream",
     "text": [
      "enter the number : 5\n",
      "enter the power : 2\n",
      "25\n"
     ]
    }
   ],
   "source": [
    "def power(x,y):\n",
    "    print(x**y)\n",
    "x=int(input(\"enter the number : \"))\n",
    "y=int(input(\"enter the power : \"))\n",
    "power(x,y)            "
   ]
  },
  {
   "cell_type": "code",
   "execution_count": 17,
   "id": "3c9a3fab",
   "metadata": {},
   "outputs": [
    {
     "name": "stdout",
     "output_type": "stream",
     "text": [
      "Enter the value : 4\n",
      "enter a number : 5\n",
      "10.0\n"
     ]
    }
   ],
   "source": [
    "def triangle(a=1/2):\n",
    "    print(a*b*h)\n",
    "b=int(input(\"Enter the value : \"))\n",
    "h=int(input(\"enter a number : \"))\n",
    "triangle()\n"
   ]
  },
  {
   "cell_type": "code",
   "execution_count": null,
   "id": "391746f3",
   "metadata": {},
   "outputs": [],
   "source": []
  }
 ],
 "metadata": {
  "kernelspec": {
   "display_name": "Python 3 (ipykernel)",
   "language": "python",
   "name": "python3"
  },
  "language_info": {
   "codemirror_mode": {
    "name": "ipython",
    "version": 3
   },
   "file_extension": ".py",
   "mimetype": "text/x-python",
   "name": "python",
   "nbconvert_exporter": "python",
   "pygments_lexer": "ipython3",
   "version": "3.9.12"
  }
 },
 "nbformat": 4,
 "nbformat_minor": 5
}
