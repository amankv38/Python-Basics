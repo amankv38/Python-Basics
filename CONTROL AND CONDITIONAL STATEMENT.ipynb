{
 "cells": [
  {
   "cell_type": "code",
   "execution_count": 1,
   "id": "ec795382",
   "metadata": {},
   "outputs": [
    {
     "name": "stdout",
     "output_type": "stream",
     "text": [
      "this number is postive\n"
     ]
    }
   ],
   "source": [
    "h=18\n",
    "if h>0:\n",
    "    print(\"this number is postive\")\n",
    "else:\n",
    "    print(\"this number is not positive number\")"
   ]
  },
  {
   "cell_type": "code",
   "execution_count": 2,
   "id": "dbfb95fe",
   "metadata": {},
   "outputs": [
    {
     "name": "stdout",
     "output_type": "stream",
     "text": [
      "Enter the bill amount2000\n",
      "The discounted price is \n",
      "1800.0\n"
     ]
    }
   ],
   "source": [
    "q=int(input(\"Enter the bill amount\"))\n",
    "if q>1000:\n",
    "    e=10/100*q\n",
    "    print(\"The discounted price is \")\n",
    "    q=q-e\n",
    "    print(q)\n",
    "else:\n",
    "    print(\"The amount is \",q)"
   ]
  },
  {
   "cell_type": "code",
   "execution_count": 4,
   "id": "dc3b9575",
   "metadata": {},
   "outputs": [
    {
     "name": "stdout",
     "output_type": "stream",
     "text": [
      "Enter a number  50\n",
      "the entered number is multiple of 5\n"
     ]
    }
   ],
   "source": [
    "u=int(input(\"Enter a number  \"))\n",
    "if u%5==0:\n",
    "    print(\"the entered number is multiple of 5\")\n",
    "else:\n",
    "    print(\"the entered number is not multiple of 5\")"
   ]
  },
  {
   "cell_type": "code",
   "execution_count": 4,
   "id": "b38bc7be",
   "metadata": {},
   "outputs": [
    {
     "name": "stdout",
     "output_type": "stream",
     "text": [
      "Enter your age27\n",
      "You are eligible for contesting an election\n"
     ]
    }
   ],
   "source": [
    "a=int(input(\"Enter your age\"))\n",
    "if a<18:\n",
    "    print(\"You are not eligible \")\n",
    "elif (a>18)and(a>25):\n",
    "    print(\"You are eligible for contesting an election\")\n",
    "else:\n",
    "    print(\"You are  eligible for voting\")"
   ]
  },
  {
   "cell_type": "code",
   "execution_count": 5,
   "id": "d849c1ac",
   "metadata": {},
   "outputs": [
    {
     "name": "stdout",
     "output_type": "stream",
     "text": [
      "2\n",
      "5\n",
      "8688\n",
      "6\n",
      "7\n",
      "666\n",
      "55\n",
      "77\n"
     ]
    }
   ],
   "source": [
    "a=[2,5,8688,6,7,666,55,77]\n",
    "for i in a:\n",
    "    print(i)"
   ]
  },
  {
   "cell_type": "code",
   "execution_count": 6,
   "id": "25b79404",
   "metadata": {},
   "outputs": [
    {
     "name": "stdout",
     "output_type": "stream",
     "text": [
      "42\n"
     ]
    }
   ],
   "source": [
    "b=[2,3,4,4,5,6,7,3,3,3,2]\n",
    "d=0\n",
    "for i in b:\n",
    "    d=d+i\n",
    "print(d)"
   ]
  },
  {
   "cell_type": "code",
   "execution_count": 7,
   "id": "a47e0a36",
   "metadata": {},
   "outputs": [
    {
     "name": "stdout",
     "output_type": "stream",
     "text": [
      "range(0, 10)\n"
     ]
    }
   ],
   "source": [
    "print(range(10))"
   ]
  },
  {
   "cell_type": "code",
   "execution_count": 8,
   "id": "233dde15",
   "metadata": {},
   "outputs": [
    {
     "name": "stdout",
     "output_type": "stream",
     "text": [
      "[0, 1, 2, 3, 4, 5, 6, 7, 8, 9]\n"
     ]
    }
   ],
   "source": [
    "print(list(range(10)))"
   ]
  },
  {
   "cell_type": "code",
   "execution_count": 9,
   "id": "b457673d",
   "metadata": {},
   "outputs": [
    {
     "name": "stdout",
     "output_type": "stream",
     "text": [
      "[2, 3, 4, 5, 6, 7, 8, 9, 10]\n"
     ]
    }
   ],
   "source": [
    "print(list(range(2,11)))"
   ]
  },
  {
   "cell_type": "code",
   "execution_count": 10,
   "id": "85311cb7",
   "metadata": {},
   "outputs": [
    {
     "name": "stdout",
     "output_type": "stream",
     "text": [
      "[2, 4, 6, 8, 10, 12, 14]\n"
     ]
    }
   ],
   "source": [
    "print(list(range(2,15,2)))"
   ]
  },
  {
   "cell_type": "code",
   "execution_count": 11,
   "id": "57632635",
   "metadata": {},
   "outputs": [
    {
     "name": "stdout",
     "output_type": "stream",
     "text": [
      "enter a number6\n",
      "720\n"
     ]
    }
   ],
   "source": [
    "a=int(input(\"enter a number\"))\n",
    "b=1\n",
    "for i in range(1,a+1):\n",
    "    b=b*i\n",
    "print(b)"
   ]
  },
  {
   "cell_type": "code",
   "execution_count": 12,
   "id": "e100a707",
   "metadata": {},
   "outputs": [
    {
     "name": "stdout",
     "output_type": "stream",
     "text": [
      "enter a number   6\n",
      "720\n"
     ]
    }
   ],
   "source": [
    "e=int(input(\"enter a number   \"))\n",
    "t=1\n",
    "while e>=1:\n",
    "    t=t*e\n",
    "    e=e-1\n",
    "print(t)"
   ]
  },
  {
   "cell_type": "code",
   "execution_count": 17,
   "id": "50b5f056",
   "metadata": {},
   "outputs": [
    {
     "name": "stdout",
     "output_type": "stream",
     "text": [
      "0\n",
      "1\n",
      "2\n"
     ]
    }
   ],
   "source": [
    "for i in range(10):\n",
    "    if i==3:\n",
    "        break\n",
    "    print(i)"
   ]
  },
  {
   "cell_type": "code",
   "execution_count": 18,
   "id": "86ec3784",
   "metadata": {},
   "outputs": [
    {
     "name": "stdout",
     "output_type": "stream",
     "text": [
      "0\n",
      "1\n",
      "2\n",
      "4\n",
      "5\n",
      "6\n",
      "7\n",
      "8\n",
      "9\n"
     ]
    }
   ],
   "source": [
    "for i in range(10):\n",
    "    if i==3:\n",
    "        continue\n",
    "    print(i)"
   ]
  },
  {
   "cell_type": "code",
   "execution_count": 6,
   "id": "6f801f76",
   "metadata": {},
   "outputs": [],
   "source": [
    "for i in range(10):\n",
    "    pass\n",
    "    "
   ]
  },
  {
   "cell_type": "code",
   "execution_count": null,
   "id": "2ca0cc76",
   "metadata": {},
   "outputs": [],
   "source": []
  }
 ],
 "metadata": {
  "kernelspec": {
   "display_name": "Python 3 (ipykernel)",
   "language": "python",
   "name": "python3"
  },
  "language_info": {
   "codemirror_mode": {
    "name": "ipython",
    "version": 3
   },
   "file_extension": ".py",
   "mimetype": "text/x-python",
   "name": "python",
   "nbconvert_exporter": "python",
   "pygments_lexer": "ipython3",
   "version": "3.9.12"
  }
 },
 "nbformat": 4,
 "nbformat_minor": 5
}
