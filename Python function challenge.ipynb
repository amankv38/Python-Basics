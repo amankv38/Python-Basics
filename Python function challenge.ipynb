{
 "cells": [
  {
   "cell_type": "code",
   "execution_count": 4,
   "id": "aea76f7e",
   "metadata": {},
   "outputs": [
    {
     "name": "stdout",
     "output_type": "stream",
     "text": [
      "8\n",
      "8\n"
     ]
    }
   ],
   "source": [
    "def student(name,dept):\n",
    "    a=len(name)\n",
    "    b=len(dept)\n",
    "    if a>b:\n",
    "        print(\"the largest is a \",a)\n",
    "    elif b>a:\n",
    "        print(\"the lrgest is b \",b)\n",
    "    else: \n",
    "        print(a)\n",
    "        print(b)\n",
    "student(\"abhijith\",\"bussines\")"
   ]
  },
  {
   "cell_type": "code",
   "execution_count": 6,
   "id": "66d39975",
   "metadata": {},
   "outputs": [
    {
     "name": "stdout",
     "output_type": "stream",
     "text": [
      "Number is even \n"
     ]
    }
   ],
   "source": [
    "def number(num):\n",
    "    if num%2==0:\n",
    "        print(\"Number is even \")\n",
    "    else:\n",
    "        print(\"number is odd\")\n",
    "number(8)"
   ]
  },
  {
   "cell_type": "code",
   "execution_count": 8,
   "id": "c46983ae",
   "metadata": {},
   "outputs": [
    {
     "name": "stdout",
     "output_type": "stream",
     "text": [
      "{1: 1, 2: 4, 3: 9}\n"
     ]
    }
   ],
   "source": [
    "def dictionary():\n",
    "    a=dict()\n",
    "    a[1]=1\n",
    "    a[2]=2**2\n",
    "    a[3]=3**2\n",
    "    print(a)\n",
    "dictionary()"
   ]
  },
  {
   "cell_type": "code",
   "execution_count": 9,
   "id": "46ed78e7",
   "metadata": {},
   "outputs": [
    {
     "name": "stdout",
     "output_type": "stream",
     "text": [
      "{1: 1, 2: 4, 3: 9, 4: 16, 5: 25, 6: 36, 7: 49, 8: 64, 9: 81, 10: 100, 11: 121, 12: 144, 13: 169, 14: 196, 15: 225, 16: 256, 17: 289, 18: 324, 19: 361, 20: 400}\n"
     ]
    }
   ],
   "source": [
    "def dictionary():\n",
    "    d=dict()\n",
    "    for i in range(1,21):\n",
    "        d[i]=i**2\n",
    "    print(d)\n",
    "dictionary()"
   ]
  },
  {
   "cell_type": "code",
   "execution_count": 11,
   "id": "5093b5ea",
   "metadata": {},
   "outputs": [
    {
     "name": "stdout",
     "output_type": "stream",
     "text": [
      "1\n",
      "4\n",
      "9\n",
      "16\n",
      "25\n",
      "36\n",
      "49\n",
      "64\n",
      "81\n",
      "100\n",
      "121\n",
      "144\n",
      "169\n",
      "196\n",
      "225\n",
      "256\n",
      "289\n",
      "324\n",
      "361\n",
      "400\n"
     ]
    }
   ],
   "source": [
    "def dictionary():\n",
    "    k=dict()\n",
    "    for i in range(1,21):\n",
    "        k[i]=i**2\n",
    "    for (a,b) in k.items():\n",
    "        print(b)\n",
    "dictionary()"
   ]
  },
  {
   "cell_type": "code",
   "execution_count": 13,
   "id": "ce242bd6",
   "metadata": {},
   "outputs": [
    {
     "name": "stdout",
     "output_type": "stream",
     "text": [
      "1\n",
      "2\n",
      "3\n",
      "4\n",
      "5\n",
      "6\n",
      "7\n",
      "8\n",
      "9\n",
      "10\n",
      "11\n",
      "12\n",
      "13\n",
      "14\n",
      "15\n",
      "16\n",
      "17\n",
      "18\n",
      "19\n",
      "20\n"
     ]
    }
   ],
   "source": [
    "def dictionary():\n",
    "    h=dict()\n",
    "    for i in range(1,21):\n",
    "        h[i]=i**2\n",
    "    for l in h.keys():\n",
    "        print(l)\n",
    "dictionary()\n",
    "        "
   ]
  },
  {
   "cell_type": "code",
   "execution_count": 14,
   "id": "a452ae1a",
   "metadata": {},
   "outputs": [
    {
     "name": "stdout",
     "output_type": "stream",
     "text": [
      "[1, 4, 9, 16, 25, 36, 49, 64, 81, 100, 121, 144, 169, 196, 225, 256, 289, 324, 361, 400]\n"
     ]
    }
   ],
   "source": [
    "def lists():\n",
    "    l=list()\n",
    "    for i in range(1,21):\n",
    "        l.append(i**2)\n",
    "    print(l)\n",
    "lists()\n",
    "        "
   ]
  },
  {
   "cell_type": "code",
   "execution_count": 15,
   "id": "0623fca7",
   "metadata": {},
   "outputs": [
    {
     "name": "stdout",
     "output_type": "stream",
     "text": [
      "[1, 4, 9, 16, 25]\n"
     ]
    }
   ],
   "source": [
    "def lists():\n",
    "    l=list()\n",
    "    for i in range(1,21):\n",
    "        l.append(i**2)\n",
    "    print(l[:5])\n",
    "lists()\n",
    "    "
   ]
  },
  {
   "cell_type": "code",
   "execution_count": 19,
   "id": "0406c986",
   "metadata": {},
   "outputs": [
    {
     "name": "stdout",
     "output_type": "stream",
     "text": [
      "[256, 289, 324, 361, 400]\n"
     ]
    }
   ],
   "source": [
    "def lists():\n",
    "    l=list()\n",
    "    for i in range(1,21):\n",
    "        l.append(i**2)\n",
    "    print(l[-5:])\n",
    "lists()"
   ]
  },
  {
   "cell_type": "code",
   "execution_count": 21,
   "id": "7ce64b68",
   "metadata": {},
   "outputs": [
    {
     "name": "stdout",
     "output_type": "stream",
     "text": [
      "[36, 49, 64, 81, 100, 121, 144, 169, 196, 225, 256, 289, 324, 361, 400]\n"
     ]
    }
   ],
   "source": [
    "def lists():\n",
    "    l=list()\n",
    "    for i in range(1,21):\n",
    "        l.append(i**2)\n",
    "    print(l[5:])\n",
    "lists()\n",
    "        "
   ]
  },
  {
   "cell_type": "code",
   "execution_count": 23,
   "id": "67f4d01a",
   "metadata": {},
   "outputs": [
    {
     "name": "stdout",
     "output_type": "stream",
     "text": [
      "(1, 4, 9, 16, 25, 36, 49, 64, 81, 100, 121, 144, 169, 196, 225, 256, 289, 324, 361, 400)\n"
     ]
    }
   ],
   "source": [
    "def tuples():\n",
    "    t=list()\n",
    "    for i in range(1,21):\n",
    "        t.append(i**2)\n",
    "        h=tuple(t)\n",
    "    print(h)\n",
    "tuples()"
   ]
  },
  {
   "cell_type": "code",
   "execution_count": 25,
   "id": "4a18ca2c",
   "metadata": {},
   "outputs": [
    {
     "name": "stdout",
     "output_type": "stream",
     "text": [
      "(1, 2, 3, 4, 5)\n",
      "(6, 7, 8, 9, 10)\n"
     ]
    }
   ],
   "source": [
    "r=(1,2,3,4,5,6,7,8,9,10)\n",
    "print(r[:5])\n",
    "print(r[5:])"
   ]
  },
  {
   "cell_type": "code",
   "execution_count": 26,
   "id": "cd9014c0",
   "metadata": {},
   "outputs": [
    {
     "name": "stdout",
     "output_type": "stream",
     "text": [
      "(2, 4, 6, 8, 10)\n"
     ]
    }
   ],
   "source": [
    "g=(1,2,3,4,5,6,7,8,9,10)\n",
    "l=list()\n",
    "for i in g:\n",
    "    if i%2==0:\n",
    "        l.append(i)\n",
    "k=tuple(l)\n",
    "print(k)\n",
    "        "
   ]
  },
  {
   "cell_type": "code",
   "execution_count": null,
   "id": "7b5c295f",
   "metadata": {},
   "outputs": [],
   "source": []
  }
 ],
 "metadata": {
  "kernelspec": {
   "display_name": "Python 3 (ipykernel)",
   "language": "python",
   "name": "python3"
  },
  "language_info": {
   "codemirror_mode": {
    "name": "ipython",
    "version": 3
   },
   "file_extension": ".py",
   "mimetype": "text/x-python",
   "name": "python",
   "nbconvert_exporter": "python",
   "pygments_lexer": "ipython3",
   "version": "3.9.12"
  }
 },
 "nbformat": 4,
 "nbformat_minor": 5
}
