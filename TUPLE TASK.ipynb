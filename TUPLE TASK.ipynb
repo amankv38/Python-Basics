{
 "cells": [
  {
   "cell_type": "code",
   "execution_count": 1,
   "id": "65cb2489",
   "metadata": {},
   "outputs": [
    {
     "name": "stdout",
     "output_type": "stream",
     "text": [
      "('aman', 38, 98, 95, 4, 'kv')\n"
     ]
    }
   ],
   "source": [
    "a=(\"aman\",38,98,95,4,\"kv\")\n",
    "print(a)"
   ]
  },
  {
   "cell_type": "code",
   "execution_count": 2,
   "id": "d735112b",
   "metadata": {},
   "outputs": [
    {
     "name": "stdout",
     "output_type": "stream",
     "text": [
      "478\n"
     ]
    }
   ],
   "source": [
    "b=(17,27,37,478,37,483,84)\n",
    "print(b[3])"
   ]
  },
  {
   "cell_type": "code",
   "execution_count": 3,
   "id": "7989bf12",
   "metadata": {},
   "outputs": [
    {
     "name": "stdout",
     "output_type": "stream",
     "text": [
      "9\n"
     ]
    }
   ],
   "source": [
    "c=(38,388,3883,38883,929,828,29939,28839,2828)\n",
    "print(len(c))"
   ]
  },
  {
   "cell_type": "code",
   "execution_count": 4,
   "id": "4366887f",
   "metadata": {},
   "outputs": [
    {
     "name": "stdout",
     "output_type": "stream",
     "text": [
      "({737, 266, 'aman'}, [277, 29992, 'kv', 8838], 'amankv')\n"
     ]
    }
   ],
   "source": [
    "d=({266,737,\"aman\"},[277,29992,\"kv\",8838],\"amankv\")\n",
    "print(d)"
   ]
  },
  {
   "cell_type": "code",
   "execution_count": 5,
   "id": "59693d9f",
   "metadata": {},
   "outputs": [
    {
     "name": "stdout",
     "output_type": "stream",
     "text": [
      "('aa', 'bb', 'ii', 9999, 888, 7777, 666)\n"
     ]
    }
   ],
   "source": [
    "e=tuple([\"aa\",\"bb\",\"ii\",9999,888,7777,666])\n",
    "print(e)"
   ]
  },
  {
   "cell_type": "code",
   "execution_count": 6,
   "id": "7db96ea0",
   "metadata": {},
   "outputs": [
    {
     "name": "stdout",
     "output_type": "stream",
     "text": [
      "('a', 'm', 'a', 'n', 'k', 'v')\n"
     ]
    }
   ],
   "source": [
    "f=tuple(\"amankv\")\n",
    "print(f)"
   ]
  },
  {
   "cell_type": "code",
   "execution_count": 8,
   "id": "f91035bc",
   "metadata": {},
   "outputs": [
    {
     "data": {
      "text/plain": [
       "(23, 54545, 545, 6, 6, 6767, 7, 7, 67, 765, 3443, 8899, 7655)"
      ]
     },
     "execution_count": 8,
     "metadata": {},
     "output_type": "execute_result"
    }
   ],
   "source": [
    "g=(23,54545,545,6,6,6767,7,7,67,765)\n",
    "h=g+(3443,8899,7655)\n",
    "h"
   ]
  },
  {
   "cell_type": "code",
   "execution_count": 9,
   "id": "b995d83a",
   "metadata": {},
   "outputs": [
    {
     "data": {
      "text/plain": [
       "(63, 68, 64)"
      ]
     },
     "execution_count": 9,
     "metadata": {},
     "output_type": "execute_result"
    }
   ],
   "source": [
    "i=(63,65,64)\n",
    "a,b,c=i\n",
    "b=68\n",
    "i=(a,b,c)\n",
    "i\n"
   ]
  },
  {
   "cell_type": "code",
   "execution_count": 10,
   "id": "a27a21e7",
   "metadata": {},
   "outputs": [
    {
     "data": {
      "text/plain": [
       "['hi', 'hello', 'owkkii', 'bye']"
      ]
     },
     "execution_count": 10,
     "metadata": {},
     "output_type": "execute_result"
    }
   ],
   "source": [
    "o=(\"hi\",\"hello\",\"owkkii\",\"bye\")\n",
    "u=list(o)\n",
    "u"
   ]
  },
  {
   "cell_type": "code",
   "execution_count": 11,
   "id": "963b190e",
   "metadata": {},
   "outputs": [
    {
     "data": {
      "text/plain": [
       "['hi', 'welcome', 'owkkii', 'bye']"
      ]
     },
     "execution_count": 11,
     "metadata": {},
     "output_type": "execute_result"
    }
   ],
   "source": [
    "u[1]=\"welcome\"\n",
    "u"
   ]
  },
  {
   "cell_type": "code",
   "execution_count": 13,
   "id": "adb37c85",
   "metadata": {},
   "outputs": [
    {
     "data": {
      "text/plain": [
       "('hi', 'welcome', 'owkkii', 'bye')"
      ]
     },
     "execution_count": 13,
     "metadata": {},
     "output_type": "execute_result"
    }
   ],
   "source": [
    "o=tuple(u)\n",
    "o"
   ]
  },
  {
   "cell_type": "code",
   "execution_count": 14,
   "id": "5574ed46",
   "metadata": {},
   "outputs": [
    {
     "data": {
      "text/plain": [
       "(8467, 367, 767)"
      ]
     },
     "execution_count": 14,
     "metadata": {},
     "output_type": "execute_result"
    }
   ],
   "source": [
    "y=(767,367,8467)\n",
    "t=y[::-1]\n",
    "t"
   ]
  },
  {
   "cell_type": "code",
   "execution_count": 6,
   "id": "4b316b2d",
   "metadata": {},
   "outputs": [
    {
     "name": "stdout",
     "output_type": "stream",
     "text": [
      "enter the stringheLLLOOO WOOLRDE\n",
      "number of vowels are\n",
      "7\n"
     ]
    }
   ],
   "source": [
    "a=input(\"enter the string\")\n",
    "vowel=0\n",
    "for i in a:\n",
    "    if(i=='a' or i=='e' or i=='i' or i=='o' or i=='u' or i=='A' or i=='E' or i=='I' or i=='O' or i=='U'):\n",
    "        vowel=vowel+1\n",
    "print(\"number of vowels are\")\n",
    "print(vowel)"
   ]
  },
  {
   "cell_type": "code",
   "execution_count": null,
   "id": "95994653",
   "metadata": {},
   "outputs": [],
   "source": []
  }
 ],
 "metadata": {
  "kernelspec": {
   "display_name": "Python 3 (ipykernel)",
   "language": "python",
   "name": "python3"
  },
  "language_info": {
   "codemirror_mode": {
    "name": "ipython",
    "version": 3
   },
   "file_extension": ".py",
   "mimetype": "text/x-python",
   "name": "python",
   "nbconvert_exporter": "python",
   "pygments_lexer": "ipython3",
   "version": "3.9.12"
  }
 },
 "nbformat": 4,
 "nbformat_minor": 5
}
