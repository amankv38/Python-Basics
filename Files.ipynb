{
 "cells": [
  {
   "cell_type": "code",
   "execution_count": 2,
   "id": "ebfb967c",
   "metadata": {},
   "outputs": [
    {
     "name": "stdout",
     "output_type": "stream",
     "text": [
      "<_io.TextIOWrapper name='new.txt' mode='r' encoding='cp1252'>\n"
     ]
    }
   ],
   "source": [
    "u=open(\"new.txt\")\n",
    "print(u)"
   ]
  },
  {
   "cell_type": "code",
   "execution_count": 5,
   "id": "6b075882",
   "metadata": {},
   "outputs": [
    {
     "name": "stdout",
     "output_type": "stream",
     "text": [
      "<_io.TextIOWrapper name='new.txt' mode='w' encoding='cp1252'>\n"
     ]
    }
   ],
   "source": [
    "o=open(\"new.txt\",\"w\")\n",
    "print(o)"
   ]
  },
  {
   "cell_type": "code",
   "execution_count": 6,
   "id": "b27a59e0",
   "metadata": {},
   "outputs": [],
   "source": [
    "o.close()"
   ]
  },
  {
   "cell_type": "code",
   "execution_count": 8,
   "id": "f9228764",
   "metadata": {},
   "outputs": [],
   "source": [
    "try:\n",
    "    t=open(\"new.txt\")\n",
    "finally:\n",
    "    t.close()"
   ]
  },
  {
   "cell_type": "code",
   "execution_count": 10,
   "id": "9d2cfc94",
   "metadata": {},
   "outputs": [],
   "source": [
    "with open(\"new.txt\") as o:\n",
    "    pass"
   ]
  },
  {
   "cell_type": "code",
   "execution_count": 12,
   "id": "31e2e17d",
   "metadata": {},
   "outputs": [],
   "source": [
    "with open(\"new.txt\",\"w\") as a:\n",
    "    a.write(\"Today is thursday\")\n",
    "    a.write(\"Tommorow is friday\")"
   ]
  },
  {
   "cell_type": "code",
   "execution_count": 13,
   "id": "03739589",
   "metadata": {},
   "outputs": [],
   "source": [
    "with open(\"text.txt\",\"w\") as w:\n",
    "    w.write(\"oneeeeee\")\n",
    "    w.write(\"   twoooooo\")\n",
    "    w.write(\"    threeeee\")"
   ]
  },
  {
   "cell_type": "code",
   "execution_count": 14,
   "id": "f7f5a083",
   "metadata": {},
   "outputs": [],
   "source": [
    "with open(\"run.txt\",\"w\") as t:\n",
    "    t.write(\"hieiiiiiii......\")\n",
    "    t.write(\"hloooooooiiiiiiii....\")\n",
    "    t.write(\"haiiiiiiiiiiiii....\")"
   ]
  },
  {
   "cell_type": "code",
   "execution_count": 18,
   "id": "30ee4bf5",
   "metadata": {},
   "outputs": [
    {
     "name": "stdout",
     "output_type": "stream",
     "text": [
      "Today is thursdayTommorow is friday\n"
     ]
    }
   ],
   "source": [
    "with open(\"new.txt\",\"r\") as g:\n",
    "    print(g.read())"
   ]
  },
  {
   "cell_type": "code",
   "execution_count": 17,
   "id": "6a317703",
   "metadata": {},
   "outputs": [
    {
     "data": {
      "text/plain": [
       "'Today is thursdayTommorow is friday'"
      ]
     },
     "execution_count": 17,
     "metadata": {},
     "output_type": "execute_result"
    }
   ],
   "source": [
    "h=open(\"new.txt\",\"r\")\n",
    "h.read()"
   ]
  },
  {
   "cell_type": "code",
   "execution_count": null,
   "id": "7151f771",
   "metadata": {},
   "outputs": [],
   "source": []
  }
 ],
 "metadata": {
  "kernelspec": {
   "display_name": "Python 3 (ipykernel)",
   "language": "python",
   "name": "python3"
  },
  "language_info": {
   "codemirror_mode": {
    "name": "ipython",
    "version": 3
   },
   "file_extension": ".py",
   "mimetype": "text/x-python",
   "name": "python",
   "nbconvert_exporter": "python",
   "pygments_lexer": "ipython3",
   "version": "3.9.12"
  }
 },
 "nbformat": 4,
 "nbformat_minor": 5
}
