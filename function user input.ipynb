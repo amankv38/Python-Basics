{
 "cells": [
  {
   "cell_type": "code",
   "execution_count": 2,
   "id": "87e8e02d",
   "metadata": {},
   "outputs": [
    {
     "name": "stdout",
     "output_type": "stream",
     "text": [
      "Enter a place : payamlm\n",
      "Enter ur correct location : puthyeru\n",
      "puthyeru\n",
      "payamlm\n"
     ]
    }
   ],
   "source": [
    "class state:\n",
    "    def kannur(self,place):\n",
    "        p=input(\"Enter ur correct location : \")\n",
    "        print(p)\n",
    "        print(place)\n",
    "t=state()\n",
    "u=input(\"Enter a place : \")\n",
    "t.kannur(u)"
   ]
  },
  {
   "cell_type": "code",
   "execution_count": null,
   "id": "1d62381f",
   "metadata": {},
   "outputs": [],
   "source": []
  }
 ],
 "metadata": {
  "kernelspec": {
   "display_name": "Python 3 (ipykernel)",
   "language": "python",
   "name": "python3"
  },
  "language_info": {
   "codemirror_mode": {
    "name": "ipython",
    "version": 3
   },
   "file_extension": ".py",
   "mimetype": "text/x-python",
   "name": "python",
   "nbconvert_exporter": "python",
   "pygments_lexer": "ipython3",
   "version": "3.9.12"
  }
 },
 "nbformat": 4,
 "nbformat_minor": 5
}
