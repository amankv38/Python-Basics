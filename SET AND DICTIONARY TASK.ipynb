{
 "cells": [
  {
   "cell_type": "code",
   "execution_count": 1,
   "id": "19a7e642",
   "metadata": {},
   "outputs": [
    {
     "name": "stdout",
     "output_type": "stream",
     "text": [
      "{8848, 2883, 8488, 266, 5774}\n"
     ]
    }
   ],
   "source": [
    "a={266,2883,8488,5774,8848}\n",
    "print(a)"
   ]
  },
  {
   "cell_type": "code",
   "execution_count": 2,
   "id": "c88d1cda",
   "metadata": {},
   "outputs": [
    {
     "name": "stdout",
     "output_type": "stream",
     "text": [
      "{884, 4664, 7577, 5775}\n"
     ]
    }
   ],
   "source": [
    "b={4664,5775,4,884,7577}\n",
    "b.remove(4)\n",
    "print(b)"
   ]
  },
  {
   "cell_type": "code",
   "execution_count": 3,
   "id": "47d0d21e",
   "metadata": {},
   "outputs": [
    {
     "name": "stdout",
     "output_type": "stream",
     "text": [
      "{5888, 55555, 586886, 5688, 4858, 5868}\n"
     ]
    }
   ],
   "source": [
    "c={5888,4858,5688,5868,586886}\n",
    "c.add(55555)\n",
    "print(c)"
   ]
  },
  {
   "cell_type": "code",
   "execution_count": 4,
   "id": "72a536c4",
   "metadata": {},
   "outputs": [
    {
     "name": "stdout",
     "output_type": "stream",
     "text": [
      "set()\n"
     ]
    }
   ],
   "source": [
    "d={47775,485,585884,45885,54884}\n",
    "d.clear()\n",
    "print(d)"
   ]
  },
  {
   "cell_type": "code",
   "execution_count": 5,
   "id": "36675b4f",
   "metadata": {},
   "outputs": [
    {
     "name": "stdout",
     "output_type": "stream",
     "text": [
      "9\n"
     ]
    }
   ],
   "source": [
    "e={52553,28883,27773,7373,72777,38883,4888388,488488,48838883883}\n",
    "print(len(e))"
   ]
  },
  {
   "cell_type": "code",
   "execution_count": 8,
   "id": "9dd66aaf",
   "metadata": {},
   "outputs": [
    {
     "data": {
      "text/plain": [
       "True"
      ]
     },
     "execution_count": 8,
     "metadata": {},
     "output_type": "execute_result"
    }
   ],
   "source": [
    "f={3666,474,3774,4773,37774,3747858,38884}\n",
    "g={3774,37774}\n",
    "g.issubset(f)\n"
   ]
  },
  {
   "cell_type": "code",
   "execution_count": 9,
   "id": "254c0739",
   "metadata": {},
   "outputs": [
    {
     "data": {
      "text/plain": [
       "{44, 45}"
      ]
     },
     "execution_count": 9,
     "metadata": {},
     "output_type": "execute_result"
    }
   ],
   "source": [
    "h={38,39,40,41,42,43,44,45}\n",
    "i={44,45,46,47,48,49,50}\n",
    "h&i"
   ]
  },
  {
   "cell_type": "code",
   "execution_count": 12,
   "id": "275fd133",
   "metadata": {},
   "outputs": [
    {
     "data": {
      "text/plain": [
       "{51, 52, 53, 54, 55, 56, 57, 58, 59, 60, 61, 62, 63, 64, 65, 66, 67}"
      ]
     },
     "execution_count": 12,
     "metadata": {},
     "output_type": "execute_result"
    }
   ],
   "source": [
    "j={51,52,53,54,55,56,57,58,59,60}\n",
    "k={58,59,60,61,62,63,64,65,66,67}\n",
    "j|k\n"
   ]
  },
  {
   "cell_type": "code",
   "execution_count": 15,
   "id": "17b5652b",
   "metadata": {},
   "outputs": [
    {
     "data": {
      "text/plain": [
       "{77, 78, 79}"
      ]
     },
     "execution_count": 15,
     "metadata": {},
     "output_type": "execute_result"
    }
   ],
   "source": [
    "l={69,70,71,72,73,74,75,76}\n",
    "m={73,74,74,74,76,77,78,79}\n",
    "m-l"
   ]
  },
  {
   "cell_type": "code",
   "execution_count": 16,
   "id": "27e78e02",
   "metadata": {},
   "outputs": [],
   "source": [
    "n={80,81,82,83}\n",
    "o={80,81,82,83}\n"
   ]
  },
  {
   "cell_type": "code",
   "execution_count": 19,
   "id": "0850869b",
   "metadata": {},
   "outputs": [
    {
     "name": "stdout",
     "output_type": "stream",
     "text": [
      "384\n",
      "4849\n",
      "8292\n",
      "4774\n",
      "4777\n",
      "383838\n",
      "8383\n"
     ]
    }
   ],
   "source": [
    "p={4777,4774,8383,383838,8292,384,4849}\n",
    "for i in p:\n",
    "    print(i)"
   ]
  },
  {
   "cell_type": "code",
   "execution_count": 22,
   "id": "d5bc3821",
   "metadata": {},
   "outputs": [
    {
     "name": "stdout",
     "output_type": "stream",
     "text": [
      "{112, 113, 114, 115, 116, 111}\n"
     ]
    }
   ],
   "source": [
    "q={111,112,113,114,115,116}\n",
    "r=q.copy()\n",
    "print(r)"
   ]
  },
  {
   "cell_type": "code",
   "execution_count": 23,
   "id": "8c69d7cf",
   "metadata": {},
   "outputs": [
    {
     "data": {
      "text/plain": [
       "{69, 70}"
      ]
     },
     "execution_count": 23,
     "metadata": {},
     "output_type": "execute_result"
    }
   ],
   "source": [
    "s={66,67,68,69,70}\n",
    "t={69,70,71,72,73}\n",
    "s&t"
   ]
  },
  {
   "cell_type": "markdown",
   "id": "8cd6b370",
   "metadata": {},
   "source": [
    "# DICTIONARY TASK"
   ]
  },
  {
   "cell_type": "code",
   "execution_count": 24,
   "id": "a44bccdf",
   "metadata": {},
   "outputs": [
    {
     "data": {
      "text/plain": [
       "{11: 101, 111: 1001, 1111: 10001}"
      ]
     },
     "execution_count": 24,
     "metadata": {},
     "output_type": "execute_result"
    }
   ],
   "source": [
    "a={11:101,111:1001}\n",
    "a[1111]=10001\n",
    "a"
   ]
  },
  {
   "cell_type": "code",
   "execution_count": 29,
   "id": "405c4c5a",
   "metadata": {},
   "outputs": [
    {
     "data": {
      "text/plain": [
       "{12: 122, 13: 103, 14: 104}"
      ]
     },
     "execution_count": 29,
     "metadata": {},
     "output_type": "execute_result"
    }
   ],
   "source": [
    "b={12:102,13:103,14:104}\n",
    "b[12]=122\n",
    "b"
   ]
  },
  {
   "cell_type": "code",
   "execution_count": 30,
   "id": "92c9c854",
   "metadata": {},
   "outputs": [
    {
     "name": "stdout",
     "output_type": "stream",
     "text": [
      "66\n"
     ]
    }
   ],
   "source": [
    "c={11:111,22:222,33:333}\n",
    "print(sum(c))"
   ]
  },
  {
   "cell_type": "code",
   "execution_count": 31,
   "id": "4c1fccc2",
   "metadata": {},
   "outputs": [
    {
     "data": {
      "text/plain": [
       "{44: 444, 66: 666}"
      ]
     },
     "execution_count": 31,
     "metadata": {},
     "output_type": "execute_result"
    }
   ],
   "source": [
    "d={44:444,55:555,66:666}\n",
    "del d[55]\n",
    "d"
   ]
  },
  {
   "cell_type": "code",
   "execution_count": 32,
   "id": "6ba380fd",
   "metadata": {},
   "outputs": [
    {
     "name": "stdout",
     "output_type": "stream",
     "text": [
      "89\n"
     ]
    }
   ],
   "source": [
    "e={\"one\":1,\"orange\":2,\"mango\":9,\"apple\":77}\n",
    "print(sum(e.values()))"
   ]
  },
  {
   "cell_type": "code",
   "execution_count": 38,
   "id": "34d0b70e",
   "metadata": {},
   "outputs": [
    {
     "name": "stdout",
     "output_type": "stream",
     "text": [
      "24\n"
     ]
    }
   ],
   "source": [
    "g={\"one\":1,\"two\":2,\"three\"\n",
    "   :3,\"four\":4}\n",
    "r=1\n",
    "for i in g:\n",
    "    r=r*g[i]\n",
    "print(r)"
   ]
  },
  {
   "cell_type": "code",
   "execution_count": 39,
   "id": "75c78f24",
   "metadata": {},
   "outputs": [
    {
     "name": "stdout",
     "output_type": "stream",
     "text": [
      "dict_keys(['one', 'two', 'three', 'four'])\n"
     ]
    }
   ],
   "source": [
    "print(g.keys())"
   ]
  },
  {
   "cell_type": "code",
   "execution_count": 40,
   "id": "7fbd16fb",
   "metadata": {},
   "outputs": [
    {
     "data": {
      "text/plain": [
       "dict_keys([46, 59, 76])"
      ]
     },
     "execution_count": 40,
     "metadata": {},
     "output_type": "execute_result"
    }
   ],
   "source": [
    "l={46:\"four six\",59:\"five ninr\",76:\"seven six\"}\n",
    "f=l.keys()\n",
    "f\n"
   ]
  },
  {
   "cell_type": "code",
   "execution_count": 41,
   "id": "4900fecb",
   "metadata": {},
   "outputs": [
    {
     "data": {
      "text/plain": [
       "181"
      ]
     },
     "execution_count": 41,
     "metadata": {},
     "output_type": "execute_result"
    }
   ],
   "source": [
    "sum(f)"
   ]
  },
  {
   "cell_type": "code",
   "execution_count": 43,
   "id": "534a9972",
   "metadata": {},
   "outputs": [
    {
     "data": {
      "text/plain": [
       "206264"
      ]
     },
     "execution_count": 43,
     "metadata": {},
     "output_type": "execute_result"
    }
   ],
   "source": [
    "s=1\n",
    "for i in f:\n",
    "    s=s*i\n",
    "s"
   ]
  },
  {
   "cell_type": "code",
   "execution_count": null,
   "id": "aa8ad511",
   "metadata": {},
   "outputs": [],
   "source": []
  }
 ],
 "metadata": {
  "kernelspec": {
   "display_name": "Python 3 (ipykernel)",
   "language": "python",
   "name": "python3"
  },
  "language_info": {
   "codemirror_mode": {
    "name": "ipython",
    "version": 3
   },
   "file_extension": ".py",
   "mimetype": "text/x-python",
   "name": "python",
   "nbconvert_exporter": "python",
   "pygments_lexer": "ipython3",
   "version": "3.9.12"
  }
 },
 "nbformat": 4,
 "nbformat_minor": 5
}
