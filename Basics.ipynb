{
 "cells": [
  {
   "cell_type": "code",
   "execution_count": 1,
   "id": "5cf67221",
   "metadata": {},
   "outputs": [
    {
     "data": {
      "text/plain": [
       "32"
      ]
     },
     "execution_count": 1,
     "metadata": {},
     "output_type": "execute_result"
    }
   ],
   "source": [
    "h=32\n",
    "h"
   ]
  },
  {
   "cell_type": "code",
   "execution_count": 2,
   "id": "dc5c5cfa",
   "metadata": {},
   "outputs": [
    {
     "name": "stdout",
     "output_type": "stream",
     "text": [
      "32\n"
     ]
    }
   ],
   "source": [
    "print(h)"
   ]
  },
  {
   "cell_type": "code",
   "execution_count": 3,
   "id": "3b6d1785",
   "metadata": {},
   "outputs": [
    {
     "name": "stdout",
     "output_type": "stream",
     "text": [
      "<class 'int'>\n"
     ]
    }
   ],
   "source": [
    "print(type(h))"
   ]
  },
  {
   "cell_type": "code",
   "execution_count": 4,
   "id": "134ace01",
   "metadata": {},
   "outputs": [
    {
     "data": {
      "text/plain": [
       "'aman'"
      ]
     },
     "execution_count": 4,
     "metadata": {},
     "output_type": "execute_result"
    }
   ],
   "source": [
    "m='aman'\n",
    "m"
   ]
  },
  {
   "cell_type": "code",
   "execution_count": 5,
   "id": "bfb53f3a",
   "metadata": {},
   "outputs": [
    {
     "data": {
      "text/plain": [
       "'aman'"
      ]
     },
     "execution_count": 5,
     "metadata": {},
     "output_type": "execute_result"
    }
   ],
   "source": [
    "n=\"aman\"\n",
    "n"
   ]
  },
  {
   "cell_type": "code",
   "execution_count": 6,
   "id": "de848bf7",
   "metadata": {},
   "outputs": [
    {
     "name": "stdout",
     "output_type": "stream",
     "text": [
      "aman\n"
     ]
    }
   ],
   "source": [
    "print(n)"
   ]
  },
  {
   "cell_type": "code",
   "execution_count": 7,
   "id": "85504428",
   "metadata": {},
   "outputs": [
    {
     "name": "stdout",
     "output_type": "stream",
     "text": [
      "<class 'str'>\n"
     ]
    }
   ],
   "source": [
    "print(type(n))"
   ]
  },
  {
   "cell_type": "code",
   "execution_count": 8,
   "id": "4e2bed97",
   "metadata": {},
   "outputs": [
    {
     "data": {
      "text/plain": [
       "0.8"
      ]
     },
     "execution_count": 8,
     "metadata": {},
     "output_type": "execute_result"
    }
   ],
   "source": [
    "f=0.8\n",
    "f"
   ]
  },
  {
   "cell_type": "code",
   "execution_count": 9,
   "id": "23c5bade",
   "metadata": {},
   "outputs": [
    {
     "name": "stdout",
     "output_type": "stream",
     "text": [
      "0.8\n"
     ]
    }
   ],
   "source": [
    "print(f)"
   ]
  },
  {
   "cell_type": "code",
   "execution_count": 10,
   "id": "c75c0462",
   "metadata": {},
   "outputs": [
    {
     "name": "stdout",
     "output_type": "stream",
     "text": [
      "<class 'float'>\n"
     ]
    }
   ],
   "source": [
    "print (type(f))"
   ]
  },
  {
   "cell_type": "code",
   "execution_count": 11,
   "id": "2ceb91ae",
   "metadata": {},
   "outputs": [
    {
     "data": {
      "text/plain": [
       "50"
      ]
     },
     "execution_count": 11,
     "metadata": {},
     "output_type": "execute_result"
    }
   ],
   "source": [
    "20+30"
   ]
  },
  {
   "cell_type": "code",
   "execution_count": 12,
   "id": "d970713c",
   "metadata": {},
   "outputs": [],
   "source": [
    "a=40"
   ]
  },
  {
   "cell_type": "markdown",
   "id": "bfaeacc7",
   "metadata": {},
   "source": [
    "#### "
   ]
  },
  {
   "cell_type": "code",
   "execution_count": 13,
   "id": "15677133",
   "metadata": {},
   "outputs": [],
   "source": [
    "a=60\n",
    "b=40\n",
    "c=a+b"
   ]
  },
  {
   "cell_type": "code",
   "execution_count": 14,
   "id": "4c7293e4",
   "metadata": {},
   "outputs": [
    {
     "name": "stdout",
     "output_type": "stream",
     "text": [
      "100\n"
     ]
    }
   ],
   "source": [
    "print(c)"
   ]
  },
  {
   "cell_type": "code",
   "execution_count": 15,
   "id": "2c046e2c",
   "metadata": {},
   "outputs": [
    {
     "data": {
      "text/plain": [
       "int"
      ]
     },
     "execution_count": 15,
     "metadata": {},
     "output_type": "execute_result"
    }
   ],
   "source": [
    "type(c)"
   ]
  },
  {
   "cell_type": "code",
   "execution_count": 16,
   "id": "345f1b5a",
   "metadata": {},
   "outputs": [],
   "source": [
    "f=20\n",
    "g=80\n",
    "t=f+g"
   ]
  },
  {
   "cell_type": "code",
   "execution_count": 17,
   "id": "66c9aba2",
   "metadata": {},
   "outputs": [
    {
     "name": "stdout",
     "output_type": "stream",
     "text": [
      "100\n"
     ]
    }
   ],
   "source": [
    "print(t)"
   ]
  },
  {
   "cell_type": "code",
   "execution_count": 18,
   "id": "d0e35723",
   "metadata": {},
   "outputs": [
    {
     "name": "stdout",
     "output_type": "stream",
     "text": [
      "100\n"
     ]
    }
   ],
   "source": [
    "print(80+20)"
   ]
  },
  {
   "cell_type": "code",
   "execution_count": 19,
   "id": "1108b194",
   "metadata": {},
   "outputs": [
    {
     "name": "stdout",
     "output_type": "stream",
     "text": [
      "100\n"
     ]
    }
   ],
   "source": [
    "print(f+g)"
   ]
  },
  {
   "cell_type": "code",
   "execution_count": 20,
   "id": "855bf8ba",
   "metadata": {},
   "outputs": [
    {
     "name": "stdout",
     "output_type": "stream",
     "text": [
      "it is a negative number\n"
     ]
    }
   ],
   "source": [
    "b=-20\n",
    "if b>0:\n",
    "    print(\"it is a positive number\")\n",
    "else:\n",
    "    print(\"it is a negative number\")"
   ]
  },
  {
   "cell_type": "code",
   "execution_count": 21,
   "id": "f6340778",
   "metadata": {},
   "outputs": [
    {
     "name": "stdout",
     "output_type": "stream",
     "text": [
      "it is a positive number\n"
     ]
    }
   ],
   "source": [
    "c=30\n",
    "if c>0:\n",
    "    print(\"it is a positive number\")\n",
    "elif c<0:\n",
    "    print(\"it is a negative number\")\n",
    "else:\n",
    "    print(\"it is 0\")"
   ]
  },
  {
   "cell_type": "code",
   "execution_count": 22,
   "id": "04033724",
   "metadata": {},
   "outputs": [
    {
     "name": "stdout",
     "output_type": "stream",
     "text": [
      "it is a negative number\n"
     ]
    }
   ],
   "source": [
    "c=-30\n",
    "if c>0:\n",
    "    print(\"it is a positive number\")\n",
    "elif c<0:\n",
    "    print(\"it is a negative number\")\n",
    "else:\n",
    "    print(\"it is 0\")"
   ]
  },
  {
   "cell_type": "code",
   "execution_count": 23,
   "id": "a9a8dd2f",
   "metadata": {},
   "outputs": [
    {
     "name": "stdout",
     "output_type": "stream",
     "text": [
      "it is 0\n"
     ]
    }
   ],
   "source": [
    "c=0\n",
    "if c>0:\n",
    "    print(\"it is a positive number\")\n",
    "elif c<0:\n",
    "    print(\"it is a negative number\")\n",
    "else:\n",
    "    print(\"it is 0\")"
   ]
  },
  {
   "cell_type": "code",
   "execution_count": 24,
   "id": "b59b6b75",
   "metadata": {},
   "outputs": [
    {
     "name": "stdout",
     "output_type": "stream",
     "text": [
      "10\n",
      "20\n",
      "30\n",
      "40\n"
     ]
    }
   ],
   "source": [
    "g=[10,20,30,40]\n",
    "for i in g:\n",
    "    print (i)"
   ]
  },
  {
   "cell_type": "code",
   "execution_count": 25,
   "id": "2a0b1fcc",
   "metadata": {},
   "outputs": [
    {
     "name": "stdout",
     "output_type": "stream",
     "text": [
      "[10, 20, 30, 40]\n"
     ]
    }
   ],
   "source": [
    "g=[10,20,30,40]\n",
    "print(g)"
   ]
  },
  {
   "cell_type": "code",
   "execution_count": 26,
   "id": "b3fcef90",
   "metadata": {},
   "outputs": [
    {
     "name": "stdout",
     "output_type": "stream",
     "text": [
      "it is an even number\n"
     ]
    }
   ],
   "source": [
    "g=6\n",
    "if g%2==0:\n",
    "    print(\"it is an even number\")\n",
    "else:\n",
    "    print(\"it is an odd number\")\n",
    "    "
   ]
  },
  {
   "cell_type": "code",
   "execution_count": 27,
   "id": "bea536da",
   "metadata": {},
   "outputs": [
    {
     "name": "stdout",
     "output_type": "stream",
     "text": [
      "it is an odd number\n"
     ]
    }
   ],
   "source": [
    "g=7\n",
    "if g%2==0:\n",
    "    print(\"it is an even number\")\n",
    "else:\n",
    "    print(\"it is an odd number\")\n",
    "    "
   ]
  },
  {
   "cell_type": "code",
   "execution_count": 28,
   "id": "ae13ebd9",
   "metadata": {},
   "outputs": [
    {
     "name": "stdout",
     "output_type": "stream",
     "text": [
      "b is largest\n"
     ]
    }
   ],
   "source": [
    "a=10\n",
    "b=80\n",
    "c=20\n",
    "if (a>b)and(a>c):\n",
    "    print(\"a is largest\")\n",
    "elif (b>a)and(b>c):\n",
    "    print (\"b is largest\")\n",
    "else:\n",
    "    print(\"c is largest\")"
   ]
  },
  {
   "cell_type": "code",
   "execution_count": 29,
   "id": "538413e2",
   "metadata": {},
   "outputs": [
    {
     "name": "stdout",
     "output_type": "stream",
     "text": [
      "enter your elements6\n",
      "enter your elements4\n",
      "10\n"
     ]
    }
   ],
   "source": [
    "a=int(input(\"enter your elements\"))\n",
    "b=int(input(\"enter your elements\"))\n",
    "print(a+b)"
   ]
  },
  {
   "cell_type": "code",
   "execution_count": 30,
   "id": "bb05b090",
   "metadata": {},
   "outputs": [
    {
     "name": "stdout",
     "output_type": "stream",
     "text": [
      "enter your mark66\n",
      "enter your mark88\n",
      "enter your mark77\n",
      "enter your mark77\n",
      "enter your mark99\n",
      "grade is A\n"
     ]
    }
   ],
   "source": [
    "s1=int(input(\"enter your mark\"))\n",
    "s2=int(input(\"enter your mark\"))\n",
    "s3=int(input(\"enter your mark\"))\n",
    "s4=int(input(\"enter your mark\"))\n",
    "s5=int(input(\"enter your mark\"))\n",
    "avg=(s1+s2+s3+s4+s5)/5\n",
    "if (avg>=90)and(avg<=100):\n",
    "    print(\"grade is A+\")\n",
    "elif(avg>=80)and (avg<=89):\n",
    "    print(\"grade is A\")\n",
    "elif(avg>=70)and (avg<=79):\n",
    "    print(\"grade is B+\")\n",
    "elif(avg>=60)and (avg<=69):\n",
    "    print(\"grade is B\")\n",
    "elif(avg>=50)and (avg<=59):\n",
    "    print(\"grade is C\")\n",
    "elif(avg>=40)and (avg<=49):\n",
    "    print(\"grade is D\")\n",
    "else:\n",
    "    print(\"you are failed\")\n"
   ]
  },
  {
   "cell_type": "code",
   "execution_count": 31,
   "id": "b6737bb8",
   "metadata": {},
   "outputs": [
    {
     "name": "stdout",
     "output_type": "stream",
     "text": [
      "enter your mark66\n",
      "enter your mark66\n",
      "enter your mark77\n",
      "enter your mark88\n",
      "enter your mark44\n",
      "grade is B\n"
     ]
    }
   ],
   "source": [
    "s1=int(input(\"enter your mark\"))\n",
    "s2=int(input(\"enter your mark\"))\n",
    "s3=int(input(\"enter your mark\"))\n",
    "s4=int(input(\"enter your mark\"))\n",
    "s5=int(input(\"enter your mark\"))\n",
    "avg=(s1+s2+s3+s4+s5)/5\n",
    "if (avg>=90)and(avg<=100):\n",
    "    print(\"grade is A+\")\n",
    "elif(avg>=80)and (avg<=89):\n",
    "    print(\"grade is A\")\n",
    "elif(avg>=70)and (avg<=79):\n",
    "    print(\"grade is B+\")\n",
    "elif(avg>=60)and (avg<=69):\n",
    "    print(\"grade is B\")\n",
    "elif(avg>=50)and (avg<=59):\n",
    "    print(\"grade is C\")\n",
    "elif(avg>=40)and (avg<=49):\n",
    "    print(\"grade is D\")\n",
    "else:\n",
    "    print(\"you are failed\")\n"
   ]
  },
  {
   "cell_type": "code",
   "execution_count": 32,
   "id": "a27d8ed2",
   "metadata": {},
   "outputs": [
    {
     "name": "stdout",
     "output_type": "stream",
     "text": [
      "enter the number55\n",
      "enter the number66\n",
      "enter the number44\n",
      "b is largest\n"
     ]
    }
   ],
   "source": [
    "a=int(input(\"enter the number\"))\n",
    "b=int(input(\"enter the number\"))\n",
    "c=int(input(\"enter the number\"))\n",
    "if (a>b)and(a>c):\n",
    "    print(\"a is largest\")\n",
    "elif(b>a)and(b>c):\n",
    "    print(\"b is largest\")\n",
    "else:\n",
    "    print(\"c is largest\")"
   ]
  },
  {
   "cell_type": "code",
   "execution_count": 33,
   "id": "b76a1d4d",
   "metadata": {},
   "outputs": [
    {
     "name": "stdout",
     "output_type": "stream",
     "text": [
      "<class 'int'>\n"
     ]
    }
   ],
   "source": [
    "a=10\n",
    "print(type(a))"
   ]
  },
  {
   "cell_type": "code",
   "execution_count": 77,
   "id": "e1794d6e",
   "metadata": {},
   "outputs": [
    {
     "name": "stdout",
     "output_type": "stream",
     "text": [
      "<class 'str'>\n"
     ]
    }
   ],
   "source": [
    "a=\"10\"\n",
    "print(type(a))"
   ]
  },
  {
   "cell_type": "code",
   "execution_count": 78,
   "id": "aa972dfa",
   "metadata": {},
   "outputs": [
    {
     "name": "stdout",
     "output_type": "stream",
     "text": [
      "400\n"
     ]
    }
   ],
   "source": [
    "a=10\n",
    "b=40\n",
    "c=a*b\n",
    "print(c)"
   ]
  },
  {
   "cell_type": "code",
   "execution_count": 79,
   "id": "26d7eb01",
   "metadata": {},
   "outputs": [
    {
     "name": "stdout",
     "output_type": "stream",
     "text": [
      "6.0\n"
     ]
    }
   ],
   "source": [
    "a=30\n",
    "b=5\n",
    "c=a/b\n",
    "print(c)"
   ]
  },
  {
   "cell_type": "code",
   "execution_count": 80,
   "id": "e1ca0c15",
   "metadata": {},
   "outputs": [
    {
     "name": "stdout",
     "output_type": "stream",
     "text": [
      "0\n"
     ]
    }
   ],
   "source": [
    "a=10\n",
    "b=2\n",
    "c=a%b\n",
    "print(c)"
   ]
  },
  {
   "cell_type": "markdown",
   "id": "b3336c05",
   "metadata": {},
   "source": [
    "# "
   ]
  },
  {
   "cell_type": "code",
   "execution_count": 81,
   "id": "5e43f966",
   "metadata": {},
   "outputs": [
    {
     "name": "stdout",
     "output_type": "stream",
     "text": [
      "1\n"
     ]
    }
   ],
   "source": [
    "a=10\n",
    "b=3\n",
    "c=a%b\n",
    "print(c)"
   ]
  },
  {
   "cell_type": "code",
   "execution_count": 82,
   "id": "1c188e8e",
   "metadata": {},
   "outputs": [
    {
     "data": {
      "text/plain": [
       "11"
      ]
     },
     "execution_count": 82,
     "metadata": {},
     "output_type": "execute_result"
    }
   ],
   "source": [
    "str=\"hello world\"\n",
    "len(str)"
   ]
  },
  {
   "cell_type": "code",
   "execution_count": 83,
   "id": "7cec6d16",
   "metadata": {},
   "outputs": [
    {
     "data": {
      "text/plain": [
       "'Hello world'"
      ]
     },
     "execution_count": 83,
     "metadata": {},
     "output_type": "execute_result"
    }
   ],
   "source": [
    "str.capitalize()"
   ]
  },
  {
   "cell_type": "code",
   "execution_count": 84,
   "id": "488378d9",
   "metadata": {},
   "outputs": [
    {
     "data": {
      "text/plain": [
       "'Hello World'"
      ]
     },
     "execution_count": 84,
     "metadata": {},
     "output_type": "execute_result"
    }
   ],
   "source": [
    "str.title()"
   ]
  },
  {
   "cell_type": "code",
   "execution_count": 85,
   "id": "b5a5bb64",
   "metadata": {},
   "outputs": [
    {
     "data": {
      "text/plain": [
       "'HELLO WORLD'"
      ]
     },
     "execution_count": 85,
     "metadata": {},
     "output_type": "execute_result"
    }
   ],
   "source": [
    "str.upper()"
   ]
  },
  {
   "cell_type": "code",
   "execution_count": 86,
   "id": "a9a09aba",
   "metadata": {},
   "outputs": [
    {
     "data": {
      "text/plain": [
       "'hello world hello'"
      ]
     },
     "execution_count": 86,
     "metadata": {},
     "output_type": "execute_result"
    }
   ],
   "source": [
    "str1=\"HellO WORLD HellO\"\n",
    "str1.lower()"
   ]
  },
  {
   "cell_type": "code",
   "execution_count": 87,
   "id": "a3d59c16",
   "metadata": {},
   "outputs": [
    {
     "data": {
      "text/plain": [
       "4"
      ]
     },
     "execution_count": 87,
     "metadata": {},
     "output_type": "execute_result"
    }
   ],
   "source": [
    "sub=\"l\"\n",
    "str1.count(sub)"
   ]
  },
  {
   "cell_type": "code",
   "execution_count": 88,
   "id": "17336489",
   "metadata": {},
   "outputs": [
    {
     "data": {
      "text/plain": [
       "2"
      ]
     },
     "execution_count": 88,
     "metadata": {},
     "output_type": "execute_result"
    }
   ],
   "source": [
    "sub=\"HellO\"\n",
    "str1.count(sub,0,20)"
   ]
  },
  {
   "cell_type": "code",
   "execution_count": 89,
   "id": "f223ed27",
   "metadata": {},
   "outputs": [
    {
     "data": {
      "text/plain": [
       "True"
      ]
     },
     "execution_count": 89,
     "metadata": {},
     "output_type": "execute_result"
    }
   ],
   "source": [
    "str3=\"welcome666\"\n",
    "str3.isalnum()"
   ]
  },
  {
   "cell_type": "code",
   "execution_count": 90,
   "id": "de55b080",
   "metadata": {},
   "outputs": [
    {
     "data": {
      "text/plain": [
       "False"
      ]
     },
     "execution_count": 90,
     "metadata": {},
     "output_type": "execute_result"
    }
   ],
   "source": [
    "str4=\"welcome aaaa\"\n",
    "str4.isalnum()"
   ]
  },
  {
   "cell_type": "code",
   "execution_count": 91,
   "id": "3b445642",
   "metadata": {},
   "outputs": [
    {
     "data": {
      "text/plain": [
       "False"
      ]
     },
     "execution_count": 91,
     "metadata": {},
     "output_type": "execute_result"
    }
   ],
   "source": [
    "str=\"hello44\"\n",
    "str.isalpha()"
   ]
  },
  {
   "cell_type": "code",
   "execution_count": null,
   "id": "d8751339",
   "metadata": {},
   "outputs": [],
   "source": [
    "\n"
   ]
  },
  {
   "cell_type": "code",
   "execution_count": 92,
   "id": "9955454f",
   "metadata": {},
   "outputs": [
    {
     "data": {
      "text/plain": [
       "True"
      ]
     },
     "execution_count": 92,
     "metadata": {},
     "output_type": "execute_result"
    }
   ],
   "source": [
    "str=\"1234\"\n",
    "str.isdigit()"
   ]
  },
  {
   "cell_type": "code",
   "execution_count": 93,
   "id": "98972f8a",
   "metadata": {},
   "outputs": [
    {
     "data": {
      "text/plain": [
       "True"
      ]
     },
     "execution_count": 93,
     "metadata": {},
     "output_type": "execute_result"
    }
   ],
   "source": [
    "str=\"     \"\n",
    "str.isspace()"
   ]
  },
  {
   "cell_type": "code",
   "execution_count": 94,
   "id": "eec57140",
   "metadata": {},
   "outputs": [
    {
     "data": {
      "text/plain": [
       "False"
      ]
     },
     "execution_count": 94,
     "metadata": {},
     "output_type": "execute_result"
    }
   ],
   "source": [
    "str=\"0   5\"\n",
    "str.isspace()"
   ]
  },
  {
   "cell_type": "code",
   "execution_count": 95,
   "id": "06819340",
   "metadata": {},
   "outputs": [
    {
     "data": {
      "text/plain": [
       "True"
      ]
     },
     "execution_count": 95,
     "metadata": {},
     "output_type": "execute_result"
    }
   ],
   "source": [
    "str=\"erty77ui\"\n",
    "str.islower()"
   ]
  },
  {
   "cell_type": "code",
   "execution_count": 96,
   "id": "17a55cb1",
   "metadata": {},
   "outputs": [
    {
     "data": {
      "text/plain": [
       "True"
      ]
     },
     "execution_count": 96,
     "metadata": {},
     "output_type": "execute_result"
    }
   ],
   "source": [
    "str=\"33lhhh4\"\n",
    "str.islower()"
   ]
  },
  {
   "cell_type": "code",
   "execution_count": 97,
   "id": "abcf4ff8",
   "metadata": {},
   "outputs": [
    {
     "data": {
      "text/plain": [
       "True"
      ]
     },
     "execution_count": 97,
     "metadata": {},
     "output_type": "execute_result"
    }
   ],
   "source": [
    "str=\"SGF6655FF\"\n",
    "str.isupper()"
   ]
  },
  {
   "cell_type": "raw",
   "id": "8464d91d",
   "metadata": {},
   "source": [
    "str=\"Hello World\"\n",
    "str.istitle()"
   ]
  },
  {
   "cell_type": "code",
   "execution_count": 98,
   "id": "143da5a6",
   "metadata": {},
   "outputs": [
    {
     "data": {
      "text/plain": [
       "True"
      ]
     },
     "execution_count": 98,
     "metadata": {},
     "output_type": "execute_result"
    }
   ],
   "source": [
    "str=\"Hello World\"\n",
    "str.istitle()"
   ]
  },
  {
   "cell_type": "code",
   "execution_count": 99,
   "id": "86f3b052",
   "metadata": {},
   "outputs": [
    {
     "data": {
      "text/plain": [
       "False"
      ]
     },
     "execution_count": 99,
     "metadata": {},
     "output_type": "execute_result"
    }
   ],
   "source": [
    "str=\"Hello world\"\n",
    "str.istitle()"
   ]
  },
  {
   "cell_type": "code",
   "execution_count": 147,
   "id": "4314958a",
   "metadata": {},
   "outputs": [
    {
     "data": {
      "text/plain": [
       "' Hello world '"
      ]
     },
     "execution_count": 147,
     "metadata": {},
     "output_type": "execute_result"
    }
   ],
   "source": [
    "str=\"00l Hello world l00\"\n",
    "str.strip(\"0l\")"
   ]
  },
  {
   "cell_type": "code",
   "execution_count": 101,
   "id": "b87cd97e",
   "metadata": {},
   "outputs": [
    {
     "data": {
      "text/plain": [
       "('welc', 'u', 'ome you aman')"
      ]
     },
     "execution_count": 101,
     "metadata": {},
     "output_type": "execute_result"
    }
   ],
   "source": [
    "str=\"welcuome you aman\"\n",
    "str.partition(\"u\")"
   ]
  },
  {
   "cell_type": "code",
   "execution_count": 102,
   "id": "df56f244",
   "metadata": {},
   "outputs": [
    {
     "data": {
      "text/plain": [
       "['welcuome', 'you', 'aman']"
      ]
     },
     "execution_count": 102,
     "metadata": {},
     "output_type": "execute_result"
    }
   ],
   "source": [
    "str.split()"
   ]
  },
  {
   "cell_type": "code",
   "execution_count": 103,
   "id": "3db9552c",
   "metadata": {},
   "outputs": [
    {
     "data": {
      "text/plain": [
       "'WELCUOME YOU AMAN'"
      ]
     },
     "execution_count": 103,
     "metadata": {},
     "output_type": "execute_result"
    }
   ],
   "source": [
    "str.swapcase()"
   ]
  },
  {
   "cell_type": "code",
   "execution_count": 104,
   "id": "7e170354",
   "metadata": {},
   "outputs": [
    {
     "data": {
      "text/plain": [
       "'hELLO wORlD'"
      ]
     },
     "execution_count": 104,
     "metadata": {},
     "output_type": "execute_result"
    }
   ],
   "source": [
    "str=\"Hello WorLd\"\n",
    "str.swapcase()"
   ]
  },
  {
   "cell_type": "code",
   "execution_count": 105,
   "id": "abea6187",
   "metadata": {},
   "outputs": [
    {
     "data": {
      "text/plain": [
       "'H*e*l*l*o* *W*o*r*L*d'"
      ]
     },
     "execution_count": 105,
     "metadata": {},
     "output_type": "execute_result"
    }
   ],
   "source": [
    "t=\"*\"\n",
    "t.join(str)"
   ]
  },
  {
   "cell_type": "markdown",
   "id": "d88cfe61",
   "metadata": {},
   "source": [
    "2 aug"
   ]
  },
  {
   "cell_type": "code",
   "execution_count": 154,
   "id": "e02980d4",
   "metadata": {},
   "outputs": [
    {
     "data": {
      "text/plain": [
       "'this was a car'"
      ]
     },
     "execution_count": 154,
     "metadata": {},
     "output_type": "execute_result"
    }
   ],
   "source": [
    "str=\"this is a car\"\n",
    "str.replace(\" is \",\" was \")"
   ]
  },
  {
   "cell_type": "markdown",
   "id": "7d982c07",
   "metadata": {},
   "source": [
    "LIST"
   ]
  },
  {
   "cell_type": "markdown",
   "id": "a55cbb5b",
   "metadata": {},
   "source": [
    "# LIST\n"
   ]
  },
  {
   "cell_type": "code",
   "execution_count": 107,
   "id": "78af1a7d",
   "metadata": {},
   "outputs": [
    {
     "name": "stdout",
     "output_type": "stream",
     "text": [
      "<class 'list'>\n"
     ]
    }
   ],
   "source": [
    "mylist=[]\n",
    "print(type (mylist))"
   ]
  },
  {
   "cell_type": "code",
   "execution_count": 108,
   "id": "8969adde",
   "metadata": {},
   "outputs": [
    {
     "name": "stdout",
     "output_type": "stream",
     "text": [
      "[1, 2, 3]\n"
     ]
    }
   ],
   "source": [
    "mylist=[1,2,3]\n",
    "print(mylist)"
   ]
  },
  {
   "cell_type": "code",
   "execution_count": 109,
   "id": "54a10988",
   "metadata": {},
   "outputs": [
    {
     "name": "stdout",
     "output_type": "stream",
     "text": [
      "['hello', 1, 2, 3]\n"
     ]
    }
   ],
   "source": [
    "mylist=[\"hello\",1,2,3]\n",
    "print(mylist)\n",
    "    "
   ]
  },
  {
   "cell_type": "code",
   "execution_count": 110,
   "id": "a62f7587",
   "metadata": {},
   "outputs": [
    {
     "name": "stdout",
     "output_type": "stream",
     "text": [
      "['hello', [1, 2, 3]]\n"
     ]
    }
   ],
   "source": [
    "mylist=[\"hello\",[1,2,3]]\n",
    "print(mylist)\n",
    "    "
   ]
  },
  {
   "cell_type": "code",
   "execution_count": 111,
   "id": "90cc888a",
   "metadata": {},
   "outputs": [
    {
     "name": "stdout",
     "output_type": "stream",
     "text": [
      "5\n"
     ]
    }
   ],
   "source": [
    "mylist=[1,2,3,4,5]\n",
    "print(mylist[-1])"
   ]
  },
  {
   "cell_type": "code",
   "execution_count": 112,
   "id": "dec3ebe1",
   "metadata": {},
   "outputs": [
    {
     "name": "stdout",
     "output_type": "stream",
     "text": [
      "4\n"
     ]
    }
   ],
   "source": [
    "mylist=[1,2,3,4,5]\n",
    "print(mylist[-2])"
   ]
  },
  {
   "cell_type": "code",
   "execution_count": 113,
   "id": "eea5f726",
   "metadata": {},
   "outputs": [
    {
     "name": "stdout",
     "output_type": "stream",
     "text": [
      "['hello', 1, 2, 3, 4, 10, 6, 7]\n"
     ]
    }
   ],
   "source": [
    "mylist=[\"hello\",1,2,3,4,5,6,7]\n",
    "mylist[-3]=10\n",
    "print(mylist)"
   ]
  },
  {
   "cell_type": "code",
   "execution_count": null,
   "id": "867b1130",
   "metadata": {},
   "outputs": [],
   "source": []
  },
  {
   "cell_type": "code",
   "execution_count": 114,
   "id": "255c8a50",
   "metadata": {},
   "outputs": [
    {
     "data": {
      "text/plain": [
       "['hello', 1, 2, 3, 4, 10, 6, 7, 20]"
      ]
     },
     "execution_count": 114,
     "metadata": {},
     "output_type": "execute_result"
    }
   ],
   "source": [
    "mylist.append(20)\n",
    "mylist"
   ]
  },
  {
   "cell_type": "code",
   "execution_count": 115,
   "id": "7f4da301",
   "metadata": {},
   "outputs": [
    {
     "data": {
      "text/plain": [
       "['hello', 1, 2, 3, 4, 10, 6, 7, 20, 20, 30, 40, 50]"
      ]
     },
     "execution_count": 115,
     "metadata": {},
     "output_type": "execute_result"
    }
   ],
   "source": [
    "mylist.extend([20,30,40,50])\n",
    "mylist"
   ]
  },
  {
   "cell_type": "code",
   "execution_count": 116,
   "id": "beb90fce",
   "metadata": {},
   "outputs": [
    {
     "data": {
      "text/plain": [
       "['hello', 1, 2, 3, 4, 24, 10, 6, 7, 20, 20, 30, 40, 50]"
      ]
     },
     "execution_count": 116,
     "metadata": {},
     "output_type": "execute_result"
    }
   ],
   "source": [
    "mylist.insert(5,24)\n",
    "mylist"
   ]
  },
  {
   "cell_type": "code",
   "execution_count": 124,
   "id": "f47cff8e",
   "metadata": {},
   "outputs": [
    {
     "ename": "NameError",
     "evalue": "name 'mylist' is not defined",
     "output_type": "error",
     "traceback": [
      "\u001b[1;31m---------------------------------------------------------------------------\u001b[0m",
      "\u001b[1;31mNameError\u001b[0m                                 Traceback (most recent call last)",
      "Input \u001b[1;32mIn [124]\u001b[0m, in \u001b[0;36m<cell line: 1>\u001b[1;34m()\u001b[0m\n\u001b[1;32m----> 1\u001b[0m \u001b[38;5;28;01mdel\u001b[39;00m \u001b[43mmylist\u001b[49m[\u001b[38;5;241m1\u001b[39m]\n\u001b[0;32m      2\u001b[0m mylist\n",
      "\u001b[1;31mNameError\u001b[0m: name 'mylist' is not defined"
     ]
    }
   ],
   "source": [
    "del mylist[1]\n",
    "mylist"
   ]
  },
  {
   "cell_type": "code",
   "execution_count": 118,
   "id": "a553f114",
   "metadata": {},
   "outputs": [],
   "source": [
    "del mylist"
   ]
  },
  {
   "cell_type": "code",
   "execution_count": 119,
   "id": "d53307eb",
   "metadata": {},
   "outputs": [
    {
     "ename": "NameError",
     "evalue": "name 'mylist' is not defined",
     "output_type": "error",
     "traceback": [
      "\u001b[1;31m---------------------------------------------------------------------------\u001b[0m",
      "\u001b[1;31mNameError\u001b[0m                                 Traceback (most recent call last)",
      "Input \u001b[1;32mIn [119]\u001b[0m, in \u001b[0;36m<cell line: 1>\u001b[1;34m()\u001b[0m\n\u001b[1;32m----> 1\u001b[0m \u001b[43mmylist\u001b[49m\n",
      "\u001b[1;31mNameError\u001b[0m: name 'mylist' is not defined"
     ]
    }
   ],
   "source": [
    "mylist"
   ]
  },
  {
   "cell_type": "code",
   "execution_count": 125,
   "id": "bdefaec7",
   "metadata": {},
   "outputs": [
    {
     "data": {
      "text/plain": [
       "['soap', 'shampoo', 'brush', 20, 30, 40, 20]"
      ]
     },
     "execution_count": 125,
     "metadata": {},
     "output_type": "execute_result"
    }
   ],
   "source": [
    "items=[\"soap\",\"shampoo\",\"brush\",\"paste\",20,30,40,20]\n",
    "items.remove(\"paste\")\n",
    "items"
   ]
  },
  {
   "cell_type": "code",
   "execution_count": 126,
   "id": "b4566db5",
   "metadata": {},
   "outputs": [
    {
     "data": {
      "text/plain": [
       "['car', 'bike', 30, 20, 40]"
      ]
     },
     "execution_count": 126,
     "metadata": {},
     "output_type": "execute_result"
    }
   ],
   "source": [
    "items1=[\"car\",\"bike\",20,30,20,40]\n",
    "items1.remove(20)\n",
    "items1"
   ]
  },
  {
   "cell_type": "code",
   "execution_count": 127,
   "id": "08c98647",
   "metadata": {},
   "outputs": [
    {
     "data": {
      "text/plain": [
       "[10, 40, 50]"
      ]
     },
     "execution_count": 127,
     "metadata": {},
     "output_type": "execute_result"
    }
   ],
   "source": [
    "items=[20,30,10,40,50]\n",
    "items[2:]"
   ]
  },
  {
   "cell_type": "code",
   "execution_count": 128,
   "id": "ebadaf42",
   "metadata": {},
   "outputs": [
    {
     "data": {
      "text/plain": [
       "[20, 30, 10, 40]"
      ]
     },
     "execution_count": 128,
     "metadata": {},
     "output_type": "execute_result"
    }
   ],
   "source": [
    "items=[20,30,10,40,50]\n",
    "items[0:-1]"
   ]
  },
  {
   "cell_type": "code",
   "execution_count": 129,
   "id": "98e209c2",
   "metadata": {},
   "outputs": [
    {
     "data": {
      "text/plain": [
       "[20, 30, 10, 40]"
      ]
     },
     "execution_count": 129,
     "metadata": {},
     "output_type": "execute_result"
    }
   ],
   "source": [
    "items=[20,30,10,40,50]\n",
    "items[:4]"
   ]
  },
  {
   "cell_type": "code",
   "execution_count": 130,
   "id": "2af5da2d",
   "metadata": {},
   "outputs": [
    {
     "data": {
      "text/plain": [
       "[10, 40]"
      ]
     },
     "execution_count": 130,
     "metadata": {},
     "output_type": "execute_result"
    }
   ],
   "source": [
    "items=[20,30,10,40,50,40]\n",
    "items[2:4]"
   ]
  },
  {
   "cell_type": "code",
   "execution_count": 131,
   "id": "4667cf1f",
   "metadata": {},
   "outputs": [
    {
     "data": {
      "text/plain": [
       "2"
      ]
     },
     "execution_count": 131,
     "metadata": {},
     "output_type": "execute_result"
    }
   ],
   "source": [
    "items.count(40)"
   ]
  },
  {
   "cell_type": "code",
   "execution_count": 132,
   "id": "50ebcfe5",
   "metadata": {},
   "outputs": [
    {
     "data": {
      "text/plain": [
       "['aman', 'abhijith', 1, 2, 3, 'pranav', 'rithul', 4, 5, 6]"
      ]
     },
     "execution_count": 132,
     "metadata": {},
     "output_type": "execute_result"
    }
   ],
   "source": [
    "list1=[\"aman\",\"abhijith\",1,2,3]\n",
    "list2=[\"pranav\",\"rithul\",4,5,6]\n",
    "list1.extend(list2)\n",
    "list1"
   ]
  },
  {
   "cell_type": "code",
   "execution_count": 133,
   "id": "8eea6a64",
   "metadata": {},
   "outputs": [
    {
     "data": {
      "text/plain": [
       "['pranav', 'rithul', 4, 5, 6, 'aman', 'abhijith', 1, 2, 3]"
      ]
     },
     "execution_count": 133,
     "metadata": {},
     "output_type": "execute_result"
    }
   ],
   "source": [
    "list1=[\"aman\",\"abhijith\",1,2,3]\n",
    "list2=[\"pranav\",\"rithul\",4,5,6]\n",
    "list2.extend(list1)\n",
    "list2"
   ]
  },
  {
   "cell_type": "code",
   "execution_count": 140,
   "id": "6866a83e",
   "metadata": {},
   "outputs": [
    {
     "name": "stdout",
     "output_type": "stream",
     "text": [
      "Enter your location3\n",
      "Enter your data42\n"
     ]
    },
    {
     "data": {
      "text/plain": [
       "[20, 30, 40, 42, 50, 60]"
      ]
     },
     "execution_count": 140,
     "metadata": {},
     "output_type": "execute_result"
    }
   ],
   "source": [
    "mylist=[20,30,40,50,60]\n",
    "a=int(input(\"Enter your location\"))\n",
    "b=int(input(\"Enter your data\"))\n",
    "mylist.insert(a,b)\n",
    "mylist"
   ]
  },
  {
   "cell_type": "code",
   "execution_count": 141,
   "id": "3adf81d9",
   "metadata": {},
   "outputs": [
    {
     "name": "stdout",
     "output_type": "stream",
     "text": [
      "Enter your location3\n"
     ]
    },
    {
     "data": {
      "text/plain": [
       "[20, 30, 40, 60]"
      ]
     },
     "execution_count": 141,
     "metadata": {},
     "output_type": "execute_result"
    }
   ],
   "source": [
    "mylist=[20,30,40,50,60]\n",
    "a=int(input(\"Enter your location\"))\n",
    "del mylist[a]\n",
    "mylist"
   ]
  },
  {
   "cell_type": "code",
   "execution_count": 143,
   "id": "8a58efa5",
   "metadata": {},
   "outputs": [
    {
     "name": "stdout",
     "output_type": "stream",
     "text": [
      "Enter your location40\n"
     ]
    },
    {
     "data": {
      "text/plain": [
       "[20, 30, 50, 60]"
      ]
     },
     "execution_count": 143,
     "metadata": {},
     "output_type": "execute_result"
    }
   ],
   "source": [
    "mylist=[20,30,40,50,60]\n",
    "a=int(input(\"Enter your location\"))\n",
    "mylist.remove(a)\n",
    "mylist"
   ]
  },
  {
   "cell_type": "code",
   "execution_count": 144,
   "id": "ef3dbaa4",
   "metadata": {},
   "outputs": [
    {
     "name": "stdout",
     "output_type": "stream",
     "text": [
      "Enter your location50\n"
     ]
    },
    {
     "data": {
      "text/plain": [
       "[20, 30, 40, 60]"
      ]
     },
     "execution_count": 144,
     "metadata": {},
     "output_type": "execute_result"
    }
   ],
   "source": [
    "mylist=[20,30,40,50,60]\n",
    "a=int(input(\"Enter your location\"))\n",
    "mylist.remove(a)\n",
    "mylist"
   ]
  },
  {
   "cell_type": "code",
   "execution_count": 138,
   "id": "3ecf606e",
   "metadata": {},
   "outputs": [
    {
     "name": "stdout",
     "output_type": "stream",
     "text": [
      "48\n"
     ]
    }
   ],
   "source": [
    "mylist=[\"pranav\",53,48,29,\"rithul\"]\n",
    "print(mylist[2])"
   ]
  },
  {
   "cell_type": "code",
   "execution_count": 139,
   "id": "6e0883ff",
   "metadata": {},
   "outputs": [
    {
     "name": "stdout",
     "output_type": "stream",
     "text": [
      "rithul\n"
     ]
    }
   ],
   "source": [
    "print(mylist[-1])"
   ]
  },
  {
   "cell_type": "code",
   "execution_count": 2,
   "id": "1b53f1df",
   "metadata": {},
   "outputs": [
    {
     "name": "stdout",
     "output_type": "stream",
     "text": [
      "['abhijith', 74, 64, 85, 'anjaly']\n"
     ]
    }
   ],
   "source": [
    "#COPY METHOD\n",
    "mylist=[\"abhijith\",74,64,85,\"anjaly\"]\n",
    "items=mylist\n",
    "print(mylist)\n"
   ]
  },
  {
   "cell_type": "code",
   "execution_count": 156,
   "id": "00ca7ac6",
   "metadata": {},
   "outputs": [
    {
     "name": "stdout",
     "output_type": "stream",
     "text": [
      "['abhijith', 74, 64, 85, 'anjaly']\n"
     ]
    }
   ],
   "source": [
    "print(items)"
   ]
  },
  {
   "cell_type": "code",
   "execution_count": 157,
   "id": "9d9002d1",
   "metadata": {},
   "outputs": [
    {
     "name": "stdout",
     "output_type": "stream",
     "text": [
      "['abhijith', 74, 84, 85, 'anjaly']\n"
     ]
    }
   ],
   "source": [
    "items[2]=84\n",
    "print(items)"
   ]
  },
  {
   "cell_type": "code",
   "execution_count": 158,
   "id": "5451af32",
   "metadata": {},
   "outputs": [
    {
     "name": "stdout",
     "output_type": "stream",
     "text": [
      "['abhijith', 74, 84, 85, 'anjaly']\n"
     ]
    }
   ],
   "source": [
    "print(mylist)"
   ]
  },
  {
   "cell_type": "code",
   "execution_count": 160,
   "id": "fdb7589d",
   "metadata": {},
   "outputs": [
    {
     "name": "stdout",
     "output_type": "stream",
     "text": [
      "['abhijith', 74, 84, 86, 'anjaly']\n",
      "['abhijith', 74, 84, 85, 'anjaly']\n"
     ]
    }
   ],
   "source": [
    "items=mylist.copy()\n",
    "items[3]=86\n",
    "print(items)\n",
    "print(mylist)"
   ]
  },
  {
   "cell_type": "markdown",
   "id": "b391e6ff",
   "metadata": {},
   "source": [
    "# 8 AUG "
   ]
  },
  {
   "cell_type": "markdown",
   "id": "cbfc1564",
   "metadata": {},
   "source": [
    "TASK"
   ]
  },
  {
   "cell_type": "code",
   "execution_count": null,
   "id": "96ec7ba1",
   "metadata": {},
   "outputs": [],
   "source": [
    "a=[\"aman\",53,64,72,]"
   ]
  },
  {
   "cell_type": "code",
   "execution_count": null,
   "id": "11122e8a",
   "metadata": {},
   "outputs": [],
   "source": []
  }
 ],
 "metadata": {
  "kernelspec": {
   "display_name": "Python 3 (ipykernel)",
   "language": "python",
   "name": "python3"
  },
  "language_info": {
   "codemirror_mode": {
    "name": "ipython",
    "version": 3
   },
   "file_extension": ".py",
   "mimetype": "text/x-python",
   "name": "python",
   "nbconvert_exporter": "python",
   "pygments_lexer": "ipython3",
   "version": "3.9.12"
  }
 },
 "nbformat": 4,
 "nbformat_minor": 5
}
