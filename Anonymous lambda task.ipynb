{
 "cells": [
  {
   "cell_type": "code",
   "execution_count": 2,
   "id": "b06860a5",
   "metadata": {},
   "outputs": [
    {
     "name": "stdout",
     "output_type": "stream",
     "text": [
      "The numbers divisible by 2 are :  [22, 44, 66, 88]\n"
     ]
    }
   ],
   "source": [
    "a=[11,22,33,44,55,66,77,88,99,111]\n",
    "b=list(filter(lambda c:(c%2==0),a))\n",
    "print(\"The numbers divisible by 2 are : \",b)"
   ]
  },
  {
   "cell_type": "code",
   "execution_count": 6,
   "id": "975e5e7b",
   "metadata": {},
   "outputs": [
    {
     "name": "stdout",
     "output_type": "stream",
     "text": [
      "[1, 4, 9, 16, 25, 36, 49, 64, 81, 100]\n"
     ]
    }
   ],
   "source": [
    "d=[1,2,3,4,5,6,7,8,9,10]\n",
    "e=list(map(lambda f: f**2,d))\n",
    "print(e)"
   ]
  },
  {
   "cell_type": "code",
   "execution_count": null,
   "id": "30233f5b",
   "metadata": {},
   "outputs": [],
   "source": []
  }
 ],
 "metadata": {
  "kernelspec": {
   "display_name": "Python 3 (ipykernel)",
   "language": "python",
   "name": "python3"
  },
  "language_info": {
   "codemirror_mode": {
    "name": "ipython",
    "version": 3
   },
   "file_extension": ".py",
   "mimetype": "text/x-python",
   "name": "python",
   "nbconvert_exporter": "python",
   "pygments_lexer": "ipython3",
   "version": "3.9.12"
  }
 },
 "nbformat": 4,
 "nbformat_minor": 5
}
