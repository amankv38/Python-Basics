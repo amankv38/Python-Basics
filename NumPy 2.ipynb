{
 "cells": [
  {
   "cell_type": "code",
   "execution_count": 1,
   "id": "06a81318",
   "metadata": {},
   "outputs": [],
   "source": [
    "import numpy as np"
   ]
  },
  {
   "cell_type": "code",
   "execution_count": 2,
   "id": "228315d1",
   "metadata": {},
   "outputs": [
    {
     "data": {
      "text/plain": [
       "array([1, 2, 3, 4, 5, 6, 7, 8, 9, 0])"
      ]
     },
     "execution_count": 2,
     "metadata": {},
     "output_type": "execute_result"
    }
   ],
   "source": [
    "a=np.array([1,2,3,4,5,6,7,8,9,0])\n",
    "a"
   ]
  },
  {
   "cell_type": "code",
   "execution_count": 5,
   "id": "4e26cd39",
   "metadata": {},
   "outputs": [
    {
     "name": "stdout",
     "output_type": "stream",
     "text": [
      "45\n"
     ]
    }
   ],
   "source": [
    "print(a.sum())"
   ]
  },
  {
   "cell_type": "code",
   "execution_count": 6,
   "id": "a2a5bf36",
   "metadata": {},
   "outputs": [
    {
     "name": "stdout",
     "output_type": "stream",
     "text": [
      "9\n"
     ]
    }
   ],
   "source": [
    "print(a.max())"
   ]
  },
  {
   "cell_type": "code",
   "execution_count": 7,
   "id": "dd9e0d52",
   "metadata": {},
   "outputs": [
    {
     "name": "stdout",
     "output_type": "stream",
     "text": [
      "0\n"
     ]
    }
   ],
   "source": [
    "print(a.min())"
   ]
  },
  {
   "cell_type": "code",
   "execution_count": 8,
   "id": "d3617606",
   "metadata": {},
   "outputs": [
    {
     "name": "stdout",
     "output_type": "stream",
     "text": [
      "1\n"
     ]
    }
   ],
   "source": [
    "print(a.ndim)"
   ]
  },
  {
   "cell_type": "code",
   "execution_count": 9,
   "id": "3a63414d",
   "metadata": {},
   "outputs": [
    {
     "name": "stdout",
     "output_type": "stream",
     "text": [
      "10\n"
     ]
    }
   ],
   "source": [
    "print(a.size)"
   ]
  },
  {
   "cell_type": "code",
   "execution_count": 14,
   "id": "53d58d3a",
   "metadata": {},
   "outputs": [
    {
     "ename": "IndexError",
     "evalue": "too many indices for array: array is 1-dimensional, but 2 were indexed",
     "output_type": "error",
     "traceback": [
      "\u001b[1;31m---------------------------------------------------------------------------\u001b[0m",
      "\u001b[1;31mIndexError\u001b[0m                                Traceback (most recent call last)",
      "Input \u001b[1;32mIn [14]\u001b[0m, in \u001b[0;36m<cell line: 1>\u001b[1;34m()\u001b[0m\n\u001b[1;32m----> 1\u001b[0m \u001b[38;5;28mprint\u001b[39m(\u001b[43ma\u001b[49m\u001b[43m[\u001b[49m\u001b[38;5;241;43m0\u001b[39;49m\u001b[43m:\u001b[49m\u001b[43m,\u001b[49m\u001b[38;5;241;43m5\u001b[39;49m\u001b[43m]\u001b[49m)\n",
      "\u001b[1;31mIndexError\u001b[0m: too many indices for array: array is 1-dimensional, but 2 were indexed"
     ]
    }
   ],
   "source": [
    "print(a[0:,5])"
   ]
  },
  {
   "cell_type": "code",
   "execution_count": 16,
   "id": "2cc9d684",
   "metadata": {},
   "outputs": [
    {
     "name": "stdout",
     "output_type": "stream",
     "text": [
      "int32\n"
     ]
    }
   ],
   "source": [
    "print(a.dtype)"
   ]
  },
  {
   "cell_type": "code",
   "execution_count": 17,
   "id": "c73821f5",
   "metadata": {},
   "outputs": [
    {
     "name": "stdout",
     "output_type": "stream",
     "text": [
      "(10,)\n"
     ]
    }
   ],
   "source": [
    "print(a.shape)"
   ]
  },
  {
   "cell_type": "code",
   "execution_count": 18,
   "id": "000c45b7",
   "metadata": {},
   "outputs": [
    {
     "name": "stdout",
     "output_type": "stream",
     "text": [
      "[[1 2 3 4 5]\n",
      " [6 7 8 9 1]]\n"
     ]
    }
   ],
   "source": [
    "d=np.array([(1,2,3,4,5),(6,7,8,9,1)])\n",
    "print(d)"
   ]
  },
  {
   "cell_type": "code",
   "execution_count": 19,
   "id": "1074f1c6",
   "metadata": {},
   "outputs": [
    {
     "name": "stdout",
     "output_type": "stream",
     "text": [
      "10\n"
     ]
    }
   ],
   "source": [
    "print(d.size)"
   ]
  },
  {
   "cell_type": "code",
   "execution_count": 22,
   "id": "a920595a",
   "metadata": {},
   "outputs": [
    {
     "name": "stdout",
     "output_type": "stream",
     "text": [
      "(2, 5)\n"
     ]
    }
   ],
   "source": [
    "print(d.shape)"
   ]
  },
  {
   "cell_type": "code",
   "execution_count": 23,
   "id": "981647e9",
   "metadata": {},
   "outputs": [
    {
     "name": "stdout",
     "output_type": "stream",
     "text": [
      "[[1 2]\n",
      " [3 4]\n",
      " [5 6]\n",
      " [7 8]\n",
      " [9 1]]\n"
     ]
    }
   ],
   "source": [
    "print(d.reshape(5,2))"
   ]
  },
  {
   "cell_type": "code",
   "execution_count": 25,
   "id": "1b240a99",
   "metadata": {},
   "outputs": [
    {
     "name": "stdout",
     "output_type": "stream",
     "text": [
      "[[1.         1.41421356 1.73205081 2.         2.23606798]\n",
      " [2.44948974 2.64575131 2.82842712 3.         1.        ]]\n"
     ]
    }
   ],
   "source": [
    "print(np.sqrt(d))"
   ]
  },
  {
   "cell_type": "code",
   "execution_count": 28,
   "id": "1fa39011",
   "metadata": {},
   "outputs": [
    {
     "name": "stdout",
     "output_type": "stream",
     "text": [
      "[[20 30 40]\n",
      " [50 60 70]]\n"
     ]
    }
   ],
   "source": [
    "t=np.array([(11,22,33),(44,55,66)])\n",
    "y=np.array([(9,8,7),(6,5,4)])\n",
    "print(t+y)"
   ]
  },
  {
   "cell_type": "code",
   "execution_count": 29,
   "id": "9bbeb57d",
   "metadata": {},
   "outputs": [
    {
     "name": "stdout",
     "output_type": "stream",
     "text": [
      "[[ 2 14 26]\n",
      " [38 50 62]]\n"
     ]
    }
   ],
   "source": [
    "print(t-y)"
   ]
  },
  {
   "cell_type": "code",
   "execution_count": 30,
   "id": "1c25ccc8",
   "metadata": {},
   "outputs": [
    {
     "name": "stdout",
     "output_type": "stream",
     "text": [
      "[[ 99 176 231]\n",
      " [264 275 264]]\n"
     ]
    }
   ],
   "source": [
    "print(t*y)"
   ]
  },
  {
   "cell_type": "code",
   "execution_count": 31,
   "id": "a15caf16",
   "metadata": {},
   "outputs": [
    {
     "name": "stdout",
     "output_type": "stream",
     "text": [
      "[[ 1.22222222  2.75        4.71428571]\n",
      " [ 7.33333333 11.         16.5       ]]\n"
     ]
    }
   ],
   "source": [
    "print(t/y)"
   ]
  },
  {
   "cell_type": "code",
   "execution_count": 34,
   "id": "2da74741",
   "metadata": {},
   "outputs": [
    {
     "name": "stdout",
     "output_type": "stream",
     "text": [
      "[[11 22 33]\n",
      " [44 55 66]\n",
      " [ 9  8  7]\n",
      " [ 6  5  4]]\n"
     ]
    }
   ],
   "source": [
    "print(np.vstack((t,y)))"
   ]
  },
  {
   "cell_type": "code",
   "execution_count": 35,
   "id": "1e5ab161",
   "metadata": {},
   "outputs": [
    {
     "name": "stdout",
     "output_type": "stream",
     "text": [
      "[[11 22 33  9  8  7]\n",
      " [44 55 66  6  5  4]]\n"
     ]
    }
   ],
   "source": [
    "print(np.hstack((t,y)))"
   ]
  },
  {
   "cell_type": "code",
   "execution_count": 37,
   "id": "0b4a2dc1",
   "metadata": {},
   "outputs": [
    {
     "name": "stdout",
     "output_type": "stream",
     "text": [
      "[11 22 33 44 55 66]\n"
     ]
    }
   ],
   "source": [
    "print(t.ravel())"
   ]
  },
  {
   "cell_type": "code",
   "execution_count": 38,
   "id": "8067a198",
   "metadata": {},
   "outputs": [
    {
     "name": "stdout",
     "output_type": "stream",
     "text": [
      "[9 8 7 6 5 4]\n"
     ]
    }
   ],
   "source": [
    "print(y.ravel())"
   ]
  },
  {
   "cell_type": "code",
   "execution_count": 39,
   "id": "da2f1d0a",
   "metadata": {},
   "outputs": [
    {
     "data": {
      "text/plain": [
       "array([[1, 2, 3, 4, 5],\n",
       "       [6, 7, 8, 9, 0]])"
      ]
     },
     "execution_count": 39,
     "metadata": {},
     "output_type": "execute_result"
    }
   ],
   "source": [
    "h=np.array([[1,2,3,4,5],[6,7,8,9,0]])\n",
    "h"
   ]
  },
  {
   "cell_type": "code",
   "execution_count": 42,
   "id": "c6b16f93",
   "metadata": {},
   "outputs": [
    {
     "data": {
      "text/plain": [
       "array([[0., 0., 0., 0., 0.],\n",
       "       [0., 0., 0., 0., 0.],\n",
       "       [0., 0., 0., 0., 0.],\n",
       "       [0., 0., 0., 0., 0.],\n",
       "       [0., 0., 0., 0., 0.]])"
      ]
     },
     "execution_count": 42,
     "metadata": {},
     "output_type": "execute_result"
    }
   ],
   "source": [
    "p=np.zeros((5,5))\n",
    "p"
   ]
  },
  {
   "cell_type": "code",
   "execution_count": 44,
   "id": "3751acb2",
   "metadata": {},
   "outputs": [
    {
     "data": {
      "text/plain": [
       "array([[0.99953272, 0.69887924, 0.16965805, 0.74873735, 0.78022028],\n",
       "       [0.89818559, 0.20354002, 0.39775927, 0.4154244 , 0.98812527],\n",
       "       [0.46581669, 0.93278365, 0.64639211, 0.6625077 , 0.56067702],\n",
       "       [0.97647647, 0.14069753, 0.72748214, 0.55577452, 0.498543  ],\n",
       "       [0.30018335, 0.94996793, 0.81089632, 0.46268341, 0.70663746]])"
      ]
     },
     "execution_count": 44,
     "metadata": {},
     "output_type": "execute_result"
    }
   ],
   "source": [
    "g=np.random.random((5,5))\n",
    "g"
   ]
  },
  {
   "cell_type": "code",
   "execution_count": 46,
   "id": "729a97d1",
   "metadata": {},
   "outputs": [
    {
     "data": {
      "text/plain": [
       "array([ 0,  4,  8, 12, 16, 20, 24, 28, 32, 36, 40, 44, 48])"
      ]
     },
     "execution_count": 46,
     "metadata": {},
     "output_type": "execute_result"
    }
   ],
   "source": [
    "f=np.arange(0,50,4)\n",
    "f"
   ]
  },
  {
   "cell_type": "code",
   "execution_count": 47,
   "id": "5d781f67",
   "metadata": {},
   "outputs": [
    {
     "data": {
      "text/plain": [
       "array([1, 2, 3, 4, 5, 6, 7, 7, 6, 5, 4, 3, 2, 1])"
      ]
     },
     "execution_count": 47,
     "metadata": {},
     "output_type": "execute_result"
    }
   ],
   "source": [
    "e=np.array([(1,2,3,4,5,6,7),(7,6,5,4,3,2,1)])\n",
    "h=e.flatten()\n",
    "h"
   ]
  },
  {
   "cell_type": "code",
   "execution_count": null,
   "id": "86129fce",
   "metadata": {},
   "outputs": [],
   "source": []
  }
 ],
 "metadata": {
  "kernelspec": {
   "display_name": "Python 3 (ipykernel)",
   "language": "python",
   "name": "python3"
  },
  "language_info": {
   "codemirror_mode": {
    "name": "ipython",
    "version": 3
   },
   "file_extension": ".py",
   "mimetype": "text/x-python",
   "name": "python",
   "nbconvert_exporter": "python",
   "pygments_lexer": "ipython3",
   "version": "3.9.12"
  }
 },
 "nbformat": 4,
 "nbformat_minor": 5
}
